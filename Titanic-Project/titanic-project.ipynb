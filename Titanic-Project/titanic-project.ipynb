{
 "cells": [
  {
   "cell_type": "markdown",
   "id": "50813a38",
   "metadata": {
    "papermill": {
     "duration": 0.025315,
     "end_time": "2023-08-22T12:32:38.381683",
     "exception": false,
     "start_time": "2023-08-22T12:32:38.356368",
     "status": "completed"
    },
    "tags": []
   },
   "source": [
    "# Introduction \n",
    "*The sinking of Titanic is one of the most notorious shipwrecks in the history. In 1912, during her voyage, the Titanic sank after colliding with an iceberg, 1502 out of 2224 passengers and crew died.*\n",
    "\n",
    "<font color = 'red'>\n",
    "    \n",
    "Content:\n",
    "\n",
    "1. [Loading and Checking the data](#1)   \n",
    "2. [Variable Description](#2)     \n",
    "    * [Univariate Variable Analysis](#3)\n",
    "        * [Categorical Variable](#4) \n",
    "        * [Numerical Variable](#5)\n",
    "3. [Basic Data Analysis](#6)\n",
    "4. [Outlier Detection](#7)    \n",
    "5. [Missing Value](#8) \n",
    "   * [Find Missing Value](#9)\n",
    "   * [Fill Missing Value](#10)\n",
    "6. [Visualization](#11)   \n",
    "   *  [Correlation between SibSp -- Parch -- Age -- Fare -- Survived](#12)\n",
    "   *  [SibSp -- Survived](#13)  \n",
    "   *  [Parch -- Survived](#14) \n",
    "   *  [Pclass -- Survived](#15) \n",
    "   *  [Age -- Survived](#16)  \n",
    "   *  [Pclass -- Survived -- Age](#17)\n",
    "   *  [Embarked -- Sex -- Pclass -- Survived](#18)  \n",
    "   *  [Embarked -- Sex -- Fare -- Survived](#19) \n",
    "   *  [Fill Missing: Age Feature](#20) \n",
    "7. [Feature Engineering](#21)  \n",
    "   *  [Name -- Title](#22)\n",
    "   *  [Family Size](#23) \n",
    "   *  [Embarked](#24)\n",
    "   *  [Ticket](#25)\n",
    "   *  [Pclass](#26)\n",
    "   *  [Sex](#27) \n",
    "   *  [Drop PassengerId and Cabin](#28) \n",
    "8. [Modeling](#29)    \n",
    "   *  [Train - Test Split](#30) \n",
    "   *  [Normalization](#31) \n",
    "   *  [Simple Logistic Regression](#32)\n",
    "   *  [Hyperparameter Tuning -- Grid Search -- Cross Validation](#33) \n",
    "   *  [Ensemble Modeling](#34) \n",
    "   *  [Prediction](#35) "
   ]
  },
  {
   "cell_type": "code",
   "execution_count": 1,
   "id": "549d3e75",
   "metadata": {
    "execution": {
     "iopub.execute_input": "2023-08-22T12:32:38.434456Z",
     "iopub.status.busy": "2023-08-22T12:32:38.433818Z",
     "iopub.status.idle": "2023-08-22T12:32:39.776543Z",
     "shell.execute_reply": "2023-08-22T12:32:39.775474Z"
    },
    "papermill": {
     "duration": 1.372385,
     "end_time": "2023-08-22T12:32:39.778916",
     "exception": false,
     "start_time": "2023-08-22T12:32:38.406531",
     "status": "completed"
    },
    "tags": []
   },
   "outputs": [],
   "source": [
    "\n",
    "import numpy as np # linear algebra\n",
    "import pickle \n",
    "import pandas as pd # data processing, CSV file I/O (e.g. pd.read_csv)\n",
    "import matplotlib.pyplot as plt\n",
    "plt.style.use(\"seaborn-v0_8-whitegrid\")\n",
    "import seaborn as sns\n",
    "import warnings\n",
    "warnings.filterwarnings(\"ignore\") \n",
    "from collections import Counter\n",
    "\n",
    "\n",
    "#import os\n",
    "#for dirname, _, filenames in os.walk('/kaggle/input'):\n",
    "    #for filename in filenames:\n",
    "        #print(os.path.join(dirname, filename))\n"
   ]
  },
  {
   "cell_type": "markdown",
   "id": "e739cea8",
   "metadata": {
    "papermill": {
     "duration": 0.025807,
     "end_time": "2023-08-22T12:32:39.830060",
     "exception": false,
     "start_time": "2023-08-22T12:32:39.804253",
     "status": "completed"
    },
    "tags": []
   },
   "source": [
    "<a id = \"1\"></a><br>\n",
    "# Loading and Checking the data"
   ]
  },
  {
   "cell_type": "code",
   "execution_count": 2,
   "id": "c7e9b8f4",
   "metadata": {
    "execution": {
     "iopub.execute_input": "2023-08-22T12:32:39.882407Z",
     "iopub.status.busy": "2023-08-22T12:32:39.882041Z",
     "iopub.status.idle": "2023-08-22T12:32:39.917973Z",
     "shell.execute_reply": "2023-08-22T12:32:39.916939Z"
    },
    "papermill": {
     "duration": 0.064892,
     "end_time": "2023-08-22T12:32:39.920794",
     "exception": false,
     "start_time": "2023-08-22T12:32:39.855902",
     "status": "completed"
    },
    "tags": []
   },
   "outputs": [],
   "source": [
    "train_df = pd.read_csv(\"train.csv\")\n",
    "test_df = pd.read_csv(\"test.csv\")\n",
    "test_PassengerId = test_df[\"PassengerId\"] "
   ]
  },
  {
   "cell_type": "code",
   "execution_count": 3,
   "id": "300e3a00",
   "metadata": {
    "execution": {
     "iopub.execute_input": "2023-08-22T12:32:39.973390Z",
     "iopub.status.busy": "2023-08-22T12:32:39.972354Z",
     "iopub.status.idle": "2023-08-22T12:32:39.980287Z",
     "shell.execute_reply": "2023-08-22T12:32:39.979221Z"
    },
    "papermill": {
     "duration": 0.036167,
     "end_time": "2023-08-22T12:32:39.982278",
     "exception": false,
     "start_time": "2023-08-22T12:32:39.946111",
     "status": "completed"
    },
    "tags": []
   },
   "outputs": [
    {
     "data": {
      "text/plain": [
       "Index(['PassengerId', 'Survived', 'Pclass', 'Name', 'Sex', 'Age', 'SibSp',\n",
       "       'Parch', 'Ticket', 'Fare', 'Cabin', 'Embarked'],\n",
       "      dtype='object')"
      ]
     },
     "execution_count": 3,
     "metadata": {},
     "output_type": "execute_result"
    }
   ],
   "source": [
    "train_df.columns"
   ]
  },
  {
   "cell_type": "code",
   "execution_count": 4,
   "id": "f54aef82",
   "metadata": {
    "execution": {
     "iopub.execute_input": "2023-08-22T12:32:40.035029Z",
     "iopub.status.busy": "2023-08-22T12:32:40.034636Z",
     "iopub.status.idle": "2023-08-22T12:32:40.056367Z",
     "shell.execute_reply": "2023-08-22T12:32:40.055612Z"
    },
    "papermill": {
     "duration": 0.051292,
     "end_time": "2023-08-22T12:32:40.059181",
     "exception": false,
     "start_time": "2023-08-22T12:32:40.007889",
     "status": "completed"
    },
    "tags": []
   },
   "outputs": [
    {
     "data": {
      "text/html": [
       "<div>\n",
       "<style scoped>\n",
       "    .dataframe tbody tr th:only-of-type {\n",
       "        vertical-align: middle;\n",
       "    }\n",
       "\n",
       "    .dataframe tbody tr th {\n",
       "        vertical-align: top;\n",
       "    }\n",
       "\n",
       "    .dataframe thead th {\n",
       "        text-align: right;\n",
       "    }\n",
       "</style>\n",
       "<table border=\"1\" class=\"dataframe\">\n",
       "  <thead>\n",
       "    <tr style=\"text-align: right;\">\n",
       "      <th></th>\n",
       "      <th>PassengerId</th>\n",
       "      <th>Survived</th>\n",
       "      <th>Pclass</th>\n",
       "      <th>Name</th>\n",
       "      <th>Sex</th>\n",
       "      <th>Age</th>\n",
       "      <th>SibSp</th>\n",
       "      <th>Parch</th>\n",
       "      <th>Ticket</th>\n",
       "      <th>Fare</th>\n",
       "      <th>Cabin</th>\n",
       "      <th>Embarked</th>\n",
       "    </tr>\n",
       "  </thead>\n",
       "  <tbody>\n",
       "    <tr>\n",
       "      <th>0</th>\n",
       "      <td>1</td>\n",
       "      <td>0</td>\n",
       "      <td>3</td>\n",
       "      <td>Braund, Mr. Owen Harris</td>\n",
       "      <td>male</td>\n",
       "      <td>22.0</td>\n",
       "      <td>1</td>\n",
       "      <td>0</td>\n",
       "      <td>A/5 21171</td>\n",
       "      <td>7.2500</td>\n",
       "      <td>NaN</td>\n",
       "      <td>S</td>\n",
       "    </tr>\n",
       "    <tr>\n",
       "      <th>1</th>\n",
       "      <td>2</td>\n",
       "      <td>1</td>\n",
       "      <td>1</td>\n",
       "      <td>Cumings, Mrs. John Bradley (Florence Briggs Th...</td>\n",
       "      <td>female</td>\n",
       "      <td>38.0</td>\n",
       "      <td>1</td>\n",
       "      <td>0</td>\n",
       "      <td>PC 17599</td>\n",
       "      <td>71.2833</td>\n",
       "      <td>C85</td>\n",
       "      <td>C</td>\n",
       "    </tr>\n",
       "    <tr>\n",
       "      <th>2</th>\n",
       "      <td>3</td>\n",
       "      <td>1</td>\n",
       "      <td>3</td>\n",
       "      <td>Heikkinen, Miss. Laina</td>\n",
       "      <td>female</td>\n",
       "      <td>26.0</td>\n",
       "      <td>0</td>\n",
       "      <td>0</td>\n",
       "      <td>STON/O2. 3101282</td>\n",
       "      <td>7.9250</td>\n",
       "      <td>NaN</td>\n",
       "      <td>S</td>\n",
       "    </tr>\n",
       "    <tr>\n",
       "      <th>3</th>\n",
       "      <td>4</td>\n",
       "      <td>1</td>\n",
       "      <td>1</td>\n",
       "      <td>Futrelle, Mrs. Jacques Heath (Lily May Peel)</td>\n",
       "      <td>female</td>\n",
       "      <td>35.0</td>\n",
       "      <td>1</td>\n",
       "      <td>0</td>\n",
       "      <td>113803</td>\n",
       "      <td>53.1000</td>\n",
       "      <td>C123</td>\n",
       "      <td>S</td>\n",
       "    </tr>\n",
       "    <tr>\n",
       "      <th>4</th>\n",
       "      <td>5</td>\n",
       "      <td>0</td>\n",
       "      <td>3</td>\n",
       "      <td>Allen, Mr. William Henry</td>\n",
       "      <td>male</td>\n",
       "      <td>35.0</td>\n",
       "      <td>0</td>\n",
       "      <td>0</td>\n",
       "      <td>373450</td>\n",
       "      <td>8.0500</td>\n",
       "      <td>NaN</td>\n",
       "      <td>S</td>\n",
       "    </tr>\n",
       "  </tbody>\n",
       "</table>\n",
       "</div>"
      ],
      "text/plain": [
       "   PassengerId  Survived  Pclass  \\\n",
       "0            1         0       3   \n",
       "1            2         1       1   \n",
       "2            3         1       3   \n",
       "3            4         1       1   \n",
       "4            5         0       3   \n",
       "\n",
       "                                                Name     Sex   Age  SibSp  \\\n",
       "0                            Braund, Mr. Owen Harris    male  22.0      1   \n",
       "1  Cumings, Mrs. John Bradley (Florence Briggs Th...  female  38.0      1   \n",
       "2                             Heikkinen, Miss. Laina  female  26.0      0   \n",
       "3       Futrelle, Mrs. Jacques Heath (Lily May Peel)  female  35.0      1   \n",
       "4                           Allen, Mr. William Henry    male  35.0      0   \n",
       "\n",
       "   Parch            Ticket     Fare Cabin Embarked  \n",
       "0      0         A/5 21171   7.2500   NaN        S  \n",
       "1      0          PC 17599  71.2833   C85        C  \n",
       "2      0  STON/O2. 3101282   7.9250   NaN        S  \n",
       "3      0            113803  53.1000  C123        S  \n",
       "4      0            373450   8.0500   NaN        S  "
      ]
     },
     "execution_count": 4,
     "metadata": {},
     "output_type": "execute_result"
    }
   ],
   "source": [
    "train_df.head()"
   ]
  },
  {
   "cell_type": "code",
   "execution_count": 5,
   "id": "8bb80b23",
   "metadata": {
    "execution": {
     "iopub.execute_input": "2023-08-22T12:32:40.123187Z",
     "iopub.status.busy": "2023-08-22T12:32:40.122807Z",
     "iopub.status.idle": "2023-08-22T12:32:40.156706Z",
     "shell.execute_reply": "2023-08-22T12:32:40.155932Z"
    },
    "papermill": {
     "duration": 0.064842,
     "end_time": "2023-08-22T12:32:40.158818",
     "exception": false,
     "start_time": "2023-08-22T12:32:40.093976",
     "status": "completed"
    },
    "tags": []
   },
   "outputs": [
    {
     "data": {
      "text/html": [
       "<div>\n",
       "<style scoped>\n",
       "    .dataframe tbody tr th:only-of-type {\n",
       "        vertical-align: middle;\n",
       "    }\n",
       "\n",
       "    .dataframe tbody tr th {\n",
       "        vertical-align: top;\n",
       "    }\n",
       "\n",
       "    .dataframe thead th {\n",
       "        text-align: right;\n",
       "    }\n",
       "</style>\n",
       "<table border=\"1\" class=\"dataframe\">\n",
       "  <thead>\n",
       "    <tr style=\"text-align: right;\">\n",
       "      <th></th>\n",
       "      <th>PassengerId</th>\n",
       "      <th>Survived</th>\n",
       "      <th>Pclass</th>\n",
       "      <th>Age</th>\n",
       "      <th>SibSp</th>\n",
       "      <th>Parch</th>\n",
       "      <th>Fare</th>\n",
       "    </tr>\n",
       "  </thead>\n",
       "  <tbody>\n",
       "    <tr>\n",
       "      <th>count</th>\n",
       "      <td>891.000000</td>\n",
       "      <td>891.000000</td>\n",
       "      <td>891.000000</td>\n",
       "      <td>714.000000</td>\n",
       "      <td>891.000000</td>\n",
       "      <td>891.000000</td>\n",
       "      <td>891.000000</td>\n",
       "    </tr>\n",
       "    <tr>\n",
       "      <th>mean</th>\n",
       "      <td>446.000000</td>\n",
       "      <td>0.383838</td>\n",
       "      <td>2.308642</td>\n",
       "      <td>29.699118</td>\n",
       "      <td>0.523008</td>\n",
       "      <td>0.381594</td>\n",
       "      <td>32.204208</td>\n",
       "    </tr>\n",
       "    <tr>\n",
       "      <th>std</th>\n",
       "      <td>257.353842</td>\n",
       "      <td>0.486592</td>\n",
       "      <td>0.836071</td>\n",
       "      <td>14.526497</td>\n",
       "      <td>1.102743</td>\n",
       "      <td>0.806057</td>\n",
       "      <td>49.693429</td>\n",
       "    </tr>\n",
       "    <tr>\n",
       "      <th>min</th>\n",
       "      <td>1.000000</td>\n",
       "      <td>0.000000</td>\n",
       "      <td>1.000000</td>\n",
       "      <td>0.420000</td>\n",
       "      <td>0.000000</td>\n",
       "      <td>0.000000</td>\n",
       "      <td>0.000000</td>\n",
       "    </tr>\n",
       "    <tr>\n",
       "      <th>25%</th>\n",
       "      <td>223.500000</td>\n",
       "      <td>0.000000</td>\n",
       "      <td>2.000000</td>\n",
       "      <td>20.125000</td>\n",
       "      <td>0.000000</td>\n",
       "      <td>0.000000</td>\n",
       "      <td>7.910400</td>\n",
       "    </tr>\n",
       "    <tr>\n",
       "      <th>50%</th>\n",
       "      <td>446.000000</td>\n",
       "      <td>0.000000</td>\n",
       "      <td>3.000000</td>\n",
       "      <td>28.000000</td>\n",
       "      <td>0.000000</td>\n",
       "      <td>0.000000</td>\n",
       "      <td>14.454200</td>\n",
       "    </tr>\n",
       "    <tr>\n",
       "      <th>75%</th>\n",
       "      <td>668.500000</td>\n",
       "      <td>1.000000</td>\n",
       "      <td>3.000000</td>\n",
       "      <td>38.000000</td>\n",
       "      <td>1.000000</td>\n",
       "      <td>0.000000</td>\n",
       "      <td>31.000000</td>\n",
       "    </tr>\n",
       "    <tr>\n",
       "      <th>max</th>\n",
       "      <td>891.000000</td>\n",
       "      <td>1.000000</td>\n",
       "      <td>3.000000</td>\n",
       "      <td>80.000000</td>\n",
       "      <td>8.000000</td>\n",
       "      <td>6.000000</td>\n",
       "      <td>512.329200</td>\n",
       "    </tr>\n",
       "  </tbody>\n",
       "</table>\n",
       "</div>"
      ],
      "text/plain": [
       "       PassengerId    Survived      Pclass         Age       SibSp  \\\n",
       "count   891.000000  891.000000  891.000000  714.000000  891.000000   \n",
       "mean    446.000000    0.383838    2.308642   29.699118    0.523008   \n",
       "std     257.353842    0.486592    0.836071   14.526497    1.102743   \n",
       "min       1.000000    0.000000    1.000000    0.420000    0.000000   \n",
       "25%     223.500000    0.000000    2.000000   20.125000    0.000000   \n",
       "50%     446.000000    0.000000    3.000000   28.000000    0.000000   \n",
       "75%     668.500000    1.000000    3.000000   38.000000    1.000000   \n",
       "max     891.000000    1.000000    3.000000   80.000000    8.000000   \n",
       "\n",
       "            Parch        Fare  \n",
       "count  891.000000  891.000000  \n",
       "mean     0.381594   32.204208  \n",
       "std      0.806057   49.693429  \n",
       "min      0.000000    0.000000  \n",
       "25%      0.000000    7.910400  \n",
       "50%      0.000000   14.454200  \n",
       "75%      0.000000   31.000000  \n",
       "max      6.000000  512.329200  "
      ]
     },
     "execution_count": 5,
     "metadata": {},
     "output_type": "execute_result"
    }
   ],
   "source": [
    "train_df.describe()"
   ]
  },
  {
   "cell_type": "code",
   "execution_count": 6,
   "id": "32bf9554",
   "metadata": {},
   "outputs": [
    {
     "data": {
      "text/plain": [
       "Index(['PassengerId', 'Pclass', 'Name', 'Sex', 'Age', 'SibSp', 'Parch',\n",
       "       'Ticket', 'Fare', 'Cabin', 'Embarked'],\n",
       "      dtype='object')"
      ]
     },
     "execution_count": 6,
     "metadata": {},
     "output_type": "execute_result"
    }
   ],
   "source": [
    "test_df.columns"
   ]
  },
  {
   "cell_type": "code",
   "execution_count": 7,
   "id": "2f5bfad0",
   "metadata": {
    "execution": {
     "iopub.execute_input": "2023-08-22T12:32:40.211522Z",
     "iopub.status.busy": "2023-08-22T12:32:40.210928Z",
     "iopub.status.idle": "2023-08-22T12:32:40.226729Z",
     "shell.execute_reply": "2023-08-22T12:32:40.225640Z"
    },
    "papermill": {
     "duration": 0.044592,
     "end_time": "2023-08-22T12:32:40.228845",
     "exception": false,
     "start_time": "2023-08-22T12:32:40.184253",
     "status": "completed"
    },
    "tags": []
   },
   "outputs": [
    {
     "data": {
      "text/html": [
       "<div>\n",
       "<style scoped>\n",
       "    .dataframe tbody tr th:only-of-type {\n",
       "        vertical-align: middle;\n",
       "    }\n",
       "\n",
       "    .dataframe tbody tr th {\n",
       "        vertical-align: top;\n",
       "    }\n",
       "\n",
       "    .dataframe thead th {\n",
       "        text-align: right;\n",
       "    }\n",
       "</style>\n",
       "<table border=\"1\" class=\"dataframe\">\n",
       "  <thead>\n",
       "    <tr style=\"text-align: right;\">\n",
       "      <th></th>\n",
       "      <th>PassengerId</th>\n",
       "      <th>Pclass</th>\n",
       "      <th>Name</th>\n",
       "      <th>Sex</th>\n",
       "      <th>Age</th>\n",
       "      <th>SibSp</th>\n",
       "      <th>Parch</th>\n",
       "      <th>Ticket</th>\n",
       "      <th>Fare</th>\n",
       "      <th>Cabin</th>\n",
       "      <th>Embarked</th>\n",
       "    </tr>\n",
       "  </thead>\n",
       "  <tbody>\n",
       "    <tr>\n",
       "      <th>0</th>\n",
       "      <td>892</td>\n",
       "      <td>3</td>\n",
       "      <td>Kelly, Mr. James</td>\n",
       "      <td>male</td>\n",
       "      <td>34.5</td>\n",
       "      <td>0</td>\n",
       "      <td>0</td>\n",
       "      <td>330911</td>\n",
       "      <td>7.8292</td>\n",
       "      <td>NaN</td>\n",
       "      <td>Q</td>\n",
       "    </tr>\n",
       "    <tr>\n",
       "      <th>1</th>\n",
       "      <td>893</td>\n",
       "      <td>3</td>\n",
       "      <td>Wilkes, Mrs. James (Ellen Needs)</td>\n",
       "      <td>female</td>\n",
       "      <td>47.0</td>\n",
       "      <td>1</td>\n",
       "      <td>0</td>\n",
       "      <td>363272</td>\n",
       "      <td>7.0000</td>\n",
       "      <td>NaN</td>\n",
       "      <td>S</td>\n",
       "    </tr>\n",
       "    <tr>\n",
       "      <th>2</th>\n",
       "      <td>894</td>\n",
       "      <td>2</td>\n",
       "      <td>Myles, Mr. Thomas Francis</td>\n",
       "      <td>male</td>\n",
       "      <td>62.0</td>\n",
       "      <td>0</td>\n",
       "      <td>0</td>\n",
       "      <td>240276</td>\n",
       "      <td>9.6875</td>\n",
       "      <td>NaN</td>\n",
       "      <td>Q</td>\n",
       "    </tr>\n",
       "    <tr>\n",
       "      <th>3</th>\n",
       "      <td>895</td>\n",
       "      <td>3</td>\n",
       "      <td>Wirz, Mr. Albert</td>\n",
       "      <td>male</td>\n",
       "      <td>27.0</td>\n",
       "      <td>0</td>\n",
       "      <td>0</td>\n",
       "      <td>315154</td>\n",
       "      <td>8.6625</td>\n",
       "      <td>NaN</td>\n",
       "      <td>S</td>\n",
       "    </tr>\n",
       "    <tr>\n",
       "      <th>4</th>\n",
       "      <td>896</td>\n",
       "      <td>3</td>\n",
       "      <td>Hirvonen, Mrs. Alexander (Helga E Lindqvist)</td>\n",
       "      <td>female</td>\n",
       "      <td>22.0</td>\n",
       "      <td>1</td>\n",
       "      <td>1</td>\n",
       "      <td>3101298</td>\n",
       "      <td>12.2875</td>\n",
       "      <td>NaN</td>\n",
       "      <td>S</td>\n",
       "    </tr>\n",
       "  </tbody>\n",
       "</table>\n",
       "</div>"
      ],
      "text/plain": [
       "   PassengerId  Pclass                                          Name     Sex  \\\n",
       "0          892       3                              Kelly, Mr. James    male   \n",
       "1          893       3              Wilkes, Mrs. James (Ellen Needs)  female   \n",
       "2          894       2                     Myles, Mr. Thomas Francis    male   \n",
       "3          895       3                              Wirz, Mr. Albert    male   \n",
       "4          896       3  Hirvonen, Mrs. Alexander (Helga E Lindqvist)  female   \n",
       "\n",
       "    Age  SibSp  Parch   Ticket     Fare Cabin Embarked  \n",
       "0  34.5      0      0   330911   7.8292   NaN        Q  \n",
       "1  47.0      1      0   363272   7.0000   NaN        S  \n",
       "2  62.0      0      0   240276   9.6875   NaN        Q  \n",
       "3  27.0      0      0   315154   8.6625   NaN        S  \n",
       "4  22.0      1      1  3101298  12.2875   NaN        S  "
      ]
     },
     "execution_count": 7,
     "metadata": {},
     "output_type": "execute_result"
    }
   ],
   "source": [
    "test_df.head()"
   ]
  },
  {
   "cell_type": "code",
   "execution_count": 8,
   "id": "4c496985",
   "metadata": {
    "execution": {
     "iopub.execute_input": "2023-08-22T12:32:40.283805Z",
     "iopub.status.busy": "2023-08-22T12:32:40.283052Z",
     "iopub.status.idle": "2023-08-22T12:32:40.310097Z",
     "shell.execute_reply": "2023-08-22T12:32:40.308876Z"
    },
    "papermill": {
     "duration": 0.058169,
     "end_time": "2023-08-22T12:32:40.312534",
     "exception": false,
     "start_time": "2023-08-22T12:32:40.254365",
     "status": "completed"
    },
    "tags": []
   },
   "outputs": [
    {
     "data": {
      "text/html": [
       "<div>\n",
       "<style scoped>\n",
       "    .dataframe tbody tr th:only-of-type {\n",
       "        vertical-align: middle;\n",
       "    }\n",
       "\n",
       "    .dataframe tbody tr th {\n",
       "        vertical-align: top;\n",
       "    }\n",
       "\n",
       "    .dataframe thead th {\n",
       "        text-align: right;\n",
       "    }\n",
       "</style>\n",
       "<table border=\"1\" class=\"dataframe\">\n",
       "  <thead>\n",
       "    <tr style=\"text-align: right;\">\n",
       "      <th></th>\n",
       "      <th>PassengerId</th>\n",
       "      <th>Pclass</th>\n",
       "      <th>Age</th>\n",
       "      <th>SibSp</th>\n",
       "      <th>Parch</th>\n",
       "      <th>Fare</th>\n",
       "    </tr>\n",
       "  </thead>\n",
       "  <tbody>\n",
       "    <tr>\n",
       "      <th>count</th>\n",
       "      <td>418.000000</td>\n",
       "      <td>418.000000</td>\n",
       "      <td>332.000000</td>\n",
       "      <td>418.000000</td>\n",
       "      <td>418.000000</td>\n",
       "      <td>417.000000</td>\n",
       "    </tr>\n",
       "    <tr>\n",
       "      <th>mean</th>\n",
       "      <td>1100.500000</td>\n",
       "      <td>2.265550</td>\n",
       "      <td>30.272590</td>\n",
       "      <td>0.447368</td>\n",
       "      <td>0.392344</td>\n",
       "      <td>35.627188</td>\n",
       "    </tr>\n",
       "    <tr>\n",
       "      <th>std</th>\n",
       "      <td>120.810458</td>\n",
       "      <td>0.841838</td>\n",
       "      <td>14.181209</td>\n",
       "      <td>0.896760</td>\n",
       "      <td>0.981429</td>\n",
       "      <td>55.907576</td>\n",
       "    </tr>\n",
       "    <tr>\n",
       "      <th>min</th>\n",
       "      <td>892.000000</td>\n",
       "      <td>1.000000</td>\n",
       "      <td>0.170000</td>\n",
       "      <td>0.000000</td>\n",
       "      <td>0.000000</td>\n",
       "      <td>0.000000</td>\n",
       "    </tr>\n",
       "    <tr>\n",
       "      <th>25%</th>\n",
       "      <td>996.250000</td>\n",
       "      <td>1.000000</td>\n",
       "      <td>21.000000</td>\n",
       "      <td>0.000000</td>\n",
       "      <td>0.000000</td>\n",
       "      <td>7.895800</td>\n",
       "    </tr>\n",
       "    <tr>\n",
       "      <th>50%</th>\n",
       "      <td>1100.500000</td>\n",
       "      <td>3.000000</td>\n",
       "      <td>27.000000</td>\n",
       "      <td>0.000000</td>\n",
       "      <td>0.000000</td>\n",
       "      <td>14.454200</td>\n",
       "    </tr>\n",
       "    <tr>\n",
       "      <th>75%</th>\n",
       "      <td>1204.750000</td>\n",
       "      <td>3.000000</td>\n",
       "      <td>39.000000</td>\n",
       "      <td>1.000000</td>\n",
       "      <td>0.000000</td>\n",
       "      <td>31.500000</td>\n",
       "    </tr>\n",
       "    <tr>\n",
       "      <th>max</th>\n",
       "      <td>1309.000000</td>\n",
       "      <td>3.000000</td>\n",
       "      <td>76.000000</td>\n",
       "      <td>8.000000</td>\n",
       "      <td>9.000000</td>\n",
       "      <td>512.329200</td>\n",
       "    </tr>\n",
       "  </tbody>\n",
       "</table>\n",
       "</div>"
      ],
      "text/plain": [
       "       PassengerId      Pclass         Age       SibSp       Parch        Fare\n",
       "count   418.000000  418.000000  332.000000  418.000000  418.000000  417.000000\n",
       "mean   1100.500000    2.265550   30.272590    0.447368    0.392344   35.627188\n",
       "std     120.810458    0.841838   14.181209    0.896760    0.981429   55.907576\n",
       "min     892.000000    1.000000    0.170000    0.000000    0.000000    0.000000\n",
       "25%     996.250000    1.000000   21.000000    0.000000    0.000000    7.895800\n",
       "50%    1100.500000    3.000000   27.000000    0.000000    0.000000   14.454200\n",
       "75%    1204.750000    3.000000   39.000000    1.000000    0.000000   31.500000\n",
       "max    1309.000000    3.000000   76.000000    8.000000    9.000000  512.329200"
      ]
     },
     "execution_count": 8,
     "metadata": {},
     "output_type": "execute_result"
    }
   ],
   "source": [
    "test_df.describe()"
   ]
  },
  {
   "cell_type": "markdown",
   "id": "2cad05ab",
   "metadata": {
    "papermill": {
     "duration": 0.026035,
     "end_time": "2023-08-22T12:32:40.365923",
     "exception": false,
     "start_time": "2023-08-22T12:32:40.339888",
     "status": "completed"
    },
    "tags": []
   },
   "source": [
    "<a id = \"2\"></a><br>\n",
    "\n",
    "# Variable Description\n",
    "\n",
    "1. PassengerId: unique id number to each passenger\n",
    "2. Survived: passenger survive(1) or died(0)\n",
    "3. Pclass: passenger class\n",
    "4. Name: name of passenger\n",
    "5. Sex: gender of passenger\n",
    "6. Age: age of passenger\n",
    "7. SibSp: number of siblings/spouses\n",
    "8. Parch: number of parents/children\n",
    "9. Ticket: ticket number\n",
    "10. Fare: amount of money spend on ticket\n",
    "11. Cabin: cabin category\n",
    "12. Embarked: port where passenger embarked (S = Southampton, Q = Queenstown, C = Cherbourg)\n"
   ]
  },
  {
   "cell_type": "code",
   "execution_count": 9,
   "id": "72aaac32",
   "metadata": {
    "execution": {
     "iopub.execute_input": "2023-08-22T12:32:40.421195Z",
     "iopub.status.busy": "2023-08-22T12:32:40.420474Z",
     "iopub.status.idle": "2023-08-22T12:32:40.444020Z",
     "shell.execute_reply": "2023-08-22T12:32:40.442635Z"
    },
    "papermill": {
     "duration": 0.053377,
     "end_time": "2023-08-22T12:32:40.446211",
     "exception": false,
     "start_time": "2023-08-22T12:32:40.392834",
     "status": "completed"
    },
    "tags": []
   },
   "outputs": [
    {
     "name": "stdout",
     "output_type": "stream",
     "text": [
      "<class 'pandas.core.frame.DataFrame'>\n",
      "RangeIndex: 891 entries, 0 to 890\n",
      "Data columns (total 12 columns):\n",
      " #   Column       Non-Null Count  Dtype  \n",
      "---  ------       --------------  -----  \n",
      " 0   PassengerId  891 non-null    int64  \n",
      " 1   Survived     891 non-null    int64  \n",
      " 2   Pclass       891 non-null    int64  \n",
      " 3   Name         891 non-null    object \n",
      " 4   Sex          891 non-null    object \n",
      " 5   Age          714 non-null    float64\n",
      " 6   SibSp        891 non-null    int64  \n",
      " 7   Parch        891 non-null    int64  \n",
      " 8   Ticket       891 non-null    object \n",
      " 9   Fare         891 non-null    float64\n",
      " 10  Cabin        204 non-null    object \n",
      " 11  Embarked     889 non-null    object \n",
      "dtypes: float64(2), int64(5), object(5)\n",
      "memory usage: 83.7+ KB\n"
     ]
    }
   ],
   "source": [
    "train_df.info()"
   ]
  },
  {
   "cell_type": "markdown",
   "id": "795caf6d",
   "metadata": {
    "papermill": {
     "duration": 0.025689,
     "end_time": "2023-08-22T12:32:40.498448",
     "exception": false,
     "start_time": "2023-08-22T12:32:40.472759",
     "status": "completed"
    },
    "tags": []
   },
   "source": [
    "* **float64(2)**: Fare and Age\n",
    "* **int64(5)**: PassengerId , Survived , Pclass , SibSp , Parch\n",
    "* **object(5)**: Name , Sex , Ticket , Cabin , Embarked"
   ]
  },
  {
   "cell_type": "markdown",
   "id": "c461d178",
   "metadata": {
    "papermill": {
     "duration": 0.025372,
     "end_time": "2023-08-22T12:32:40.550019",
     "exception": false,
     "start_time": "2023-08-22T12:32:40.524647",
     "status": "completed"
    },
    "tags": []
   },
   "source": [
    "<a id = \"3\"></a><br>\n",
    "# Univariate Variable Analysis\n",
    "* Categorical Variable: Survived , Sex , Pclass , Embarked , Cabin , Name , Ticket , SibSp , Parch \n",
    "* Numerical Variable: Fare , PassengerId , Age"
   ]
  },
  {
   "cell_type": "markdown",
   "id": "1df15059",
   "metadata": {
    "papermill": {
     "duration": 0.025445,
     "end_time": "2023-08-22T12:32:40.601249",
     "exception": false,
     "start_time": "2023-08-22T12:32:40.575804",
     "status": "completed"
    },
    "tags": []
   },
   "source": [
    "<a id = \"4\"></a><br>\n",
    "## Categorical Variable"
   ]
  },
  {
   "cell_type": "code",
   "execution_count": 10,
   "id": "16e3f6e8",
   "metadata": {
    "execution": {
     "iopub.execute_input": "2023-08-22T12:32:40.655069Z",
     "iopub.status.busy": "2023-08-22T12:32:40.654237Z",
     "iopub.status.idle": "2023-08-22T12:32:40.660501Z",
     "shell.execute_reply": "2023-08-22T12:32:40.659686Z"
    },
    "papermill": {
     "duration": 0.035442,
     "end_time": "2023-08-22T12:32:40.662523",
     "exception": false,
     "start_time": "2023-08-22T12:32:40.627081",
     "status": "completed"
    },
    "tags": []
   },
   "outputs": [],
   "source": [
    "def bar_plot(variable):\n",
    "    \n",
    "    # get feature\n",
    "    var = train_df[variable]\n",
    "    # count number of categorical variable(variable/sample)\n",
    "    varValue = var.value_counts()\n",
    "    \n",
    "    # visualize\n",
    "    plt.figure(figsize = (9,3))\n",
    "    plt.bar(varValue.index, varValue)\n",
    "    plt.xticks(varValue.index, varValue.index.values)\n",
    "    plt.ylabel(\"Frequency\")\n",
    "    plt.title(variable)\n",
    "    plt.show()\n",
    "    print(\"{}: \\n {}\".format(variable,varValue))"
   ]
  },
  {
   "cell_type": "code",
   "execution_count": 11,
   "id": "1f8979da",
   "metadata": {
    "execution": {
     "iopub.execute_input": "2023-08-22T12:32:40.716853Z",
     "iopub.status.busy": "2023-08-22T12:32:40.716170Z",
     "iopub.status.idle": "2023-08-22T12:32:41.839687Z",
     "shell.execute_reply": "2023-08-22T12:32:41.838633Z"
    },
    "papermill": {
     "duration": 1.153196,
     "end_time": "2023-08-22T12:32:41.841929",
     "exception": false,
     "start_time": "2023-08-22T12:32:40.688733",
     "status": "completed"
    },
    "tags": []
   },
   "outputs": [
    {
     "data": {
      "image/png": "[encoded data removed]",
      "text/plain": [
       "<Figure size 900x300 with 1 Axes>"
      ]
     },
     "metadata": {},
     "output_type": "display_data"
    },
    {
     "name": "stdout",
     "output_type": "stream",
     "text": [
      "Survived: \n",
      " 0    549\n",
      "1    342\n",
      "Name: Survived, dtype: int64\n"
     ]
    },
    {
     "data": {
      "image/png": "[encoded data removed]",
      "text/plain": [
       "<Figure size 900x300 with 1 Axes>"
      ]
     },
     "metadata": {},
     "output_type": "display_data"
    },
    {
     "name": "stdout",
     "output_type": "stream",
     "text": [
      "Sex: \n",
      " male      577\n",
      "female    314\n",
      "Name: Sex, dtype: int64\n"
     ]
    },
    {
     "data": {
      "image/png": "[encoded data removed]",
      "text/plain": [
       "<Figure size 900x300 with 1 Axes>"
      ]
     },
     "metadata": {},
     "output_type": "display_data"
    },
    {
     "name": "stdout",
     "output_type": "stream",
     "text": [
      "Pclass: \n",
      " 3    491\n",
      "1    216\n",
      "2    184\n",
      "Name: Pclass, dtype: int64\n"
     ]
    },
    {
     "data": {
      "image/png": "[encoded data removed]",
      "text/plain": [
       "<Figure size 900x300 with 1 Axes>"
      ]
     },
     "metadata": {},
     "output_type": "display_data"
    },
    {
     "name": "stdout",
     "output_type": "stream",
     "text": [
      "Embarked: \n",
      " S    644\n",
      "C    168\n",
      "Q     77\n",
      "Name: Embarked, dtype: int64\n"
     ]
    },
    {
     "data": {
      "image/png": "[encoded data removed]",
      "text/plain": [
       "<Figure size 900x300 with 1 Axes>"
      ]
     },
     "metadata": {},
     "output_type": "display_data"
    },
    {
     "name": "stdout",
     "output_type": "stream",
     "text": [
      "SibSp: \n",
      " 0    608\n",
      "1    209\n",
      "2     28\n",
      "4     18\n",
      "3     16\n",
      "8      7\n",
      "5      5\n",
      "Name: SibSp, dtype: int64\n"
     ]
    },
    {
     "data": {
      "image/png": "[encoded data removed]",
      "text/plain": [
       "<Figure size 900x300 with 1 Axes>"
      ]
     },
     "metadata": {},
     "output_type": "display_data"
    },
    {
     "name": "stdout",
     "output_type": "stream",
     "text": [
      "Parch: \n",
      " 0    678\n",
      "1    118\n",
      "2     80\n",
      "5      5\n",
      "3      5\n",
      "4      4\n",
      "6      1\n",
      "Name: Parch, dtype: int64\n"
     ]
    }
   ],
   "source": [
    "category1 = [\"Survived\",\"Sex\",\"Pclass\",\"Embarked\",\"SibSp\",\"Parch\"]\n",
    "for c in category1:\n",
    "    bar_plot(c)"
   ]
  },
  {
   "cell_type": "code",
   "execution_count": 12,
   "id": "6b5801e6",
   "metadata": {
    "execution": {
     "iopub.execute_input": "2023-08-22T12:32:41.900235Z",
     "iopub.status.busy": "2023-08-22T12:32:41.899868Z",
     "iopub.status.idle": "2023-08-22T12:32:41.911424Z",
     "shell.execute_reply": "2023-08-22T12:32:41.910272Z"
    },
    "papermill": {
     "duration": 0.04319,
     "end_time": "2023-08-22T12:32:41.913327",
     "exception": false,
     "start_time": "2023-08-22T12:32:41.870137",
     "status": "completed"
    },
    "tags": []
   },
   "outputs": [
    {
     "name": "stdout",
     "output_type": "stream",
     "text": [
      "B96 B98        4\n",
      "G6             4\n",
      "C23 C25 C27    4\n",
      "C22 C26        3\n",
      "F33            3\n",
      "              ..\n",
      "E34            1\n",
      "C7             1\n",
      "C54            1\n",
      "E36            1\n",
      "C148           1\n",
      "Name: Cabin, Length: 147, dtype: int64 \n",
      "\n",
      "Braund, Mr. Owen Harris                     1\n",
      "Boulos, Mr. Hanna                           1\n",
      "Frolicher-Stehli, Mr. Maxmillian            1\n",
      "Gilinski, Mr. Eliezer                       1\n",
      "Murdlin, Mr. Joseph                         1\n",
      "                                           ..\n",
      "Kelly, Miss. Anna Katherine \"Annie Kate\"    1\n",
      "McCoy, Mr. Bernard                          1\n",
      "Johnson, Mr. William Cahoone Jr             1\n",
      "Keane, Miss. Nora A                         1\n",
      "Dooley, Mr. Patrick                         1\n",
      "Name: Name, Length: 891, dtype: int64 \n",
      "\n",
      "347082      7\n",
      "CA. 2343    7\n",
      "1601        7\n",
      "3101295     6\n",
      "CA 2144     6\n",
      "           ..\n",
      "9234        1\n",
      "19988       1\n",
      "2693        1\n",
      "PC 17612    1\n",
      "370376      1\n",
      "Name: Ticket, Length: 681, dtype: int64 \n",
      "\n"
     ]
    }
   ],
   "source": [
    "category2 = [\"Cabin\", \"Name\", \"Ticket\"]\n",
    "for c in category2:\n",
    "    print(\"{} \\n\".format(train_df[c].value_counts()))"
   ]
  },
  {
   "cell_type": "markdown",
   "id": "a7d31f2f",
   "metadata": {
    "papermill": {
     "duration": 0.027358,
     "end_time": "2023-08-22T12:32:41.968425",
     "exception": false,
     "start_time": "2023-08-22T12:32:41.941067",
     "status": "completed"
    },
    "tags": []
   },
   "source": [
    "<a id = \"5\"></a><br>\n",
    "## Numerical Variable"
   ]
  },
  {
   "cell_type": "code",
   "execution_count": 13,
   "id": "570676ea",
   "metadata": {
    "execution": {
     "iopub.execute_input": "2023-08-22T12:32:42.027172Z",
     "iopub.status.busy": "2023-08-22T12:32:42.026397Z",
     "iopub.status.idle": "2023-08-22T12:32:42.032339Z",
     "shell.execute_reply": "2023-08-22T12:32:42.031226Z"
    },
    "papermill": {
     "duration": 0.03882,
     "end_time": "2023-08-22T12:32:42.034912",
     "exception": false,
     "start_time": "2023-08-22T12:32:41.996092",
     "status": "completed"
    },
    "tags": []
   },
   "outputs": [],
   "source": [
    "def hist_plot(variable):\n",
    "    plt.figure(figsize = (9,3))\n",
    "    plt.hist(train_df[variable], bins = 50)\n",
    "    plt.xlabel(variable)\n",
    "    plt.ylabel(\"Frequency\")\n",
    "    plt.title(\"{} distribution with hist\".format(variable))\n",
    "    plt.show()"
   ]
  },
  {
   "cell_type": "code",
   "execution_count": 14,
   "id": "1cf56544",
   "metadata": {
    "execution": {
     "iopub.execute_input": "2023-08-22T12:32:42.093465Z",
     "iopub.status.busy": "2023-08-22T12:32:42.092850Z",
     "iopub.status.idle": "2023-08-22T12:32:42.978849Z",
     "shell.execute_reply": "2023-08-22T12:32:42.977730Z"
    },
    "papermill": {
     "duration": 0.917699,
     "end_time": "2023-08-22T12:32:42.981028",
     "exception": false,
     "start_time": "2023-08-22T12:32:42.063329",
     "status": "completed"
    },
    "tags": []
   },
   "outputs": [
    {
     "data": {
      "image/png": "[encoded data removed]",
      "text/plain": [
       "<Figure size 900x300 with 1 Axes>"
      ]
     },
     "metadata": {},
     "output_type": "display_data"
    },
    {
     "data": {
      "image/png": "[encoded data removed]",
      "text/plain": [
       "<Figure size 900x300 with 1 Axes>"
      ]
     },
     "metadata": {},
     "output_type": "display_data"
    },
    {
     "data": {
      "image/png": "[encoded data removed]",
      "text/plain": [
       "<Figure size 900x300 with 1 Axes>"
      ]
     },
     "metadata": {},
     "output_type": "display_data"
    }
   ],
   "source": [
    "numericVar = [\"Fare\", \"PassengerId\", \"Age\"]\n",
    "for n in numericVar:\n",
    "    hist_plot(n)"
   ]
  },
  {
   "cell_type": "markdown",
   "id": "5f2dde0b",
   "metadata": {
    "papermill": {
     "duration": 0.029358,
     "end_time": "2023-08-22T12:32:43.039901",
     "exception": false,
     "start_time": "2023-08-22T12:32:43.010543",
     "status": "completed"
    },
    "tags": []
   },
   "source": [
    "<a id = \"6\"></a><br>\n",
    "# Basic Data Analysis\n",
    "* Pclass - Survived\n",
    "* Sex - Survived\n",
    "* SibSp - Survived\n",
    "* Parch - Survived"
   ]
  },
  {
   "cell_type": "code",
   "execution_count": 15,
   "id": "dc92eb8f",
   "metadata": {
    "execution": {
     "iopub.execute_input": "2023-08-22T12:32:43.100307Z",
     "iopub.status.busy": "2023-08-22T12:32:43.099915Z",
     "iopub.status.idle": "2023-08-22T12:32:43.112664Z",
     "shell.execute_reply": "2023-08-22T12:32:43.111577Z"
    },
    "papermill": {
     "duration": 0.045417,
     "end_time": "2023-08-22T12:32:43.114878",
     "exception": false,
     "start_time": "2023-08-22T12:32:43.069461",
     "status": "completed"
    },
    "tags": []
   },
   "outputs": [
    {
     "data": {
      "text/html": [
       "<div>\n",
       "<style scoped>\n",
       "    .dataframe tbody tr th:only-of-type {\n",
       "        vertical-align: middle;\n",
       "    }\n",
       "\n",
       "    .dataframe tbody tr th {\n",
       "        vertical-align: top;\n",
       "    }\n",
       "\n",
       "    .dataframe thead th {\n",
       "        text-align: right;\n",
       "    }\n",
       "</style>\n",
       "<table border=\"1\" class=\"dataframe\">\n",
       "  <thead>\n",
       "    <tr style=\"text-align: right;\">\n",
       "      <th></th>\n",
       "      <th>Pclass</th>\n",
       "      <th>Survived</th>\n",
       "    </tr>\n",
       "  </thead>\n",
       "  <tbody>\n",
       "    <tr>\n",
       "      <th>0</th>\n",
       "      <td>3</td>\n",
       "      <td>0</td>\n",
       "    </tr>\n",
       "    <tr>\n",
       "      <th>1</th>\n",
       "      <td>1</td>\n",
       "      <td>1</td>\n",
       "    </tr>\n",
       "    <tr>\n",
       "      <th>2</th>\n",
       "      <td>3</td>\n",
       "      <td>1</td>\n",
       "    </tr>\n",
       "    <tr>\n",
       "      <th>3</th>\n",
       "      <td>1</td>\n",
       "      <td>1</td>\n",
       "    </tr>\n",
       "    <tr>\n",
       "      <th>4</th>\n",
       "      <td>3</td>\n",
       "      <td>0</td>\n",
       "    </tr>\n",
       "    <tr>\n",
       "      <th>...</th>\n",
       "      <td>...</td>\n",
       "      <td>...</td>\n",
       "    </tr>\n",
       "    <tr>\n",
       "      <th>886</th>\n",
       "      <td>2</td>\n",
       "      <td>0</td>\n",
       "    </tr>\n",
       "    <tr>\n",
       "      <th>887</th>\n",
       "      <td>1</td>\n",
       "      <td>1</td>\n",
       "    </tr>\n",
       "    <tr>\n",
       "      <th>888</th>\n",
       "      <td>3</td>\n",
       "      <td>0</td>\n",
       "    </tr>\n",
       "    <tr>\n",
       "      <th>889</th>\n",
       "      <td>1</td>\n",
       "      <td>1</td>\n",
       "    </tr>\n",
       "    <tr>\n",
       "      <th>890</th>\n",
       "      <td>3</td>\n",
       "      <td>0</td>\n",
       "    </tr>\n",
       "  </tbody>\n",
       "</table>\n",
       "<p>891 rows × 2 columns</p>\n",
       "</div>"
      ],
      "text/plain": [
       "     Pclass  Survived\n",
       "0         3         0\n",
       "1         1         1\n",
       "2         3         1\n",
       "3         1         1\n",
       "4         3         0\n",
       "..      ...       ...\n",
       "886       2         0\n",
       "887       1         1\n",
       "888       3         0\n",
       "889       1         1\n",
       "890       3         0\n",
       "\n",
       "[891 rows x 2 columns]"
      ]
     },
     "execution_count": 15,
     "metadata": {},
     "output_type": "execute_result"
    }
   ],
   "source": [
    "train_df[[\"Pclass\",\"Survived\"]]"
   ]
  },
  {
   "cell_type": "code",
   "execution_count": 16,
   "id": "2ab8b3ea",
   "metadata": {
    "execution": {
     "iopub.execute_input": "2023-08-22T12:32:43.175792Z",
     "iopub.status.busy": "2023-08-22T12:32:43.175383Z",
     "iopub.status.idle": "2023-08-22T12:32:43.190136Z",
     "shell.execute_reply": "2023-08-22T12:32:43.189201Z"
    },
    "papermill": {
     "duration": 0.047734,
     "end_time": "2023-08-22T12:32:43.192161",
     "exception": false,
     "start_time": "2023-08-22T12:32:43.144427",
     "status": "completed"
    },
    "tags": []
   },
   "outputs": [
    {
     "data": {
      "text/html": [
       "<div>\n",
       "<style scoped>\n",
       "    .dataframe tbody tr th:only-of-type {\n",
       "        vertical-align: middle;\n",
       "    }\n",
       "\n",
       "    .dataframe tbody tr th {\n",
       "        vertical-align: top;\n",
       "    }\n",
       "\n",
       "    .dataframe thead th {\n",
       "        text-align: right;\n",
       "    }\n",
       "</style>\n",
       "<table border=\"1\" class=\"dataframe\">\n",
       "  <thead>\n",
       "    <tr style=\"text-align: right;\">\n",
       "      <th></th>\n",
       "      <th>Pclass</th>\n",
       "      <th>Survived</th>\n",
       "    </tr>\n",
       "  </thead>\n",
       "  <tbody>\n",
       "    <tr>\n",
       "      <th>0</th>\n",
       "      <td>1</td>\n",
       "      <td>0.629630</td>\n",
       "    </tr>\n",
       "    <tr>\n",
       "      <th>1</th>\n",
       "      <td>2</td>\n",
       "      <td>0.472826</td>\n",
       "    </tr>\n",
       "    <tr>\n",
       "      <th>2</th>\n",
       "      <td>3</td>\n",
       "      <td>0.242363</td>\n",
       "    </tr>\n",
       "  </tbody>\n",
       "</table>\n",
       "</div>"
      ],
      "text/plain": [
       "   Pclass  Survived\n",
       "0       1  0.629630\n",
       "1       2  0.472826\n",
       "2       3  0.242363"
      ]
     },
     "execution_count": 16,
     "metadata": {},
     "output_type": "execute_result"
    }
   ],
   "source": [
    "train_df[[\"Pclass\",\"Survived\"]].groupby([\"Pclass\"], as_index = False).mean()"
   ]
  },
  {
   "cell_type": "code",
   "execution_count": 17,
   "id": "bd54c89e",
   "metadata": {
    "execution": {
     "iopub.execute_input": "2023-08-22T12:32:43.253667Z",
     "iopub.status.busy": "2023-08-22T12:32:43.253081Z",
     "iopub.status.idle": "2023-08-22T12:32:43.266138Z",
     "shell.execute_reply": "2023-08-22T12:32:43.264926Z"
    },
    "papermill": {
     "duration": 0.04659,
     "end_time": "2023-08-22T12:32:43.268495",
     "exception": false,
     "start_time": "2023-08-22T12:32:43.221905",
     "status": "completed"
    },
    "tags": []
   },
   "outputs": [
    {
     "data": {
      "text/html": [
       "<div>\n",
       "<style scoped>\n",
       "    .dataframe tbody tr th:only-of-type {\n",
       "        vertical-align: middle;\n",
       "    }\n",
       "\n",
       "    .dataframe tbody tr th {\n",
       "        vertical-align: top;\n",
       "    }\n",
       "\n",
       "    .dataframe thead th {\n",
       "        text-align: right;\n",
       "    }\n",
       "</style>\n",
       "<table border=\"1\" class=\"dataframe\">\n",
       "  <thead>\n",
       "    <tr style=\"text-align: right;\">\n",
       "      <th></th>\n",
       "      <th>Pclass</th>\n",
       "      <th>Survived</th>\n",
       "    </tr>\n",
       "  </thead>\n",
       "  <tbody>\n",
       "    <tr>\n",
       "      <th>0</th>\n",
       "      <td>1</td>\n",
       "      <td>0.629630</td>\n",
       "    </tr>\n",
       "    <tr>\n",
       "      <th>1</th>\n",
       "      <td>2</td>\n",
       "      <td>0.472826</td>\n",
       "    </tr>\n",
       "    <tr>\n",
       "      <th>2</th>\n",
       "      <td>3</td>\n",
       "      <td>0.242363</td>\n",
       "    </tr>\n",
       "  </tbody>\n",
       "</table>\n",
       "</div>"
      ],
      "text/plain": [
       "   Pclass  Survived\n",
       "0       1  0.629630\n",
       "1       2  0.472826\n",
       "2       3  0.242363"
      ]
     },
     "execution_count": 17,
     "metadata": {},
     "output_type": "execute_result"
    }
   ],
   "source": [
    "# Pclass - Survived\n",
    "train_df[[\"Pclass\",\"Survived\"]].groupby([\"Pclass\"], as_index = False).mean().sort_values(by=\"Survived\", ascending = False)"
   ]
  },
  {
   "cell_type": "code",
   "execution_count": 18,
   "id": "3c4d3178",
   "metadata": {
    "execution": {
     "iopub.execute_input": "2023-08-22T12:32:43.331629Z",
     "iopub.status.busy": "2023-08-22T12:32:43.331207Z",
     "iopub.status.idle": "2023-08-22T12:32:43.344425Z",
     "shell.execute_reply": "2023-08-22T12:32:43.343670Z"
    },
    "papermill": {
     "duration": 0.046455,
     "end_time": "2023-08-22T12:32:43.346607",
     "exception": false,
     "start_time": "2023-08-22T12:32:43.300152",
     "status": "completed"
    },
    "tags": []
   },
   "outputs": [
    {
     "data": {
      "text/html": [
       "<div>\n",
       "<style scoped>\n",
       "    .dataframe tbody tr th:only-of-type {\n",
       "        vertical-align: middle;\n",
       "    }\n",
       "\n",
       "    .dataframe tbody tr th {\n",
       "        vertical-align: top;\n",
       "    }\n",
       "\n",
       "    .dataframe thead th {\n",
       "        text-align: right;\n",
       "    }\n",
       "</style>\n",
       "<table border=\"1\" class=\"dataframe\">\n",
       "  <thead>\n",
       "    <tr style=\"text-align: right;\">\n",
       "      <th></th>\n",
       "      <th>Sex</th>\n",
       "      <th>Survived</th>\n",
       "    </tr>\n",
       "  </thead>\n",
       "  <tbody>\n",
       "    <tr>\n",
       "      <th>0</th>\n",
       "      <td>female</td>\n",
       "      <td>0.742038</td>\n",
       "    </tr>\n",
       "    <tr>\n",
       "      <th>1</th>\n",
       "      <td>male</td>\n",
       "      <td>0.188908</td>\n",
       "    </tr>\n",
       "  </tbody>\n",
       "</table>\n",
       "</div>"
      ],
      "text/plain": [
       "      Sex  Survived\n",
       "0  female  0.742038\n",
       "1    male  0.188908"
      ]
     },
     "execution_count": 18,
     "metadata": {},
     "output_type": "execute_result"
    }
   ],
   "source": [
    "# Sex - Survived\n",
    "train_df[[\"Sex\",\"Survived\"]].groupby([\"Sex\"], as_index = False).mean().sort_values(by=\"Survived\", ascending = False)"
   ]
  },
  {
   "cell_type": "code",
   "execution_count": 19,
   "id": "8816e080",
   "metadata": {
    "execution": {
     "iopub.execute_input": "2023-08-22T12:32:43.410281Z",
     "iopub.status.busy": "2023-08-22T12:32:43.409261Z",
     "iopub.status.idle": "2023-08-22T12:32:43.425183Z",
     "shell.execute_reply": "2023-08-22T12:32:43.423645Z"
    },
    "papermill": {
     "duration": 0.050991,
     "end_time": "2023-08-22T12:32:43.427619",
     "exception": false,
     "start_time": "2023-08-22T12:32:43.376628",
     "status": "completed"
    },
    "tags": []
   },
   "outputs": [
    {
     "data": {
      "text/html": [
       "<div>\n",
       "<style scoped>\n",
       "    .dataframe tbody tr th:only-of-type {\n",
       "        vertical-align: middle;\n",
       "    }\n",
       "\n",
       "    .dataframe tbody tr th {\n",
       "        vertical-align: top;\n",
       "    }\n",
       "\n",
       "    .dataframe thead th {\n",
       "        text-align: right;\n",
       "    }\n",
       "</style>\n",
       "<table border=\"1\" class=\"dataframe\">\n",
       "  <thead>\n",
       "    <tr style=\"text-align: right;\">\n",
       "      <th></th>\n",
       "      <th>SibSp</th>\n",
       "      <th>Survived</th>\n",
       "    </tr>\n",
       "  </thead>\n",
       "  <tbody>\n",
       "    <tr>\n",
       "      <th>1</th>\n",
       "      <td>1</td>\n",
       "      <td>0.535885</td>\n",
       "    </tr>\n",
       "    <tr>\n",
       "      <th>2</th>\n",
       "      <td>2</td>\n",
       "      <td>0.464286</td>\n",
       "    </tr>\n",
       "    <tr>\n",
       "      <th>0</th>\n",
       "      <td>0</td>\n",
       "      <td>0.345395</td>\n",
       "    </tr>\n",
       "    <tr>\n",
       "      <th>3</th>\n",
       "      <td>3</td>\n",
       "      <td>0.250000</td>\n",
       "    </tr>\n",
       "    <tr>\n",
       "      <th>4</th>\n",
       "      <td>4</td>\n",
       "      <td>0.166667</td>\n",
       "    </tr>\n",
       "    <tr>\n",
       "      <th>5</th>\n",
       "      <td>5</td>\n",
       "      <td>0.000000</td>\n",
       "    </tr>\n",
       "    <tr>\n",
       "      <th>6</th>\n",
       "      <td>8</td>\n",
       "      <td>0.000000</td>\n",
       "    </tr>\n",
       "  </tbody>\n",
       "</table>\n",
       "</div>"
      ],
      "text/plain": [
       "   SibSp  Survived\n",
       "1      1  0.535885\n",
       "2      2  0.464286\n",
       "0      0  0.345395\n",
       "3      3  0.250000\n",
       "4      4  0.166667\n",
       "5      5  0.000000\n",
       "6      8  0.000000"
      ]
     },
     "execution_count": 19,
     "metadata": {},
     "output_type": "execute_result"
    }
   ],
   "source": [
    "# SibSp - Survived\n",
    "train_df[[\"SibSp\",\"Survived\"]].groupby([\"SibSp\"], as_index = False).mean().sort_values(by=\"Survived\", ascending = False)"
   ]
  },
  {
   "cell_type": "code",
   "execution_count": 20,
   "id": "05fa0f8b",
   "metadata": {
    "execution": {
     "iopub.execute_input": "2023-08-22T12:32:43.491522Z",
     "iopub.status.busy": "2023-08-22T12:32:43.491128Z",
     "iopub.status.idle": "2023-08-22T12:32:43.505659Z",
     "shell.execute_reply": "2023-08-22T12:32:43.504689Z"
    },
    "papermill": {
     "duration": 0.04919,
     "end_time": "2023-08-22T12:32:43.507764",
     "exception": false,
     "start_time": "2023-08-22T12:32:43.458574",
     "status": "completed"
    },
    "tags": []
   },
   "outputs": [
    {
     "data": {
      "text/html": [
       "<div>\n",
       "<style scoped>\n",
       "    .dataframe tbody tr th:only-of-type {\n",
       "        vertical-align: middle;\n",
       "    }\n",
       "\n",
       "    .dataframe tbody tr th {\n",
       "        vertical-align: top;\n",
       "    }\n",
       "\n",
       "    .dataframe thead th {\n",
       "        text-align: right;\n",
       "    }\n",
       "</style>\n",
       "<table border=\"1\" class=\"dataframe\">\n",
       "  <thead>\n",
       "    <tr style=\"text-align: right;\">\n",
       "      <th></th>\n",
       "      <th>Parch</th>\n",
       "      <th>Survived</th>\n",
       "    </tr>\n",
       "  </thead>\n",
       "  <tbody>\n",
       "    <tr>\n",
       "      <th>3</th>\n",
       "      <td>3</td>\n",
       "      <td>0.600000</td>\n",
       "    </tr>\n",
       "    <tr>\n",
       "      <th>1</th>\n",
       "      <td>1</td>\n",
       "      <td>0.550847</td>\n",
       "    </tr>\n",
       "    <tr>\n",
       "      <th>2</th>\n",
       "      <td>2</td>\n",
       "      <td>0.500000</td>\n",
       "    </tr>\n",
       "    <tr>\n",
       "      <th>0</th>\n",
       "      <td>0</td>\n",
       "      <td>0.343658</td>\n",
       "    </tr>\n",
       "    <tr>\n",
       "      <th>5</th>\n",
       "      <td>5</td>\n",
       "      <td>0.200000</td>\n",
       "    </tr>\n",
       "    <tr>\n",
       "      <th>4</th>\n",
       "      <td>4</td>\n",
       "      <td>0.000000</td>\n",
       "    </tr>\n",
       "    <tr>\n",
       "      <th>6</th>\n",
       "      <td>6</td>\n",
       "      <td>0.000000</td>\n",
       "    </tr>\n",
       "  </tbody>\n",
       "</table>\n",
       "</div>"
      ],
      "text/plain": [
       "   Parch  Survived\n",
       "3      3  0.600000\n",
       "1      1  0.550847\n",
       "2      2  0.500000\n",
       "0      0  0.343658\n",
       "5      5  0.200000\n",
       "4      4  0.000000\n",
       "6      6  0.000000"
      ]
     },
     "execution_count": 20,
     "metadata": {},
     "output_type": "execute_result"
    }
   ],
   "source": [
    "# Parch - Survived\n",
    "train_df[[\"Parch\",\"Survived\"]].groupby([\"Parch\"], as_index = False).mean().sort_values(by=\"Survived\", ascending = False)"
   ]
  },
  {
   "cell_type": "markdown",
   "id": "d6217345",
   "metadata": {
    "papermill": {
     "duration": 0.030355,
     "end_time": "2023-08-22T12:32:43.568520",
     "exception": false,
     "start_time": "2023-08-22T12:32:43.538165",
     "status": "completed"
    },
    "tags": []
   },
   "source": [
    "<a id = \"7\"></a><br>\n",
    "# Outlier Detection"
   ]
  },
  {
   "cell_type": "code",
   "execution_count": 21,
   "id": "687ca45e",
   "metadata": {
    "execution": {
     "iopub.execute_input": "2023-08-22T12:32:43.631825Z",
     "iopub.status.busy": "2023-08-22T12:32:43.631437Z",
     "iopub.status.idle": "2023-08-22T12:32:43.638209Z",
     "shell.execute_reply": "2023-08-22T12:32:43.637177Z"
    },
    "papermill": {
     "duration": 0.041079,
     "end_time": "2023-08-22T12:32:43.640167",
     "exception": false,
     "start_time": "2023-08-22T12:32:43.599088",
     "status": "completed"
    },
    "tags": []
   },
   "outputs": [],
   "source": [
    "def detect_outliers(df,features):\n",
    "    outlier_indices = []\n",
    "    \n",
    "    for c in features:\n",
    "        # 1st quartile\n",
    "        Q1 = np.percentile(df[c],25)\n",
    "        # 3rd quartile\n",
    "        Q3 = np.percentile(df[c],75)\n",
    "        # IQR\n",
    "        IQR = Q3 - Q1\n",
    "        # Outlier step\n",
    "        outlier_step = IQR * 1.5\n",
    "        # Detect outlier and their indeces\n",
    "        outlier_list_col = df[(df[c] < Q1 - outlier_step) | (df[c] > Q3 + outlier_step)].index\n",
    "        # Store indeces\n",
    "        outlier_indices.extend(outlier_list_col)\n",
    "        \n",
    "    outlier_indices = Counter(outlier_indices)\n",
    "    multiple_outliers = list(i for i,v in outlier_indices.items() if v > 2)\n",
    "    return multiple_outliers\n",
    "\n",
    "        "
   ]
  },
  {
   "cell_type": "code",
   "execution_count": 22,
   "id": "033cecbb",
   "metadata": {
    "execution": {
     "iopub.execute_input": "2023-08-22T12:32:43.703357Z",
     "iopub.status.busy": "2023-08-22T12:32:43.702641Z",
     "iopub.status.idle": "2023-08-22T12:32:43.724394Z",
     "shell.execute_reply": "2023-08-22T12:32:43.723268Z"
    },
    "papermill": {
     "duration": 0.055925,
     "end_time": "2023-08-22T12:32:43.726414",
     "exception": false,
     "start_time": "2023-08-22T12:32:43.670489",
     "status": "completed"
    },
    "tags": []
   },
   "outputs": [
    {
     "data": {
      "text/html": [
       "<div>\n",
       "<style scoped>\n",
       "    .dataframe tbody tr th:only-of-type {\n",
       "        vertical-align: middle;\n",
       "    }\n",
       "\n",
       "    .dataframe tbody tr th {\n",
       "        vertical-align: top;\n",
       "    }\n",
       "\n",
       "    .dataframe thead th {\n",
       "        text-align: right;\n",
       "    }\n",
       "</style>\n",
       "<table border=\"1\" class=\"dataframe\">\n",
       "  <thead>\n",
       "    <tr style=\"text-align: right;\">\n",
       "      <th></th>\n",
       "      <th>PassengerId</th>\n",
       "      <th>Survived</th>\n",
       "      <th>Pclass</th>\n",
       "      <th>Name</th>\n",
       "      <th>Sex</th>\n",
       "      <th>Age</th>\n",
       "      <th>SibSp</th>\n",
       "      <th>Parch</th>\n",
       "      <th>Ticket</th>\n",
       "      <th>Fare</th>\n",
       "      <th>Cabin</th>\n",
       "      <th>Embarked</th>\n",
       "    </tr>\n",
       "  </thead>\n",
       "  <tbody>\n",
       "    <tr>\n",
       "      <th>27</th>\n",
       "      <td>28</td>\n",
       "      <td>0</td>\n",
       "      <td>1</td>\n",
       "      <td>Fortune, Mr. Charles Alexander</td>\n",
       "      <td>male</td>\n",
       "      <td>19.0</td>\n",
       "      <td>3</td>\n",
       "      <td>2</td>\n",
       "      <td>19950</td>\n",
       "      <td>263.00</td>\n",
       "      <td>C23 C25 C27</td>\n",
       "      <td>S</td>\n",
       "    </tr>\n",
       "    <tr>\n",
       "      <th>88</th>\n",
       "      <td>89</td>\n",
       "      <td>1</td>\n",
       "      <td>1</td>\n",
       "      <td>Fortune, Miss. Mabel Helen</td>\n",
       "      <td>female</td>\n",
       "      <td>23.0</td>\n",
       "      <td>3</td>\n",
       "      <td>2</td>\n",
       "      <td>19950</td>\n",
       "      <td>263.00</td>\n",
       "      <td>C23 C25 C27</td>\n",
       "      <td>S</td>\n",
       "    </tr>\n",
       "    <tr>\n",
       "      <th>159</th>\n",
       "      <td>160</td>\n",
       "      <td>0</td>\n",
       "      <td>3</td>\n",
       "      <td>Sage, Master. Thomas Henry</td>\n",
       "      <td>male</td>\n",
       "      <td>NaN</td>\n",
       "      <td>8</td>\n",
       "      <td>2</td>\n",
       "      <td>CA. 2343</td>\n",
       "      <td>69.55</td>\n",
       "      <td>NaN</td>\n",
       "      <td>S</td>\n",
       "    </tr>\n",
       "    <tr>\n",
       "      <th>180</th>\n",
       "      <td>181</td>\n",
       "      <td>0</td>\n",
       "      <td>3</td>\n",
       "      <td>Sage, Miss. Constance Gladys</td>\n",
       "      <td>female</td>\n",
       "      <td>NaN</td>\n",
       "      <td>8</td>\n",
       "      <td>2</td>\n",
       "      <td>CA. 2343</td>\n",
       "      <td>69.55</td>\n",
       "      <td>NaN</td>\n",
       "      <td>S</td>\n",
       "    </tr>\n",
       "    <tr>\n",
       "      <th>201</th>\n",
       "      <td>202</td>\n",
       "      <td>0</td>\n",
       "      <td>3</td>\n",
       "      <td>Sage, Mr. Frederick</td>\n",
       "      <td>male</td>\n",
       "      <td>NaN</td>\n",
       "      <td>8</td>\n",
       "      <td>2</td>\n",
       "      <td>CA. 2343</td>\n",
       "      <td>69.55</td>\n",
       "      <td>NaN</td>\n",
       "      <td>S</td>\n",
       "    </tr>\n",
       "    <tr>\n",
       "      <th>324</th>\n",
       "      <td>325</td>\n",
       "      <td>0</td>\n",
       "      <td>3</td>\n",
       "      <td>Sage, Mr. George John Jr</td>\n",
       "      <td>male</td>\n",
       "      <td>NaN</td>\n",
       "      <td>8</td>\n",
       "      <td>2</td>\n",
       "      <td>CA. 2343</td>\n",
       "      <td>69.55</td>\n",
       "      <td>NaN</td>\n",
       "      <td>S</td>\n",
       "    </tr>\n",
       "    <tr>\n",
       "      <th>341</th>\n",
       "      <td>342</td>\n",
       "      <td>1</td>\n",
       "      <td>1</td>\n",
       "      <td>Fortune, Miss. Alice Elizabeth</td>\n",
       "      <td>female</td>\n",
       "      <td>24.0</td>\n",
       "      <td>3</td>\n",
       "      <td>2</td>\n",
       "      <td>19950</td>\n",
       "      <td>263.00</td>\n",
       "      <td>C23 C25 C27</td>\n",
       "      <td>S</td>\n",
       "    </tr>\n",
       "    <tr>\n",
       "      <th>792</th>\n",
       "      <td>793</td>\n",
       "      <td>0</td>\n",
       "      <td>3</td>\n",
       "      <td>Sage, Miss. Stella Anna</td>\n",
       "      <td>female</td>\n",
       "      <td>NaN</td>\n",
       "      <td>8</td>\n",
       "      <td>2</td>\n",
       "      <td>CA. 2343</td>\n",
       "      <td>69.55</td>\n",
       "      <td>NaN</td>\n",
       "      <td>S</td>\n",
       "    </tr>\n",
       "    <tr>\n",
       "      <th>846</th>\n",
       "      <td>847</td>\n",
       "      <td>0</td>\n",
       "      <td>3</td>\n",
       "      <td>Sage, Mr. Douglas Bullen</td>\n",
       "      <td>male</td>\n",
       "      <td>NaN</td>\n",
       "      <td>8</td>\n",
       "      <td>2</td>\n",
       "      <td>CA. 2343</td>\n",
       "      <td>69.55</td>\n",
       "      <td>NaN</td>\n",
       "      <td>S</td>\n",
       "    </tr>\n",
       "    <tr>\n",
       "      <th>863</th>\n",
       "      <td>864</td>\n",
       "      <td>0</td>\n",
       "      <td>3</td>\n",
       "      <td>Sage, Miss. Dorothy Edith \"Dolly\"</td>\n",
       "      <td>female</td>\n",
       "      <td>NaN</td>\n",
       "      <td>8</td>\n",
       "      <td>2</td>\n",
       "      <td>CA. 2343</td>\n",
       "      <td>69.55</td>\n",
       "      <td>NaN</td>\n",
       "      <td>S</td>\n",
       "    </tr>\n",
       "  </tbody>\n",
       "</table>\n",
       "</div>"
      ],
      "text/plain": [
       "     PassengerId  Survived  Pclass                               Name     Sex  \\\n",
       "27            28         0       1     Fortune, Mr. Charles Alexander    male   \n",
       "88            89         1       1         Fortune, Miss. Mabel Helen  female   \n",
       "159          160         0       3         Sage, Master. Thomas Henry    male   \n",
       "180          181         0       3       Sage, Miss. Constance Gladys  female   \n",
       "201          202         0       3                Sage, Mr. Frederick    male   \n",
       "324          325         0       3           Sage, Mr. George John Jr    male   \n",
       "341          342         1       1     Fortune, Miss. Alice Elizabeth  female   \n",
       "792          793         0       3            Sage, Miss. Stella Anna  female   \n",
       "846          847         0       3           Sage, Mr. Douglas Bullen    male   \n",
       "863          864         0       3  Sage, Miss. Dorothy Edith \"Dolly\"  female   \n",
       "\n",
       "      Age  SibSp  Parch    Ticket    Fare        Cabin Embarked  \n",
       "27   19.0      3      2     19950  263.00  C23 C25 C27        S  \n",
       "88   23.0      3      2     19950  263.00  C23 C25 C27        S  \n",
       "159   NaN      8      2  CA. 2343   69.55          NaN        S  \n",
       "180   NaN      8      2  CA. 2343   69.55          NaN        S  \n",
       "201   NaN      8      2  CA. 2343   69.55          NaN        S  \n",
       "324   NaN      8      2  CA. 2343   69.55          NaN        S  \n",
       "341  24.0      3      2     19950  263.00  C23 C25 C27        S  \n",
       "792   NaN      8      2  CA. 2343   69.55          NaN        S  \n",
       "846   NaN      8      2  CA. 2343   69.55          NaN        S  \n",
       "863   NaN      8      2  CA. 2343   69.55          NaN        S  "
      ]
     },
     "execution_count": 22,
     "metadata": {},
     "output_type": "execute_result"
    }
   ],
   "source": [
    "train_df.loc[detect_outliers(train_df, [\"Age\", \"SibSp\", \"Parch\", \"Fare\"])]"
   ]
  },
  {
   "cell_type": "code",
   "execution_count": 23,
   "id": "b6cceff1",
   "metadata": {
    "execution": {
     "iopub.execute_input": "2023-08-22T12:32:43.790309Z",
     "iopub.status.busy": "2023-08-22T12:32:43.789725Z",
     "iopub.status.idle": "2023-08-22T12:32:43.800030Z",
     "shell.execute_reply": "2023-08-22T12:32:43.798989Z"
    },
    "papermill": {
     "duration": 0.045394,
     "end_time": "2023-08-22T12:32:43.802429",
     "exception": false,
     "start_time": "2023-08-22T12:32:43.757035",
     "status": "completed"
    },
    "tags": []
   },
   "outputs": [],
   "source": [
    "# Dropping outliers\n",
    "train_df = train_df.drop(detect_outliers(train_df, [\"Age\", \"SibSp\", \"Parch\", \"Fare\"]), axis = 0).reset_index(drop = False)"
   ]
  },
  {
   "cell_type": "markdown",
   "id": "e6c3667a",
   "metadata": {
    "papermill": {
     "duration": 0.030509,
     "end_time": "2023-08-22T12:32:43.863656",
     "exception": false,
     "start_time": "2023-08-22T12:32:43.833147",
     "status": "completed"
    },
    "tags": []
   },
   "source": [
    "<a id = \"8\"></a><br>\n",
    "# Missing Value\n",
    "* Find Missing Value\n",
    "* Fill Missing Value"
   ]
  },
  {
   "cell_type": "code",
   "execution_count": 24,
   "id": "2bed9edc",
   "metadata": {
    "execution": {
     "iopub.execute_input": "2023-08-22T12:32:43.926523Z",
     "iopub.status.busy": "2023-08-22T12:32:43.926110Z",
     "iopub.status.idle": "2023-08-22T12:32:43.934367Z",
     "shell.execute_reply": "2023-08-22T12:32:43.933496Z"
    },
    "papermill": {
     "duration": 0.042327,
     "end_time": "2023-08-22T12:32:43.936486",
     "exception": false,
     "start_time": "2023-08-22T12:32:43.894159",
     "status": "completed"
    },
    "tags": []
   },
   "outputs": [],
   "source": [
    "train_df_len = len(train_df)\n",
    "train_df = pd.concat([train_df,test_df], axis = 0).reset_index(drop = True)\n"
   ]
  },
  {
   "cell_type": "code",
   "execution_count": 25,
   "id": "fdbccb33",
   "metadata": {
    "execution": {
     "iopub.execute_input": "2023-08-22T12:32:44.000214Z",
     "iopub.status.busy": "2023-08-22T12:32:43.999817Z",
     "iopub.status.idle": "2023-08-22T12:32:44.014181Z",
     "shell.execute_reply": "2023-08-22T12:32:44.013016Z"
    },
    "papermill": {
     "duration": 0.049385,
     "end_time": "2023-08-22T12:32:44.016774",
     "exception": false,
     "start_time": "2023-08-22T12:32:43.967389",
     "status": "completed"
    },
    "tags": []
   },
   "outputs": [
    {
     "name": "stdout",
     "output_type": "stream",
     "text": [
      "<class 'pandas.core.frame.DataFrame'>\n",
      "RangeIndex: 1299 entries, 0 to 1298\n",
      "Data columns (total 13 columns):\n",
      " #   Column       Non-Null Count  Dtype  \n",
      "---  ------       --------------  -----  \n",
      " 0   index        881 non-null    float64\n",
      " 1   PassengerId  1299 non-null   int64  \n",
      " 2   Survived     881 non-null    float64\n",
      " 3   Pclass       1299 non-null   int64  \n",
      " 4   Name         1299 non-null   object \n",
      " 5   Sex          1299 non-null   object \n",
      " 6   Age          1043 non-null   float64\n",
      " 7   SibSp        1299 non-null   int64  \n",
      " 8   Parch        1299 non-null   int64  \n",
      " 9   Ticket       1299 non-null   object \n",
      " 10  Fare         1298 non-null   float64\n",
      " 11  Cabin        292 non-null    object \n",
      " 12  Embarked     1297 non-null   object \n",
      "dtypes: float64(4), int64(4), object(5)\n",
      "memory usage: 132.1+ KB\n"
     ]
    }
   ],
   "source": [
    "train_df.info()"
   ]
  },
  {
   "cell_type": "code",
   "execution_count": 26,
   "id": "6256c614",
   "metadata": {
    "execution": {
     "iopub.execute_input": "2023-08-22T12:32:44.080522Z",
     "iopub.status.busy": "2023-08-22T12:32:44.080145Z",
     "iopub.status.idle": "2023-08-22T12:32:44.086378Z",
     "shell.execute_reply": "2023-08-22T12:32:44.085249Z"
    },
    "papermill": {
     "duration": 0.040677,
     "end_time": "2023-08-22T12:32:44.088318",
     "exception": false,
     "start_time": "2023-08-22T12:32:44.047641",
     "status": "completed"
    },
    "tags": []
   },
   "outputs": [],
   "source": [
    "train_df.drop([\"index\"], axis = 1, inplace=True)"
   ]
  },
  {
   "cell_type": "code",
   "execution_count": 27,
   "id": "60c7b254",
   "metadata": {
    "execution": {
     "iopub.execute_input": "2023-08-22T12:32:44.151908Z",
     "iopub.status.busy": "2023-08-22T12:32:44.151219Z",
     "iopub.status.idle": "2023-08-22T12:32:44.165937Z",
     "shell.execute_reply": "2023-08-22T12:32:44.165165Z"
    },
    "papermill": {
     "duration": 0.048774,
     "end_time": "2023-08-22T12:32:44.167767",
     "exception": false,
     "start_time": "2023-08-22T12:32:44.118993",
     "status": "completed"
    },
    "tags": []
   },
   "outputs": [
    {
     "data": {
      "text/html": [
       "<div>\n",
       "<style scoped>\n",
       "    .dataframe tbody tr th:only-of-type {\n",
       "        vertical-align: middle;\n",
       "    }\n",
       "\n",
       "    .dataframe tbody tr th {\n",
       "        vertical-align: top;\n",
       "    }\n",
       "\n",
       "    .dataframe thead th {\n",
       "        text-align: right;\n",
       "    }\n",
       "</style>\n",
       "<table border=\"1\" class=\"dataframe\">\n",
       "  <thead>\n",
       "    <tr style=\"text-align: right;\">\n",
       "      <th></th>\n",
       "      <th>PassengerId</th>\n",
       "      <th>Survived</th>\n",
       "      <th>Pclass</th>\n",
       "      <th>Name</th>\n",
       "      <th>Sex</th>\n",
       "      <th>Age</th>\n",
       "      <th>SibSp</th>\n",
       "      <th>Parch</th>\n",
       "      <th>Ticket</th>\n",
       "      <th>Fare</th>\n",
       "      <th>Cabin</th>\n",
       "      <th>Embarked</th>\n",
       "    </tr>\n",
       "  </thead>\n",
       "  <tbody>\n",
       "    <tr>\n",
       "      <th>0</th>\n",
       "      <td>1</td>\n",
       "      <td>0.0</td>\n",
       "      <td>3</td>\n",
       "      <td>Braund, Mr. Owen Harris</td>\n",
       "      <td>male</td>\n",
       "      <td>22.0</td>\n",
       "      <td>1</td>\n",
       "      <td>0</td>\n",
       "      <td>A/5 21171</td>\n",
       "      <td>7.2500</td>\n",
       "      <td>NaN</td>\n",
       "      <td>S</td>\n",
       "    </tr>\n",
       "    <tr>\n",
       "      <th>1</th>\n",
       "      <td>2</td>\n",
       "      <td>1.0</td>\n",
       "      <td>1</td>\n",
       "      <td>Cumings, Mrs. John Bradley (Florence Briggs Th...</td>\n",
       "      <td>female</td>\n",
       "      <td>38.0</td>\n",
       "      <td>1</td>\n",
       "      <td>0</td>\n",
       "      <td>PC 17599</td>\n",
       "      <td>71.2833</td>\n",
       "      <td>C85</td>\n",
       "      <td>C</td>\n",
       "    </tr>\n",
       "    <tr>\n",
       "      <th>2</th>\n",
       "      <td>3</td>\n",
       "      <td>1.0</td>\n",
       "      <td>3</td>\n",
       "      <td>Heikkinen, Miss. Laina</td>\n",
       "      <td>female</td>\n",
       "      <td>26.0</td>\n",
       "      <td>0</td>\n",
       "      <td>0</td>\n",
       "      <td>STON/O2. 3101282</td>\n",
       "      <td>7.9250</td>\n",
       "      <td>NaN</td>\n",
       "      <td>S</td>\n",
       "    </tr>\n",
       "    <tr>\n",
       "      <th>3</th>\n",
       "      <td>4</td>\n",
       "      <td>1.0</td>\n",
       "      <td>1</td>\n",
       "      <td>Futrelle, Mrs. Jacques Heath (Lily May Peel)</td>\n",
       "      <td>female</td>\n",
       "      <td>35.0</td>\n",
       "      <td>1</td>\n",
       "      <td>0</td>\n",
       "      <td>113803</td>\n",
       "      <td>53.1000</td>\n",
       "      <td>C123</td>\n",
       "      <td>S</td>\n",
       "    </tr>\n",
       "    <tr>\n",
       "      <th>4</th>\n",
       "      <td>5</td>\n",
       "      <td>0.0</td>\n",
       "      <td>3</td>\n",
       "      <td>Allen, Mr. William Henry</td>\n",
       "      <td>male</td>\n",
       "      <td>35.0</td>\n",
       "      <td>0</td>\n",
       "      <td>0</td>\n",
       "      <td>373450</td>\n",
       "      <td>8.0500</td>\n",
       "      <td>NaN</td>\n",
       "      <td>S</td>\n",
       "    </tr>\n",
       "  </tbody>\n",
       "</table>\n",
       "</div>"
      ],
      "text/plain": [
       "   PassengerId  Survived  Pclass  \\\n",
       "0            1       0.0       3   \n",
       "1            2       1.0       1   \n",
       "2            3       1.0       3   \n",
       "3            4       1.0       1   \n",
       "4            5       0.0       3   \n",
       "\n",
       "                                                Name     Sex   Age  SibSp  \\\n",
       "0                            Braund, Mr. Owen Harris    male  22.0      1   \n",
       "1  Cumings, Mrs. John Bradley (Florence Briggs Th...  female  38.0      1   \n",
       "2                             Heikkinen, Miss. Laina  female  26.0      0   \n",
       "3       Futrelle, Mrs. Jacques Heath (Lily May Peel)  female  35.0      1   \n",
       "4                           Allen, Mr. William Henry    male  35.0      0   \n",
       "\n",
       "   Parch            Ticket     Fare Cabin Embarked  \n",
       "0      0         A/5 21171   7.2500   NaN        S  \n",
       "1      0          PC 17599  71.2833   C85        C  \n",
       "2      0  STON/O2. 3101282   7.9250   NaN        S  \n",
       "3      0            113803  53.1000  C123        S  \n",
       "4      0            373450   8.0500   NaN        S  "
      ]
     },
     "execution_count": 27,
     "metadata": {},
     "output_type": "execute_result"
    }
   ],
   "source": [
    "train_df.head()"
   ]
  },
  {
   "cell_type": "markdown",
   "id": "9775acfb",
   "metadata": {
    "papermill": {
     "duration": 0.031197,
     "end_time": "2023-08-22T12:32:44.229831",
     "exception": false,
     "start_time": "2023-08-22T12:32:44.198634",
     "status": "completed"
    },
    "tags": []
   },
   "source": [
    "<a id = \"9\"></a><br>\n",
    "## Find Missing Value"
   ]
  },
  {
   "cell_type": "code",
   "execution_count": 28,
   "id": "6ac7c363",
   "metadata": {
    "execution": {
     "iopub.execute_input": "2023-08-22T12:32:44.294782Z",
     "iopub.status.busy": "2023-08-22T12:32:44.294138Z",
     "iopub.status.idle": "2023-08-22T12:32:44.302629Z",
     "shell.execute_reply": "2023-08-22T12:32:44.301834Z"
    },
    "papermill": {
     "duration": 0.044106,
     "end_time": "2023-08-22T12:32:44.304470",
     "exception": false,
     "start_time": "2023-08-22T12:32:44.260364",
     "status": "completed"
    },
    "tags": []
   },
   "outputs": [
    {
     "data": {
      "text/plain": [
       "Index(['Survived', 'Age', 'Fare', 'Cabin', 'Embarked'], dtype='object')"
      ]
     },
     "execution_count": 28,
     "metadata": {},
     "output_type": "execute_result"
    }
   ],
   "source": [
    "train_df.columns[train_df.isnull().any()]"
   ]
  },
  {
   "cell_type": "code",
   "execution_count": 29,
   "id": "846a53b8",
   "metadata": {
    "execution": {
     "iopub.execute_input": "2023-08-22T12:32:44.369512Z",
     "iopub.status.busy": "2023-08-22T12:32:44.368419Z",
     "iopub.status.idle": "2023-08-22T12:32:44.377817Z",
     "shell.execute_reply": "2023-08-22T12:32:44.376833Z"
    },
    "papermill": {
     "duration": 0.044049,
     "end_time": "2023-08-22T12:32:44.379762",
     "exception": false,
     "start_time": "2023-08-22T12:32:44.335713",
     "status": "completed"
    },
    "tags": []
   },
   "outputs": [
    {
     "data": {
      "text/plain": [
       "PassengerId       0\n",
       "Survived        418\n",
       "Pclass            0\n",
       "Name              0\n",
       "Sex               0\n",
       "Age             256\n",
       "SibSp             0\n",
       "Parch             0\n",
       "Ticket            0\n",
       "Fare              1\n",
       "Cabin          1007\n",
       "Embarked          2\n",
       "dtype: int64"
      ]
     },
     "execution_count": 29,
     "metadata": {},
     "output_type": "execute_result"
    }
   ],
   "source": [
    "train_df.isnull().sum()"
   ]
  },
  {
   "cell_type": "markdown",
   "id": "1051cb06",
   "metadata": {
    "papermill": {
     "duration": 0.031157,
     "end_time": "2023-08-22T12:32:44.442273",
     "exception": false,
     "start_time": "2023-08-22T12:32:44.411116",
     "status": "completed"
    },
    "tags": []
   },
   "source": [
    "<a id = \"10\"></a><br>\n",
    "## Fill Missing Value\n",
    "* Embarked has 2 missing values\n",
    "* Fare has only 1\n",
    "* Age has 256 missing values"
   ]
  },
  {
   "cell_type": "code",
   "execution_count": 30,
   "id": "42e94c98",
   "metadata": {
    "execution": {
     "iopub.execute_input": "2023-08-22T12:32:44.507186Z",
     "iopub.status.busy": "2023-08-22T12:32:44.506467Z",
     "iopub.status.idle": "2023-08-22T12:32:44.520847Z",
     "shell.execute_reply": "2023-08-22T12:32:44.520048Z"
    },
    "papermill": {
     "duration": 0.049247,
     "end_time": "2023-08-22T12:32:44.522826",
     "exception": false,
     "start_time": "2023-08-22T12:32:44.473579",
     "status": "completed"
    },
    "tags": []
   },
   "outputs": [
    {
     "data": {
      "text/html": [
       "<div>\n",
       "<style scoped>\n",
       "    .dataframe tbody tr th:only-of-type {\n",
       "        vertical-align: middle;\n",
       "    }\n",
       "\n",
       "    .dataframe tbody tr th {\n",
       "        vertical-align: top;\n",
       "    }\n",
       "\n",
       "    .dataframe thead th {\n",
       "        text-align: right;\n",
       "    }\n",
       "</style>\n",
       "<table border=\"1\" class=\"dataframe\">\n",
       "  <thead>\n",
       "    <tr style=\"text-align: right;\">\n",
       "      <th></th>\n",
       "      <th>PassengerId</th>\n",
       "      <th>Survived</th>\n",
       "      <th>Pclass</th>\n",
       "      <th>Name</th>\n",
       "      <th>Sex</th>\n",
       "      <th>Age</th>\n",
       "      <th>SibSp</th>\n",
       "      <th>Parch</th>\n",
       "      <th>Ticket</th>\n",
       "      <th>Fare</th>\n",
       "      <th>Cabin</th>\n",
       "      <th>Embarked</th>\n",
       "    </tr>\n",
       "  </thead>\n",
       "  <tbody>\n",
       "    <tr>\n",
       "      <th>60</th>\n",
       "      <td>62</td>\n",
       "      <td>1.0</td>\n",
       "      <td>1</td>\n",
       "      <td>Icard, Miss. Amelie</td>\n",
       "      <td>female</td>\n",
       "      <td>38.0</td>\n",
       "      <td>0</td>\n",
       "      <td>0</td>\n",
       "      <td>113572</td>\n",
       "      <td>80.0</td>\n",
       "      <td>B28</td>\n",
       "      <td>NaN</td>\n",
       "    </tr>\n",
       "    <tr>\n",
       "      <th>821</th>\n",
       "      <td>830</td>\n",
       "      <td>1.0</td>\n",
       "      <td>1</td>\n",
       "      <td>Stone, Mrs. George Nelson (Martha Evelyn)</td>\n",
       "      <td>female</td>\n",
       "      <td>62.0</td>\n",
       "      <td>0</td>\n",
       "      <td>0</td>\n",
       "      <td>113572</td>\n",
       "      <td>80.0</td>\n",
       "      <td>B28</td>\n",
       "      <td>NaN</td>\n",
       "    </tr>\n",
       "  </tbody>\n",
       "</table>\n",
       "</div>"
      ],
      "text/plain": [
       "     PassengerId  Survived  Pclass                                       Name  \\\n",
       "60            62       1.0       1                        Icard, Miss. Amelie   \n",
       "821          830       1.0       1  Stone, Mrs. George Nelson (Martha Evelyn)   \n",
       "\n",
       "        Sex   Age  SibSp  Parch  Ticket  Fare Cabin Embarked  \n",
       "60   female  38.0      0      0  113572  80.0   B28      NaN  \n",
       "821  female  62.0      0      0  113572  80.0   B28      NaN  "
      ]
     },
     "execution_count": 30,
     "metadata": {},
     "output_type": "execute_result"
    }
   ],
   "source": [
    "train_df[train_df[\"Embarked\"].isnull()]"
   ]
  },
  {
   "cell_type": "code",
   "execution_count": 31,
   "id": "d122b90f",
   "metadata": {
    "execution": {
     "iopub.execute_input": "2023-08-22T12:32:44.588759Z",
     "iopub.status.busy": "2023-08-22T12:32:44.588173Z",
     "iopub.status.idle": "2023-08-22T12:32:44.831979Z",
     "shell.execute_reply": "2023-08-22T12:32:44.830959Z"
    },
    "papermill": {
     "duration": 0.279266,
     "end_time": "2023-08-22T12:32:44.834112",
     "exception": false,
     "start_time": "2023-08-22T12:32:44.554846",
     "status": "completed"
    },
    "tags": []
   },
   "outputs": [
    {
     "data": {
      "image/png": "[encoded data removed]",
      "text/plain": [
       "<Figure size 640x480 with 1 Axes>"
      ]
     },
     "metadata": {},
     "output_type": "display_data"
    }
   ],
   "source": [
    "train_df.boxplot(column=\"Fare\", by = \"Embarked\")\n",
    "plt.show()\n"
   ]
  },
  {
   "cell_type": "code",
   "execution_count": 32,
   "id": "5b315599",
   "metadata": {
    "execution": {
     "iopub.execute_input": "2023-08-22T12:32:44.902226Z",
     "iopub.status.busy": "2023-08-22T12:32:44.901790Z",
     "iopub.status.idle": "2023-08-22T12:32:44.915887Z",
     "shell.execute_reply": "2023-08-22T12:32:44.914739Z"
    },
    "papermill": {
     "duration": 0.050968,
     "end_time": "2023-08-22T12:32:44.918066",
     "exception": false,
     "start_time": "2023-08-22T12:32:44.867098",
     "status": "completed"
    },
    "tags": []
   },
   "outputs": [
    {
     "data": {
      "text/html": [
       "<div>\n",
       "<style scoped>\n",
       "    .dataframe tbody tr th:only-of-type {\n",
       "        vertical-align: middle;\n",
       "    }\n",
       "\n",
       "    .dataframe tbody tr th {\n",
       "        vertical-align: top;\n",
       "    }\n",
       "\n",
       "    .dataframe thead th {\n",
       "        text-align: right;\n",
       "    }\n",
       "</style>\n",
       "<table border=\"1\" class=\"dataframe\">\n",
       "  <thead>\n",
       "    <tr style=\"text-align: right;\">\n",
       "      <th></th>\n",
       "      <th>PassengerId</th>\n",
       "      <th>Survived</th>\n",
       "      <th>Pclass</th>\n",
       "      <th>Name</th>\n",
       "      <th>Sex</th>\n",
       "      <th>Age</th>\n",
       "      <th>SibSp</th>\n",
       "      <th>Parch</th>\n",
       "      <th>Ticket</th>\n",
       "      <th>Fare</th>\n",
       "      <th>Cabin</th>\n",
       "      <th>Embarked</th>\n",
       "    </tr>\n",
       "  </thead>\n",
       "  <tbody>\n",
       "  </tbody>\n",
       "</table>\n",
       "</div>"
      ],
      "text/plain": [
       "Empty DataFrame\n",
       "Columns: [PassengerId, Survived, Pclass, Name, Sex, Age, SibSp, Parch, Ticket, Fare, Cabin, Embarked]\n",
       "Index: []"
      ]
     },
     "execution_count": 32,
     "metadata": {},
     "output_type": "execute_result"
    }
   ],
   "source": [
    "train_df[\"Embarked\"] = train_df[\"Embarked\"].fillna(\"C\")\n",
    "train_df[train_df[\"Embarked\"].isnull()]"
   ]
  },
  {
   "cell_type": "code",
   "execution_count": 33,
   "id": "8a642c83",
   "metadata": {
    "execution": {
     "iopub.execute_input": "2023-08-22T12:32:44.984335Z",
     "iopub.status.busy": "2023-08-22T12:32:44.983671Z",
     "iopub.status.idle": "2023-08-22T12:32:44.996260Z",
     "shell.execute_reply": "2023-08-22T12:32:44.995268Z"
    },
    "papermill": {
     "duration": 0.048128,
     "end_time": "2023-08-22T12:32:44.998321",
     "exception": false,
     "start_time": "2023-08-22T12:32:44.950193",
     "status": "completed"
    },
    "tags": []
   },
   "outputs": [
    {
     "data": {
      "text/html": [
       "<div>\n",
       "<style scoped>\n",
       "    .dataframe tbody tr th:only-of-type {\n",
       "        vertical-align: middle;\n",
       "    }\n",
       "\n",
       "    .dataframe tbody tr th {\n",
       "        vertical-align: top;\n",
       "    }\n",
       "\n",
       "    .dataframe thead th {\n",
       "        text-align: right;\n",
       "    }\n",
       "</style>\n",
       "<table border=\"1\" class=\"dataframe\">\n",
       "  <thead>\n",
       "    <tr style=\"text-align: right;\">\n",
       "      <th></th>\n",
       "      <th>PassengerId</th>\n",
       "      <th>Survived</th>\n",
       "      <th>Pclass</th>\n",
       "      <th>Name</th>\n",
       "      <th>Sex</th>\n",
       "      <th>Age</th>\n",
       "      <th>SibSp</th>\n",
       "      <th>Parch</th>\n",
       "      <th>Ticket</th>\n",
       "      <th>Fare</th>\n",
       "      <th>Cabin</th>\n",
       "      <th>Embarked</th>\n",
       "    </tr>\n",
       "  </thead>\n",
       "  <tbody>\n",
       "  </tbody>\n",
       "</table>\n",
       "</div>"
      ],
      "text/plain": [
       "Empty DataFrame\n",
       "Columns: [PassengerId, Survived, Pclass, Name, Sex, Age, SibSp, Parch, Ticket, Fare, Cabin, Embarked]\n",
       "Index: []"
      ]
     },
     "execution_count": 33,
     "metadata": {},
     "output_type": "execute_result"
    }
   ],
   "source": [
    "train_df[\"Fare\"] = train_df[\"Fare\"].fillna(np.mean(train_df[train_df[\"Pclass\"] == 3][\"Fare\"]))\n",
    "train_df[train_df[\"Fare\"].isnull()]"
   ]
  },
  {
   "cell_type": "markdown",
   "id": "af6ae389",
   "metadata": {
    "papermill": {
     "duration": 0.043644,
     "end_time": "2023-08-22T12:32:45.079800",
     "exception": false,
     "start_time": "2023-08-22T12:32:45.036156",
     "status": "completed"
    },
    "tags": []
   },
   "source": [
    "<a id = \"11\"></a><br>\n",
    "# Visualization"
   ]
  },
  {
   "cell_type": "markdown",
   "id": "d57c0eee",
   "metadata": {
    "papermill": {
     "duration": 0.032565,
     "end_time": "2023-08-22T12:32:45.148543",
     "exception": false,
     "start_time": "2023-08-22T12:32:45.115978",
     "status": "completed"
    },
    "tags": []
   },
   "source": [
    "<a id = \"12\"></a><br>\n",
    "## Correlation between SibSp -- Parch -- Age -- Fare -- Survived"
   ]
  },
  {
   "cell_type": "code",
   "execution_count": 34,
   "id": "e4a5eb10",
   "metadata": {
    "execution": {
     "iopub.execute_input": "2023-08-22T12:32:45.221730Z",
     "iopub.status.busy": "2023-08-22T12:32:45.220787Z",
     "iopub.status.idle": "2023-08-22T12:32:45.577537Z",
     "shell.execute_reply": "2023-08-22T12:32:45.576311Z"
    },
    "papermill": {
     "duration": 0.398341,
     "end_time": "2023-08-22T12:32:45.580018",
     "exception": false,
     "start_time": "2023-08-22T12:32:45.181677",
     "status": "completed"
    },
    "tags": []
   },
   "outputs": [
    {
     "data": {
      "image/png": "[encoded data removed]",
      "text/plain": [
       "<Figure size 640x480 with 2 Axes>"
      ]
     },
     "metadata": {},
     "output_type": "display_data"
    }
   ],
   "source": [
    "list1 = [\"SibSp\", \"Parch\", \"Age\", \"Fare\", \"Survived\"]\n",
    "sns.heatmap(train_df[list1].corr(), annot = True, fmt = \".2f\")\n",
    "plt.show()\n"
   ]
  },
  {
   "cell_type": "markdown",
   "id": "96511ace",
   "metadata": {
    "papermill": {
     "duration": 0.03291,
     "end_time": "2023-08-22T12:32:45.646487",
     "exception": false,
     "start_time": "2023-08-22T12:32:45.613577",
     "status": "completed"
    },
    "tags": []
   },
   "source": [
    " Fare feature seems to have correlation with Survived feature"
   ]
  },
  {
   "cell_type": "markdown",
   "id": "71a19c6c",
   "metadata": {
    "papermill": {
     "duration": 0.033039,
     "end_time": "2023-08-22T12:32:45.712736",
     "exception": false,
     "start_time": "2023-08-22T12:32:45.679697",
     "status": "completed"
    },
    "tags": []
   },
   "source": [
    "<a id = \"13\"></a><br>\n",
    "## SibSp -- Survived"
   ]
  },
  {
   "cell_type": "code",
   "execution_count": 35,
   "id": "5eec40c6",
   "metadata": {
    "execution": {
     "iopub.execute_input": "2023-08-22T12:32:45.780328Z",
     "iopub.status.busy": "2023-08-22T12:32:45.779952Z",
     "iopub.status.idle": "2023-08-22T12:32:46.501028Z",
     "shell.execute_reply": "2023-08-22T12:32:46.499814Z"
    },
    "papermill": {
     "duration": 0.757904,
     "end_time": "2023-08-22T12:32:46.503749",
     "exception": false,
     "start_time": "2023-08-22T12:32:45.745845",
     "status": "completed"
    },
    "tags": []
   },
   "outputs": [
    {
     "data": {
      "image/png": "[encoded data removed]",
      "text/plain": [
       "<Figure size 600x600 with 1 Axes>"
      ]
     },
     "metadata": {},
     "output_type": "display_data"
    }
   ],
   "source": [
    "g = sns.catplot(x = \"SibSp\", y = \"Survived\", data = train_df, kind = \"bar\", height = 6)\n",
    "g.set_ylabels(\"Survived Probability\")\n",
    "plt.show()"
   ]
  },
  {
   "cell_type": "markdown",
   "id": "fa3e76c1",
   "metadata": {
    "papermill": {
     "duration": 0.033095,
     "end_time": "2023-08-22T12:32:46.570825",
     "exception": false,
     "start_time": "2023-08-22T12:32:46.537730",
     "status": "completed"
    },
    "tags": []
   },
   "source": [
    "* Having a lot of SibSp have less chance to survive \n",
    "* If SibSp = 0 or 1 or 2 passenger has more chance to survive \n",
    "* We can consider a new feature describing these categories"
   ]
  },
  {
   "cell_type": "markdown",
   "id": "14534c8a",
   "metadata": {
    "papermill": {
     "duration": 0.033064,
     "end_time": "2023-08-22T12:32:46.637184",
     "exception": false,
     "start_time": "2023-08-22T12:32:46.604120",
     "status": "completed"
    },
    "tags": []
   },
   "source": [
    "<a id = \"14\"></a><br>\n",
    "## Parch -- Survived"
   ]
  },
  {
   "cell_type": "code",
   "execution_count": 36,
   "id": "86730aa0",
   "metadata": {
    "execution": {
     "iopub.execute_input": "2023-08-22T12:32:46.706958Z",
     "iopub.status.busy": "2023-08-22T12:32:46.705837Z",
     "iopub.status.idle": "2023-08-22T12:32:47.474045Z",
     "shell.execute_reply": "2023-08-22T12:32:47.472779Z"
    },
    "papermill": {
     "duration": 0.805466,
     "end_time": "2023-08-22T12:32:47.476652",
     "exception": false,
     "start_time": "2023-08-22T12:32:46.671186",
     "status": "completed"
    },
    "tags": []
   },
   "outputs": [
    {
     "data": {
      "image/png": "[encoded data removed]",
      "text/plain": [
       "<Figure size 600x600 with 1 Axes>"
      ]
     },
     "metadata": {},
     "output_type": "display_data"
    }
   ],
   "source": [
    "g = sns.catplot(x = \"Parch\", y = \"Survived\", data = train_df, kind = \"bar\", height = 6)\n",
    "g.set_ylabels(\"Survived Probability\")\n",
    "plt.show()"
   ]
  },
  {
   "cell_type": "markdown",
   "id": "a55732e3",
   "metadata": {
    "papermill": {
     "duration": 0.033398,
     "end_time": "2023-08-22T12:32:47.544158",
     "exception": false,
     "start_time": "2023-08-22T12:32:47.510760",
     "status": "completed"
    },
    "tags": []
   },
   "source": [
    "* SibSp and Parch can be used for new feature extraction with treshold = 3\n",
    "* Small families (like 1 or 2) have more chance to survive\n",
    "* There is a large standart deviation in survival of passenger with Parch = 3"
   ]
  },
  {
   "cell_type": "markdown",
   "id": "5b9e4f6c",
   "metadata": {
    "papermill": {
     "duration": 0.033727,
     "end_time": "2023-08-22T12:32:47.611975",
     "exception": false,
     "start_time": "2023-08-22T12:32:47.578248",
     "status": "completed"
    },
    "tags": []
   },
   "source": [
    "<a id = \"15\"></a><br>\n",
    "## Pclass -- Survived"
   ]
  },
  {
   "cell_type": "code",
   "execution_count": 37,
   "id": "13e65938",
   "metadata": {
    "execution": {
     "iopub.execute_input": "2023-08-22T12:32:47.681324Z",
     "iopub.status.busy": "2023-08-22T12:32:47.680936Z",
     "iopub.status.idle": "2023-08-22T12:32:48.160147Z",
     "shell.execute_reply": "2023-08-22T12:32:48.158950Z"
    },
    "papermill": {
     "duration": 0.517076,
     "end_time": "2023-08-22T12:32:48.162923",
     "exception": false,
     "start_time": "2023-08-22T12:32:47.645847",
     "status": "completed"
    },
    "tags": []
   },
   "outputs": [
    {
     "data": {
      "image/png": "[encoded data removed]",
      "text/plain": [
       "<Figure size 600x600 with 1 Axes>"
      ]
     },
     "metadata": {},
     "output_type": "display_data"
    }
   ],
   "source": [
    "g = sns.catplot(x = \"Pclass\", y = \"Survived\", data = train_df, kind = \"bar\", height = 6)\n",
    "g.set_ylabels(\"Survived Probability\")\n",
    "plt.show()"
   ]
  },
  {
   "cell_type": "markdown",
   "id": "e85e49e9",
   "metadata": {
    "papermill": {
     "duration": 0.034021,
     "end_time": "2023-08-22T12:32:48.232164",
     "exception": false,
     "start_time": "2023-08-22T12:32:48.198143",
     "status": "completed"
    },
    "tags": []
   },
   "source": [
    "<a id = \"16\"></a><br>\n",
    "## Age -- Survived"
   ]
  },
  {
   "cell_type": "code",
   "execution_count": 38,
   "id": "d63ef9b5",
   "metadata": {
    "execution": {
     "iopub.execute_input": "2023-08-22T12:32:48.303519Z",
     "iopub.status.busy": "2023-08-22T12:32:48.303121Z",
     "iopub.status.idle": "2023-08-22T12:32:49.113124Z",
     "shell.execute_reply": "2023-08-22T12:32:49.112017Z"
    },
    "papermill": {
     "duration": 0.848002,
     "end_time": "2023-08-22T12:32:49.115604",
     "exception": false,
     "start_time": "2023-08-22T12:32:48.267602",
     "status": "completed"
    },
    "tags": []
   },
   "outputs": [
    {
     "data": {
      "image/png": "[encoded data removed]",
      "text/plain": [
       "<Figure size 600x300 with 2 Axes>"
      ]
     },
     "metadata": {},
     "output_type": "display_data"
    }
   ],
   "source": [
    "g = sns.FacetGrid(train_df, col = \"Survived\")\n",
    "g.map(sns.distplot, \"Age\", bins = 25)\n",
    "plt.show()"
   ]
  },
  {
   "cell_type": "markdown",
   "id": "5de295e9",
   "metadata": {
    "papermill": {
     "duration": 0.036675,
     "end_time": "2023-08-22T12:32:49.187277",
     "exception": false,
     "start_time": "2023-08-22T12:32:49.150602",
     "status": "completed"
    },
    "tags": []
   },
   "source": [
    "* Age <= 10 has a high survival rate\n",
    "* Oldest passengers (80) survived\n",
    "* Large number of 20 years old did not survive\n",
    "* Most passengers are in 15-35 age range\n",
    "* Use age feature in training \n",
    "* Use age distribution for missing value of age"
   ]
  },
  {
   "cell_type": "markdown",
   "id": "31445e5b",
   "metadata": {
    "papermill": {
     "duration": 0.036491,
     "end_time": "2023-08-22T12:32:49.260371",
     "exception": false,
     "start_time": "2023-08-22T12:32:49.223880",
     "status": "completed"
    },
    "tags": []
   },
   "source": [
    "<a id = \"17\"></a><br>\n",
    "## Pclass -- Survived -- Age"
   ]
  },
  {
   "cell_type": "code",
   "execution_count": 39,
   "id": "bb42d990",
   "metadata": {
    "execution": {
     "iopub.execute_input": "2023-08-22T12:32:49.341778Z",
     "iopub.status.busy": "2023-08-22T12:32:49.340817Z",
     "iopub.status.idle": "2023-08-22T12:32:51.666818Z",
     "shell.execute_reply": "2023-08-22T12:32:51.665635Z"
    },
    "papermill": {
     "duration": 2.374004,
     "end_time": "2023-08-22T12:32:51.669099",
     "exception": false,
     "start_time": "2023-08-22T12:32:49.295095",
     "status": "completed"
    },
    "tags": []
   },
   "outputs": [
    {
     "data": {
      "image/png": "[encoded data removed]",
      "text/plain": [
       "<Figure size 611.111x900 with 6 Axes>"
      ]
     },
     "metadata": {},
     "output_type": "display_data"
    }
   ],
   "source": [
    "g = sns.FacetGrid(train_df, col = \"Survived\", row = \"Pclass\")\n",
    "g.map(plt.hist, \"Age\", bins = 25)\n",
    "g.add_legend()\n",
    "plt.show()"
   ]
  },
  {
   "cell_type": "markdown",
   "id": "527ff30a",
   "metadata": {
    "papermill": {
     "duration": 0.034914,
     "end_time": "2023-08-22T12:32:51.738809",
     "exception": false,
     "start_time": "2023-08-22T12:32:51.703895",
     "status": "completed"
    },
    "tags": []
   },
   "source": [
    "* Pclass is an important feature for model training "
   ]
  },
  {
   "cell_type": "markdown",
   "id": "09b944a2",
   "metadata": {
    "papermill": {
     "duration": 0.03457,
     "end_time": "2023-08-22T12:32:51.808223",
     "exception": false,
     "start_time": "2023-08-22T12:32:51.773653",
     "status": "completed"
    },
    "tags": []
   },
   "source": [
    "<a id = \"18\"></a><br>\n",
    "## Embarked -- Sex -- Pclass -- Survived"
   ]
  },
  {
   "cell_type": "code",
   "execution_count": 40,
   "id": "229a1c39",
   "metadata": {
    "execution": {
     "iopub.execute_input": "2023-08-22T12:32:51.881381Z",
     "iopub.status.busy": "2023-08-22T12:32:51.880966Z",
     "iopub.status.idle": "2023-08-22T12:32:53.971652Z",
     "shell.execute_reply": "2023-08-22T12:32:53.970630Z"
    },
    "papermill": {
     "duration": 2.128938,
     "end_time": "2023-08-22T12:32:53.973800",
     "exception": false,
     "start_time": "2023-08-22T12:32:51.844862",
     "status": "completed"
    },
    "tags": []
   },
   "outputs": [
    {
     "data": {
      "image/png": "[encoded data removed]",
      "text/plain": [
       "<Figure size 391.875x900 with 3 Axes>"
      ]
     },
     "metadata": {},
     "output_type": "display_data"
    }
   ],
   "source": [
    "g = sns.FacetGrid(train_df, row = \"Embarked\")\n",
    "g.map(sns.pointplot, \"Pclass\", \"Survived\", \"Sex\")\n",
    "g.add_legend()\n",
    "plt.show()"
   ]
  },
  {
   "cell_type": "markdown",
   "id": "bb095724",
   "metadata": {
    "papermill": {
     "duration": 0.035655,
     "end_time": "2023-08-22T12:32:54.045366",
     "exception": false,
     "start_time": "2023-08-22T12:32:54.009711",
     "status": "completed"
    },
    "tags": []
   },
   "source": [
    "* Female passengers have much better survival rate than males\n",
    "* Males have better survival rate in Pclass 3 in port C\n",
    "* Embarked and sex will be used in training "
   ]
  },
  {
   "cell_type": "markdown",
   "id": "a11a1797",
   "metadata": {
    "papermill": {
     "duration": 0.035579,
     "end_time": "2023-08-22T12:32:54.116533",
     "exception": false,
     "start_time": "2023-08-22T12:32:54.080954",
     "status": "completed"
    },
    "tags": []
   },
   "source": [
    "<a id = \"19\"></a><br>\n",
    "## Embarked -- Sex -- Fare -- Survived"
   ]
  },
  {
   "cell_type": "code",
   "execution_count": 41,
   "id": "5cb1dc46",
   "metadata": {
    "execution": {
     "iopub.execute_input": "2023-08-22T12:32:54.191139Z",
     "iopub.status.busy": "2023-08-22T12:32:54.190489Z",
     "iopub.status.idle": "2023-08-22T12:32:56.179848Z",
     "shell.execute_reply": "2023-08-22T12:32:56.178729Z"
    },
    "papermill": {
     "duration": 2.029718,
     "end_time": "2023-08-22T12:32:56.182094",
     "exception": false,
     "start_time": "2023-08-22T12:32:54.152376",
     "status": "completed"
    },
    "tags": []
   },
   "outputs": [
    {
     "data": {
      "image/png": "[encoded data removed]",
      "text/plain": [
       "<Figure size 611.111x900 with 6 Axes>"
      ]
     },
     "metadata": {},
     "output_type": "display_data"
    }
   ],
   "source": [
    "g = sns.FacetGrid(train_df, row = \"Embarked\", col = \"Survived\")\n",
    "g.map(sns.barplot, \"Sex\", \"Fare\")\n",
    "g.add_legend()\n",
    "plt.show()"
   ]
  },
  {
   "cell_type": "markdown",
   "id": "310c967f",
   "metadata": {
    "papermill": {
     "duration": 0.035884,
     "end_time": "2023-08-22T12:32:56.254326",
     "exception": false,
     "start_time": "2023-08-22T12:32:56.218442",
     "status": "completed"
    },
    "tags": []
   },
   "source": [
    "* Passengers who pay higher fare have better survival. Fare can be used as categorical for training."
   ]
  },
  {
   "cell_type": "markdown",
   "id": "5e9b774a",
   "metadata": {
    "papermill": {
     "duration": 0.035887,
     "end_time": "2023-08-22T12:32:56.326111",
     "exception": false,
     "start_time": "2023-08-22T12:32:56.290224",
     "status": "completed"
    },
    "tags": []
   },
   "source": [
    "<a id = \"20\"></a><br>\n",
    "## Fill Missing: Age Feature"
   ]
  },
  {
   "cell_type": "code",
   "execution_count": 42,
   "id": "d1667596",
   "metadata": {
    "execution": {
     "iopub.execute_input": "2023-08-22T12:32:56.401304Z",
     "iopub.status.busy": "2023-08-22T12:32:56.400464Z",
     "iopub.status.idle": "2023-08-22T12:32:56.423220Z",
     "shell.execute_reply": "2023-08-22T12:32:56.422106Z"
    },
    "papermill": {
     "duration": 0.062864,
     "end_time": "2023-08-22T12:32:56.425401",
     "exception": false,
     "start_time": "2023-08-22T12:32:56.362537",
     "status": "completed"
    },
    "tags": []
   },
   "outputs": [
    {
     "data": {
      "text/html": [
       "<div>\n",
       "<style scoped>\n",
       "    .dataframe tbody tr th:only-of-type {\n",
       "        vertical-align: middle;\n",
       "    }\n",
       "\n",
       "    .dataframe tbody tr th {\n",
       "        vertical-align: top;\n",
       "    }\n",
       "\n",
       "    .dataframe thead th {\n",
       "        text-align: right;\n",
       "    }\n",
       "</style>\n",
       "<table border=\"1\" class=\"dataframe\">\n",
       "  <thead>\n",
       "    <tr style=\"text-align: right;\">\n",
       "      <th></th>\n",
       "      <th>PassengerId</th>\n",
       "      <th>Survived</th>\n",
       "      <th>Pclass</th>\n",
       "      <th>Name</th>\n",
       "      <th>Sex</th>\n",
       "      <th>Age</th>\n",
       "      <th>SibSp</th>\n",
       "      <th>Parch</th>\n",
       "      <th>Ticket</th>\n",
       "      <th>Fare</th>\n",
       "      <th>Cabin</th>\n",
       "      <th>Embarked</th>\n",
       "    </tr>\n",
       "  </thead>\n",
       "  <tbody>\n",
       "    <tr>\n",
       "      <th>5</th>\n",
       "      <td>6</td>\n",
       "      <td>0.0</td>\n",
       "      <td>3</td>\n",
       "      <td>Moran, Mr. James</td>\n",
       "      <td>male</td>\n",
       "      <td>NaN</td>\n",
       "      <td>0</td>\n",
       "      <td>0</td>\n",
       "      <td>330877</td>\n",
       "      <td>8.4583</td>\n",
       "      <td>NaN</td>\n",
       "      <td>Q</td>\n",
       "    </tr>\n",
       "    <tr>\n",
       "      <th>17</th>\n",
       "      <td>18</td>\n",
       "      <td>1.0</td>\n",
       "      <td>2</td>\n",
       "      <td>Williams, Mr. Charles Eugene</td>\n",
       "      <td>male</td>\n",
       "      <td>NaN</td>\n",
       "      <td>0</td>\n",
       "      <td>0</td>\n",
       "      <td>244373</td>\n",
       "      <td>13.0000</td>\n",
       "      <td>NaN</td>\n",
       "      <td>S</td>\n",
       "    </tr>\n",
       "    <tr>\n",
       "      <th>19</th>\n",
       "      <td>20</td>\n",
       "      <td>1.0</td>\n",
       "      <td>3</td>\n",
       "      <td>Masselmani, Mrs. Fatima</td>\n",
       "      <td>female</td>\n",
       "      <td>NaN</td>\n",
       "      <td>0</td>\n",
       "      <td>0</td>\n",
       "      <td>2649</td>\n",
       "      <td>7.2250</td>\n",
       "      <td>NaN</td>\n",
       "      <td>C</td>\n",
       "    </tr>\n",
       "    <tr>\n",
       "      <th>26</th>\n",
       "      <td>27</td>\n",
       "      <td>0.0</td>\n",
       "      <td>3</td>\n",
       "      <td>Emir, Mr. Farred Chehab</td>\n",
       "      <td>male</td>\n",
       "      <td>NaN</td>\n",
       "      <td>0</td>\n",
       "      <td>0</td>\n",
       "      <td>2631</td>\n",
       "      <td>7.2250</td>\n",
       "      <td>NaN</td>\n",
       "      <td>C</td>\n",
       "    </tr>\n",
       "    <tr>\n",
       "      <th>27</th>\n",
       "      <td>29</td>\n",
       "      <td>1.0</td>\n",
       "      <td>3</td>\n",
       "      <td>O'Dwyer, Miss. Ellen \"Nellie\"</td>\n",
       "      <td>female</td>\n",
       "      <td>NaN</td>\n",
       "      <td>0</td>\n",
       "      <td>0</td>\n",
       "      <td>330959</td>\n",
       "      <td>7.8792</td>\n",
       "      <td>NaN</td>\n",
       "      <td>Q</td>\n",
       "    </tr>\n",
       "    <tr>\n",
       "      <th>...</th>\n",
       "      <td>...</td>\n",
       "      <td>...</td>\n",
       "      <td>...</td>\n",
       "      <td>...</td>\n",
       "      <td>...</td>\n",
       "      <td>...</td>\n",
       "      <td>...</td>\n",
       "      <td>...</td>\n",
       "      <td>...</td>\n",
       "      <td>...</td>\n",
       "      <td>...</td>\n",
       "      <td>...</td>\n",
       "    </tr>\n",
       "    <tr>\n",
       "      <th>1289</th>\n",
       "      <td>1300</td>\n",
       "      <td>NaN</td>\n",
       "      <td>3</td>\n",
       "      <td>Riordan, Miss. Johanna Hannah\"\"</td>\n",
       "      <td>female</td>\n",
       "      <td>NaN</td>\n",
       "      <td>0</td>\n",
       "      <td>0</td>\n",
       "      <td>334915</td>\n",
       "      <td>7.7208</td>\n",
       "      <td>NaN</td>\n",
       "      <td>Q</td>\n",
       "    </tr>\n",
       "    <tr>\n",
       "      <th>1291</th>\n",
       "      <td>1302</td>\n",
       "      <td>NaN</td>\n",
       "      <td>3</td>\n",
       "      <td>Naughton, Miss. Hannah</td>\n",
       "      <td>female</td>\n",
       "      <td>NaN</td>\n",
       "      <td>0</td>\n",
       "      <td>0</td>\n",
       "      <td>365237</td>\n",
       "      <td>7.7500</td>\n",
       "      <td>NaN</td>\n",
       "      <td>Q</td>\n",
       "    </tr>\n",
       "    <tr>\n",
       "      <th>1294</th>\n",
       "      <td>1305</td>\n",
       "      <td>NaN</td>\n",
       "      <td>3</td>\n",
       "      <td>Spector, Mr. Woolf</td>\n",
       "      <td>male</td>\n",
       "      <td>NaN</td>\n",
       "      <td>0</td>\n",
       "      <td>0</td>\n",
       "      <td>A.5. 3236</td>\n",
       "      <td>8.0500</td>\n",
       "      <td>NaN</td>\n",
       "      <td>S</td>\n",
       "    </tr>\n",
       "    <tr>\n",
       "      <th>1297</th>\n",
       "      <td>1308</td>\n",
       "      <td>NaN</td>\n",
       "      <td>3</td>\n",
       "      <td>Ware, Mr. Frederick</td>\n",
       "      <td>male</td>\n",
       "      <td>NaN</td>\n",
       "      <td>0</td>\n",
       "      <td>0</td>\n",
       "      <td>359309</td>\n",
       "      <td>8.0500</td>\n",
       "      <td>NaN</td>\n",
       "      <td>S</td>\n",
       "    </tr>\n",
       "    <tr>\n",
       "      <th>1298</th>\n",
       "      <td>1309</td>\n",
       "      <td>NaN</td>\n",
       "      <td>3</td>\n",
       "      <td>Peter, Master. Michael J</td>\n",
       "      <td>male</td>\n",
       "      <td>NaN</td>\n",
       "      <td>1</td>\n",
       "      <td>1</td>\n",
       "      <td>2668</td>\n",
       "      <td>22.3583</td>\n",
       "      <td>NaN</td>\n",
       "      <td>C</td>\n",
       "    </tr>\n",
       "  </tbody>\n",
       "</table>\n",
       "<p>256 rows × 12 columns</p>\n",
       "</div>"
      ],
      "text/plain": [
       "      PassengerId  Survived  Pclass                             Name     Sex  \\\n",
       "5               6       0.0       3                 Moran, Mr. James    male   \n",
       "17             18       1.0       2     Williams, Mr. Charles Eugene    male   \n",
       "19             20       1.0       3          Masselmani, Mrs. Fatima  female   \n",
       "26             27       0.0       3          Emir, Mr. Farred Chehab    male   \n",
       "27             29       1.0       3    O'Dwyer, Miss. Ellen \"Nellie\"  female   \n",
       "...           ...       ...     ...                              ...     ...   \n",
       "1289         1300       NaN       3  Riordan, Miss. Johanna Hannah\"\"  female   \n",
       "1291         1302       NaN       3           Naughton, Miss. Hannah  female   \n",
       "1294         1305       NaN       3               Spector, Mr. Woolf    male   \n",
       "1297         1308       NaN       3              Ware, Mr. Frederick    male   \n",
       "1298         1309       NaN       3         Peter, Master. Michael J    male   \n",
       "\n",
       "      Age  SibSp  Parch     Ticket     Fare Cabin Embarked  \n",
       "5     NaN      0      0     330877   8.4583   NaN        Q  \n",
       "17    NaN      0      0     244373  13.0000   NaN        S  \n",
       "19    NaN      0      0       2649   7.2250   NaN        C  \n",
       "26    NaN      0      0       2631   7.2250   NaN        C  \n",
       "27    NaN      0      0     330959   7.8792   NaN        Q  \n",
       "...   ...    ...    ...        ...      ...   ...      ...  \n",
       "1289  NaN      0      0     334915   7.7208   NaN        Q  \n",
       "1291  NaN      0      0     365237   7.7500   NaN        Q  \n",
       "1294  NaN      0      0  A.5. 3236   8.0500   NaN        S  \n",
       "1297  NaN      0      0     359309   8.0500   NaN        S  \n",
       "1298  NaN      1      1       2668  22.3583   NaN        C  \n",
       "\n",
       "[256 rows x 12 columns]"
      ]
     },
     "execution_count": 42,
     "metadata": {},
     "output_type": "execute_result"
    }
   ],
   "source": [
    "train_df[train_df[\"Age\"].isnull()]"
   ]
  },
  {
   "cell_type": "code",
   "execution_count": 43,
   "id": "a0cbe2ad",
   "metadata": {
    "execution": {
     "iopub.execute_input": "2023-08-22T12:32:56.500843Z",
     "iopub.status.busy": "2023-08-22T12:32:56.499699Z",
     "iopub.status.idle": "2023-08-22T12:32:56.795444Z",
     "shell.execute_reply": "2023-08-22T12:32:56.794329Z"
    },
    "papermill": {
     "duration": 0.335706,
     "end_time": "2023-08-22T12:32:56.797621",
     "exception": false,
     "start_time": "2023-08-22T12:32:56.461915",
     "status": "completed"
    },
    "tags": []
   },
   "outputs": [
    {
     "data": {
      "image/png": "[encoded data removed]",
      "text/plain": [
       "<Figure size 500x500 with 1 Axes>"
      ]
     },
     "metadata": {},
     "output_type": "display_data"
    }
   ],
   "source": [
    "sns.catplot(x = \"Sex\", y = \"Age\", data = train_df, kind = \"box\")\n",
    "plt.show()"
   ]
  },
  {
   "cell_type": "markdown",
   "id": "c264e30a",
   "metadata": {
    "papermill": {
     "duration": 0.036543,
     "end_time": "2023-08-22T12:32:56.871047",
     "exception": false,
     "start_time": "2023-08-22T12:32:56.834504",
     "status": "completed"
    },
    "tags": []
   },
   "source": [
    "Sex is not informative for age prediction, age distribution seems to be same"
   ]
  },
  {
   "cell_type": "code",
   "execution_count": 44,
   "id": "18f78e13",
   "metadata": {
    "execution": {
     "iopub.execute_input": "2023-08-22T12:32:56.946091Z",
     "iopub.status.busy": "2023-08-22T12:32:56.945720Z",
     "iopub.status.idle": "2023-08-22T12:32:57.425984Z",
     "shell.execute_reply": "2023-08-22T12:32:57.424860Z"
    },
    "papermill": {
     "duration": 0.520526,
     "end_time": "2023-08-22T12:32:57.428196",
     "exception": false,
     "start_time": "2023-08-22T12:32:56.907670",
     "status": "completed"
    },
    "tags": []
   },
   "outputs": [
    {
     "data": {
      "image/png": "[encoded data removed]",
      "text/plain": [
       "<Figure size 557.75x500 with 1 Axes>"
      ]
     },
     "metadata": {},
     "output_type": "display_data"
    }
   ],
   "source": [
    "sns.catplot(x = \"Sex\", y = \"Age\", hue = \"Pclass\", data = train_df, kind = \"box\")\n",
    "plt.show()"
   ]
  },
  {
   "cell_type": "markdown",
   "id": "0db6b9a3",
   "metadata": {
    "papermill": {
     "duration": 0.037807,
     "end_time": "2023-08-22T12:32:57.503756",
     "exception": false,
     "start_time": "2023-08-22T12:32:57.465949",
     "status": "completed"
    },
    "tags": []
   },
   "source": [
    "1st class passengers are older than 2nd, and 2nd is older than 3rd class"
   ]
  },
  {
   "cell_type": "code",
   "execution_count": 45,
   "id": "b7adeca9",
   "metadata": {
    "execution": {
     "iopub.execute_input": "2023-08-22T12:32:57.581858Z",
     "iopub.status.busy": "2023-08-22T12:32:57.580892Z",
     "iopub.status.idle": "2023-08-22T12:32:58.507121Z",
     "shell.execute_reply": "2023-08-22T12:32:58.506050Z"
    },
    "papermill": {
     "duration": 0.967902,
     "end_time": "2023-08-22T12:32:58.509938",
     "exception": false,
     "start_time": "2023-08-22T12:32:57.542036",
     "status": "completed"
    },
    "tags": []
   },
   "outputs": [
    {
     "data": {
      "image/png": "[encoded data removed]",
      "text/plain": [
       "<Figure size 500x500 with 1 Axes>"
      ]
     },
     "metadata": {},
     "output_type": "display_data"
    },
    {
     "data": {
      "image/png": "[encoded data removed]",
      "text/plain": [
       "<Figure size 500x500 with 1 Axes>"
      ]
     },
     "metadata": {},
     "output_type": "display_data"
    }
   ],
   "source": [
    "sns.catplot(x = \"Parch\", y = \"Age\", data = train_df, kind = \"box\")\n",
    "sns.catplot(x = \"SibSp\", y = \"Age\", data = train_df, kind = \"box\")\n",
    "plt.show()"
   ]
  },
  {
   "cell_type": "code",
   "execution_count": 46,
   "id": "d1f55057",
   "metadata": {
    "execution": {
     "iopub.execute_input": "2023-08-22T12:32:58.588742Z",
     "iopub.status.busy": "2023-08-22T12:32:58.588134Z",
     "iopub.status.idle": "2023-08-22T12:32:58.593481Z",
     "shell.execute_reply": "2023-08-22T12:32:58.592748Z"
    },
    "papermill": {
     "duration": 0.047217,
     "end_time": "2023-08-22T12:32:58.595376",
     "exception": false,
     "start_time": "2023-08-22T12:32:58.548159",
     "status": "completed"
    },
    "tags": []
   },
   "outputs": [],
   "source": [
    "train_df[\"Sex\"] = [1 if i == \"male\" else 0 for i in train_df[\"Sex\"]] "
   ]
  },
  {
   "cell_type": "code",
   "execution_count": 47,
   "id": "09bcc593",
   "metadata": {
    "execution": {
     "iopub.execute_input": "2023-08-22T12:32:58.674384Z",
     "iopub.status.busy": "2023-08-22T12:32:58.673751Z",
     "iopub.status.idle": "2023-08-22T12:32:59.019951Z",
     "shell.execute_reply": "2023-08-22T12:32:59.018841Z"
    },
    "papermill": {
     "duration": 0.388077,
     "end_time": "2023-08-22T12:32:59.022315",
     "exception": false,
     "start_time": "2023-08-22T12:32:58.634238",
     "status": "completed"
    },
    "tags": []
   },
   "outputs": [
    {
     "data": {
      "image/png": "[encoded data removed]",
      "text/plain": [
       "<Figure size 640x480 with 2 Axes>"
      ]
     },
     "metadata": {},
     "output_type": "display_data"
    }
   ],
   "source": [
    "sns.heatmap(train_df[[\"Age\", \"Sex\" , \"SibSp\" , \"Parch\" , \"Pclass\"]].corr(), annot = True)\n",
    "plt.show()"
   ]
  },
  {
   "cell_type": "markdown",
   "id": "5f3cfc31",
   "metadata": {
    "papermill": {
     "duration": 0.039202,
     "end_time": "2023-08-22T12:32:59.100267",
     "exception": false,
     "start_time": "2023-08-22T12:32:59.061065",
     "status": "completed"
    },
    "tags": []
   },
   "source": [
    "Age is not correlated with Sex but it is correlated with Parch, SibSp and Pclass "
   ]
  },
  {
   "cell_type": "code",
   "execution_count": 48,
   "id": "ff18563c",
   "metadata": {
    "execution": {
     "iopub.execute_input": "2023-08-22T12:32:59.180837Z",
     "iopub.status.busy": "2023-08-22T12:32:59.179793Z",
     "iopub.status.idle": "2023-08-22T12:32:59.732715Z",
     "shell.execute_reply": "2023-08-22T12:32:59.731728Z"
    },
    "papermill": {
     "duration": 0.596794,
     "end_time": "2023-08-22T12:32:59.735296",
     "exception": false,
     "start_time": "2023-08-22T12:32:59.138502",
     "status": "completed"
    },
    "tags": []
   },
   "outputs": [],
   "source": [
    "index_nan_age = list(train_df[\"Age\"][train_df[\"Age\"].isnull()].index)\n",
    "for i in index_nan_age:\n",
    "    age_pred = train_df[\"Age\"][((train_df[\"SibSp\"] == train_df.iloc[i][\"SibSp\"]) & (train_df[\"Parch\"] == train_df.iloc[i][\"Parch\"]) & (train_df[\"Pclass\"] == train_df.iloc[i][\"Pclass\"]))].median()\n",
    "    age_med = train_df[\"Age\"].median()\n",
    "    if not np.isnan(age_pred):\n",
    "        train_df[\"Age\"].iloc[i] = age_pred\n",
    "    else:\n",
    "        train_df[\"Age\"].iloc[i] = age_med\n",
    "            \n",
    "     "
   ]
  },
  {
   "cell_type": "code",
   "execution_count": 49,
   "id": "ccfcdffd",
   "metadata": {
    "execution": {
     "iopub.execute_input": "2023-08-22T12:32:59.815753Z",
     "iopub.status.busy": "2023-08-22T12:32:59.815359Z",
     "iopub.status.idle": "2023-08-22T12:32:59.826103Z",
     "shell.execute_reply": "2023-08-22T12:32:59.825042Z"
    },
    "papermill": {
     "duration": 0.053252,
     "end_time": "2023-08-22T12:32:59.828337",
     "exception": false,
     "start_time": "2023-08-22T12:32:59.775085",
     "status": "completed"
    },
    "tags": []
   },
   "outputs": [
    {
     "data": {
      "text/html": [
       "<div>\n",
       "<style scoped>\n",
       "    .dataframe tbody tr th:only-of-type {\n",
       "        vertical-align: middle;\n",
       "    }\n",
       "\n",
       "    .dataframe tbody tr th {\n",
       "        vertical-align: top;\n",
       "    }\n",
       "\n",
       "    .dataframe thead th {\n",
       "        text-align: right;\n",
       "    }\n",
       "</style>\n",
       "<table border=\"1\" class=\"dataframe\">\n",
       "  <thead>\n",
       "    <tr style=\"text-align: right;\">\n",
       "      <th></th>\n",
       "      <th>PassengerId</th>\n",
       "      <th>Survived</th>\n",
       "      <th>Pclass</th>\n",
       "      <th>Name</th>\n",
       "      <th>Sex</th>\n",
       "      <th>Age</th>\n",
       "      <th>SibSp</th>\n",
       "      <th>Parch</th>\n",
       "      <th>Ticket</th>\n",
       "      <th>Fare</th>\n",
       "      <th>Cabin</th>\n",
       "      <th>Embarked</th>\n",
       "    </tr>\n",
       "  </thead>\n",
       "  <tbody>\n",
       "  </tbody>\n",
       "</table>\n",
       "</div>"
      ],
      "text/plain": [
       "Empty DataFrame\n",
       "Columns: [PassengerId, Survived, Pclass, Name, Sex, Age, SibSp, Parch, Ticket, Fare, Cabin, Embarked]\n",
       "Index: []"
      ]
     },
     "execution_count": 49,
     "metadata": {},
     "output_type": "execute_result"
    }
   ],
   "source": [
    "train_df[train_df[\"Age\"].isnull()]"
   ]
  },
  {
   "cell_type": "markdown",
   "id": "b2e4739d",
   "metadata": {
    "papermill": {
     "duration": 0.038884,
     "end_time": "2023-08-22T12:32:59.906754",
     "exception": false,
     "start_time": "2023-08-22T12:32:59.867870",
     "status": "completed"
    },
    "tags": []
   },
   "source": [
    "<a id = \"21\"></a><br>\n",
    "# Feature Engineering  \n",
    "   "
   ]
  },
  {
   "cell_type": "markdown",
   "id": "22c3da1f",
   "metadata": {
    "papermill": {
     "duration": 0.039668,
     "end_time": "2023-08-22T12:32:59.985667",
     "exception": false,
     "start_time": "2023-08-22T12:32:59.945999",
     "status": "completed"
    },
    "tags": []
   },
   "source": [
    "<a id = \"22\"></a><br>\n",
    "## Name -- Title "
   ]
  },
  {
   "cell_type": "code",
   "execution_count": 50,
   "id": "2d275293",
   "metadata": {
    "execution": {
     "iopub.execute_input": "2023-08-22T12:33:00.069794Z",
     "iopub.status.busy": "2023-08-22T12:33:00.068657Z",
     "iopub.status.idle": "2023-08-22T12:33:00.078534Z",
     "shell.execute_reply": "2023-08-22T12:33:00.077739Z"
    },
    "papermill": {
     "duration": 0.053769,
     "end_time": "2023-08-22T12:33:00.080585",
     "exception": false,
     "start_time": "2023-08-22T12:33:00.026816",
     "status": "completed"
    },
    "tags": []
   },
   "outputs": [
    {
     "data": {
      "text/plain": [
       "0                              Braund, Mr. Owen Harris\n",
       "1    Cumings, Mrs. John Bradley (Florence Briggs Th...\n",
       "2                               Heikkinen, Miss. Laina\n",
       "3         Futrelle, Mrs. Jacques Heath (Lily May Peel)\n",
       "4                             Allen, Mr. William Henry\n",
       "5                                     Moran, Mr. James\n",
       "6                              McCarthy, Mr. Timothy J\n",
       "7                       Palsson, Master. Gosta Leonard\n",
       "8    Johnson, Mrs. Oscar W (Elisabeth Vilhelmina Berg)\n",
       "9                  Nasser, Mrs. Nicholas (Adele Achem)\n",
       "Name: Name, dtype: object"
      ]
     },
     "execution_count": 50,
     "metadata": {},
     "output_type": "execute_result"
    }
   ],
   "source": [
    "train_df[\"Name\"].head(10)"
   ]
  },
  {
   "cell_type": "code",
   "execution_count": 51,
   "id": "da52af98",
   "metadata": {
    "execution": {
     "iopub.execute_input": "2023-08-22T12:33:00.160850Z",
     "iopub.status.busy": "2023-08-22T12:33:00.160423Z",
     "iopub.status.idle": "2023-08-22T12:33:00.167791Z",
     "shell.execute_reply": "2023-08-22T12:33:00.166699Z"
    },
    "papermill": {
     "duration": 0.049378,
     "end_time": "2023-08-22T12:33:00.169772",
     "exception": false,
     "start_time": "2023-08-22T12:33:00.120394",
     "status": "completed"
    },
    "tags": []
   },
   "outputs": [],
   "source": [
    "name = train_df[\"Name\"]\n",
    "train_df[\"Title\"] = [i.split(\".\")[0].split(\",\")[-1].strip() for i in name]\n"
   ]
  },
  {
   "cell_type": "code",
   "execution_count": 52,
   "id": "1f79fd8a",
   "metadata": {
    "execution": {
     "iopub.execute_input": "2023-08-22T12:33:00.250261Z",
     "iopub.status.busy": "2023-08-22T12:33:00.249578Z",
     "iopub.status.idle": "2023-08-22T12:33:00.256829Z",
     "shell.execute_reply": "2023-08-22T12:33:00.255967Z"
    },
    "papermill": {
     "duration": 0.049764,
     "end_time": "2023-08-22T12:33:00.258823",
     "exception": false,
     "start_time": "2023-08-22T12:33:00.209059",
     "status": "completed"
    },
    "tags": []
   },
   "outputs": [
    {
     "data": {
      "text/plain": [
       "0           Mr\n",
       "1          Mrs\n",
       "2         Miss\n",
       "3          Mrs\n",
       "4           Mr\n",
       "         ...  \n",
       "1294        Mr\n",
       "1295      Dona\n",
       "1296        Mr\n",
       "1297        Mr\n",
       "1298    Master\n",
       "Name: Title, Length: 1299, dtype: object"
      ]
     },
     "execution_count": 52,
     "metadata": {},
     "output_type": "execute_result"
    }
   ],
   "source": [
    "train_df[\"Title\"]"
   ]
  },
  {
   "cell_type": "code",
   "execution_count": 53,
   "id": "bca2cfcd",
   "metadata": {
    "execution": {
     "iopub.execute_input": "2023-08-22T12:33:00.338805Z",
     "iopub.status.busy": "2023-08-22T12:33:00.337877Z",
     "iopub.status.idle": "2023-08-22T12:33:00.641711Z",
     "shell.execute_reply": "2023-08-22T12:33:00.640686Z"
    },
    "papermill": {
     "duration": 0.346244,
     "end_time": "2023-08-22T12:33:00.643997",
     "exception": false,
     "start_time": "2023-08-22T12:33:00.297753",
     "status": "completed"
    },
    "tags": []
   },
   "outputs": [
    {
     "data": {
      "image/png": "[encoded data removed]",
      "text/plain": [
       "<Figure size 640x480 with 1 Axes>"
      ]
     },
     "metadata": {},
     "output_type": "display_data"
    }
   ],
   "source": [
    "sns.countplot(x = \"Title\", data = train_df)\n",
    "plt.xticks(rotation = 60)\n",
    "plt.show()"
   ]
  },
  {
   "cell_type": "code",
   "execution_count": 54,
   "id": "fb5a2a43",
   "metadata": {
    "execution": {
     "iopub.execute_input": "2023-08-22T12:33:00.726849Z",
     "iopub.status.busy": "2023-08-22T12:33:00.725978Z",
     "iopub.status.idle": "2023-08-22T12:33:00.735043Z",
     "shell.execute_reply": "2023-08-22T12:33:00.734246Z"
    },
    "papermill": {
     "duration": 0.052972,
     "end_time": "2023-08-22T12:33:00.737363",
     "exception": false,
     "start_time": "2023-08-22T12:33:00.684391",
     "status": "completed"
    },
    "tags": []
   },
   "outputs": [],
   "source": [
    "# convert to categorical\n",
    "train_df[\"Title\"] = train_df[\"Title\"].replace([\"Lady\",\"the Countess\",\"Capt\" ,\"Col\" ,\"Don\" ,\"Dr\" ,\"Major\", \"Rev\", \"Sir\", \"Jonkheer\", \"Dona\"], \"other\")\n",
    "train_df[\"Title\"] = [0 if i == \"Master\" else 1 if i == \"Miss\" or i == \"Ms\" or i == \"Mlle\" or i == \"Mrs\" else 2 if i == \"Mr\" else 3 for i in train_df[\"Title\"]]"
   ]
  },
  {
   "cell_type": "code",
   "execution_count": 55,
   "id": "91fe8233",
   "metadata": {
    "execution": {
     "iopub.execute_input": "2023-08-22T12:33:00.819779Z",
     "iopub.status.busy": "2023-08-22T12:33:00.819090Z",
     "iopub.status.idle": "2023-08-22T12:33:01.015131Z",
     "shell.execute_reply": "2023-08-22T12:33:01.014065Z"
    },
    "papermill": {
     "duration": 0.239539,
     "end_time": "2023-08-22T12:33:01.017434",
     "exception": false,
     "start_time": "2023-08-22T12:33:00.777895",
     "status": "completed"
    },
    "tags": []
   },
   "outputs": [
    {
     "data": {
      "image/png": "[encoded data removed]",
      "text/plain": [
       "<Figure size 640x480 with 1 Axes>"
      ]
     },
     "metadata": {},
     "output_type": "display_data"
    }
   ],
   "source": [
    "sns.countplot(x = \"Title\", data = train_df)\n",
    "plt.xticks(rotation = 60)\n",
    "plt.show()"
   ]
  },
  {
   "cell_type": "code",
   "execution_count": 56,
   "id": "1c64a21b",
   "metadata": {
    "execution": {
     "iopub.execute_input": "2023-08-22T12:33:01.099776Z",
     "iopub.status.busy": "2023-08-22T12:33:01.098617Z",
     "iopub.status.idle": "2023-08-22T12:33:01.658214Z",
     "shell.execute_reply": "2023-08-22T12:33:01.657064Z"
    },
    "papermill": {
     "duration": 0.603103,
     "end_time": "2023-08-22T12:33:01.660561",
     "exception": false,
     "start_time": "2023-08-22T12:33:01.057458",
     "status": "completed"
    },
    "tags": []
   },
   "outputs": [
    {
     "data": {
      "image/png": "[encoded data removed]",
      "text/plain": [
       "<Figure size 500x500 with 1 Axes>"
      ]
     },
     "metadata": {},
     "output_type": "display_data"
    }
   ],
   "source": [
    "g = sns.catplot(x = \"Title\", y = \"Survived\", data = train_df, kind = \"bar\")\n",
    "g.set_xticklabels([\"Master\", \"Mrs\", \"Mr\", \"Other\"])\n",
    "g.set_ylabels(\"Survival Probability\")\n",
    "plt.show()                             "
   ]
  },
  {
   "cell_type": "code",
   "execution_count": 57,
   "id": "834a42f3",
   "metadata": {
    "execution": {
     "iopub.execute_input": "2023-08-22T12:33:01.745235Z",
     "iopub.status.busy": "2023-08-22T12:33:01.744446Z",
     "iopub.status.idle": "2023-08-22T12:33:01.750885Z",
     "shell.execute_reply": "2023-08-22T12:33:01.750019Z"
    },
    "papermill": {
     "duration": 0.051884,
     "end_time": "2023-08-22T12:33:01.753122",
     "exception": false,
     "start_time": "2023-08-22T12:33:01.701238",
     "status": "completed"
    },
    "tags": []
   },
   "outputs": [],
   "source": [
    "train_df.drop(labels = [\"Name\"], axis = 1, inplace = True)"
   ]
  },
  {
   "cell_type": "code",
   "execution_count": 58,
   "id": "fb844e6a",
   "metadata": {
    "execution": {
     "iopub.execute_input": "2023-08-22T12:33:01.939875Z",
     "iopub.status.busy": "2023-08-22T12:33:01.939092Z",
     "iopub.status.idle": "2023-08-22T12:33:01.960704Z",
     "shell.execute_reply": "2023-08-22T12:33:01.959516Z"
    },
    "papermill": {
     "duration": 0.065386,
     "end_time": "2023-08-22T12:33:01.963071",
     "exception": false,
     "start_time": "2023-08-22T12:33:01.897685",
     "status": "completed"
    },
    "tags": []
   },
   "outputs": [
    {
     "data": {
      "text/html": [
       "<div>\n",
       "<style scoped>\n",
       "    .dataframe tbody tr th:only-of-type {\n",
       "        vertical-align: middle;\n",
       "    }\n",
       "\n",
       "    .dataframe tbody tr th {\n",
       "        vertical-align: top;\n",
       "    }\n",
       "\n",
       "    .dataframe thead th {\n",
       "        text-align: right;\n",
       "    }\n",
       "</style>\n",
       "<table border=\"1\" class=\"dataframe\">\n",
       "  <thead>\n",
       "    <tr style=\"text-align: right;\">\n",
       "      <th></th>\n",
       "      <th>PassengerId</th>\n",
       "      <th>Survived</th>\n",
       "      <th>Pclass</th>\n",
       "      <th>Sex</th>\n",
       "      <th>Age</th>\n",
       "      <th>SibSp</th>\n",
       "      <th>Parch</th>\n",
       "      <th>Ticket</th>\n",
       "      <th>Fare</th>\n",
       "      <th>Cabin</th>\n",
       "      <th>Embarked</th>\n",
       "      <th>Title_0</th>\n",
       "      <th>Title_1</th>\n",
       "      <th>Title_2</th>\n",
       "      <th>Title_3</th>\n",
       "    </tr>\n",
       "  </thead>\n",
       "  <tbody>\n",
       "    <tr>\n",
       "      <th>0</th>\n",
       "      <td>1</td>\n",
       "      <td>0.0</td>\n",
       "      <td>3</td>\n",
       "      <td>1</td>\n",
       "      <td>22.0</td>\n",
       "      <td>1</td>\n",
       "      <td>0</td>\n",
       "      <td>A/5 21171</td>\n",
       "      <td>7.2500</td>\n",
       "      <td>NaN</td>\n",
       "      <td>S</td>\n",
       "      <td>0</td>\n",
       "      <td>0</td>\n",
       "      <td>1</td>\n",
       "      <td>0</td>\n",
       "    </tr>\n",
       "    <tr>\n",
       "      <th>1</th>\n",
       "      <td>2</td>\n",
       "      <td>1.0</td>\n",
       "      <td>1</td>\n",
       "      <td>0</td>\n",
       "      <td>38.0</td>\n",
       "      <td>1</td>\n",
       "      <td>0</td>\n",
       "      <td>PC 17599</td>\n",
       "      <td>71.2833</td>\n",
       "      <td>C85</td>\n",
       "      <td>C</td>\n",
       "      <td>0</td>\n",
       "      <td>1</td>\n",
       "      <td>0</td>\n",
       "      <td>0</td>\n",
       "    </tr>\n",
       "    <tr>\n",
       "      <th>2</th>\n",
       "      <td>3</td>\n",
       "      <td>1.0</td>\n",
       "      <td>3</td>\n",
       "      <td>0</td>\n",
       "      <td>26.0</td>\n",
       "      <td>0</td>\n",
       "      <td>0</td>\n",
       "      <td>STON/O2. 3101282</td>\n",
       "      <td>7.9250</td>\n",
       "      <td>NaN</td>\n",
       "      <td>S</td>\n",
       "      <td>0</td>\n",
       "      <td>1</td>\n",
       "      <td>0</td>\n",
       "      <td>0</td>\n",
       "    </tr>\n",
       "    <tr>\n",
       "      <th>3</th>\n",
       "      <td>4</td>\n",
       "      <td>1.0</td>\n",
       "      <td>1</td>\n",
       "      <td>0</td>\n",
       "      <td>35.0</td>\n",
       "      <td>1</td>\n",
       "      <td>0</td>\n",
       "      <td>113803</td>\n",
       "      <td>53.1000</td>\n",
       "      <td>C123</td>\n",
       "      <td>S</td>\n",
       "      <td>0</td>\n",
       "      <td>1</td>\n",
       "      <td>0</td>\n",
       "      <td>0</td>\n",
       "    </tr>\n",
       "    <tr>\n",
       "      <th>4</th>\n",
       "      <td>5</td>\n",
       "      <td>0.0</td>\n",
       "      <td>3</td>\n",
       "      <td>1</td>\n",
       "      <td>35.0</td>\n",
       "      <td>0</td>\n",
       "      <td>0</td>\n",
       "      <td>373450</td>\n",
       "      <td>8.0500</td>\n",
       "      <td>NaN</td>\n",
       "      <td>S</td>\n",
       "      <td>0</td>\n",
       "      <td>0</td>\n",
       "      <td>1</td>\n",
       "      <td>0</td>\n",
       "    </tr>\n",
       "  </tbody>\n",
       "</table>\n",
       "</div>"
      ],
      "text/plain": [
       "   PassengerId  Survived  Pclass  Sex   Age  SibSp  Parch            Ticket  \\\n",
       "0            1       0.0       3    1  22.0      1      0         A/5 21171   \n",
       "1            2       1.0       1    0  38.0      1      0          PC 17599   \n",
       "2            3       1.0       3    0  26.0      0      0  STON/O2. 3101282   \n",
       "3            4       1.0       1    0  35.0      1      0            113803   \n",
       "4            5       0.0       3    1  35.0      0      0            373450   \n",
       "\n",
       "      Fare Cabin Embarked  Title_0  Title_1  Title_2  Title_3  \n",
       "0   7.2500   NaN        S        0        0        1        0  \n",
       "1  71.2833   C85        C        0        1        0        0  \n",
       "2   7.9250   NaN        S        0        1        0        0  \n",
       "3  53.1000  C123        S        0        1        0        0  \n",
       "4   8.0500   NaN        S        0        0        1        0  "
      ]
     },
     "execution_count": 58,
     "metadata": {},
     "output_type": "execute_result"
    }
   ],
   "source": [
    "train_df = pd.get_dummies(train_df , columns = [\"Title\"])\n",
    "train_df.head()"
   ]
  },
  {
   "cell_type": "markdown",
   "id": "41db135e",
   "metadata": {
    "papermill": {
     "duration": 0.040846,
     "end_time": "2023-08-22T12:33:02.044769",
     "exception": false,
     "start_time": "2023-08-22T12:33:02.003923",
     "status": "completed"
    },
    "tags": []
   },
   "source": [
    "<a id = \"23\"></a><br>\n",
    "## Family Size"
   ]
  },
  {
   "cell_type": "code",
   "execution_count": 59,
   "id": "19b24b25",
   "metadata": {
    "execution": {
     "iopub.execute_input": "2023-08-22T12:33:02.129927Z",
     "iopub.status.busy": "2023-08-22T12:33:02.129267Z",
     "iopub.status.idle": "2023-08-22T12:33:02.144498Z",
     "shell.execute_reply": "2023-08-22T12:33:02.143714Z"
    },
    "papermill": {
     "duration": 0.059862,
     "end_time": "2023-08-22T12:33:02.146354",
     "exception": false,
     "start_time": "2023-08-22T12:33:02.086492",
     "status": "completed"
    },
    "tags": []
   },
   "outputs": [
    {
     "data": {
      "text/html": [
       "<div>\n",
       "<style scoped>\n",
       "    .dataframe tbody tr th:only-of-type {\n",
       "        vertical-align: middle;\n",
       "    }\n",
       "\n",
       "    .dataframe tbody tr th {\n",
       "        vertical-align: top;\n",
       "    }\n",
       "\n",
       "    .dataframe thead th {\n",
       "        text-align: right;\n",
       "    }\n",
       "</style>\n",
       "<table border=\"1\" class=\"dataframe\">\n",
       "  <thead>\n",
       "    <tr style=\"text-align: right;\">\n",
       "      <th></th>\n",
       "      <th>PassengerId</th>\n",
       "      <th>Survived</th>\n",
       "      <th>Pclass</th>\n",
       "      <th>Sex</th>\n",
       "      <th>Age</th>\n",
       "      <th>SibSp</th>\n",
       "      <th>Parch</th>\n",
       "      <th>Ticket</th>\n",
       "      <th>Fare</th>\n",
       "      <th>Cabin</th>\n",
       "      <th>Embarked</th>\n",
       "      <th>Title_0</th>\n",
       "      <th>Title_1</th>\n",
       "      <th>Title_2</th>\n",
       "      <th>Title_3</th>\n",
       "    </tr>\n",
       "  </thead>\n",
       "  <tbody>\n",
       "    <tr>\n",
       "      <th>0</th>\n",
       "      <td>1</td>\n",
       "      <td>0.0</td>\n",
       "      <td>3</td>\n",
       "      <td>1</td>\n",
       "      <td>22.0</td>\n",
       "      <td>1</td>\n",
       "      <td>0</td>\n",
       "      <td>A/5 21171</td>\n",
       "      <td>7.2500</td>\n",
       "      <td>NaN</td>\n",
       "      <td>S</td>\n",
       "      <td>0</td>\n",
       "      <td>0</td>\n",
       "      <td>1</td>\n",
       "      <td>0</td>\n",
       "    </tr>\n",
       "    <tr>\n",
       "      <th>1</th>\n",
       "      <td>2</td>\n",
       "      <td>1.0</td>\n",
       "      <td>1</td>\n",
       "      <td>0</td>\n",
       "      <td>38.0</td>\n",
       "      <td>1</td>\n",
       "      <td>0</td>\n",
       "      <td>PC 17599</td>\n",
       "      <td>71.2833</td>\n",
       "      <td>C85</td>\n",
       "      <td>C</td>\n",
       "      <td>0</td>\n",
       "      <td>1</td>\n",
       "      <td>0</td>\n",
       "      <td>0</td>\n",
       "    </tr>\n",
       "    <tr>\n",
       "      <th>2</th>\n",
       "      <td>3</td>\n",
       "      <td>1.0</td>\n",
       "      <td>3</td>\n",
       "      <td>0</td>\n",
       "      <td>26.0</td>\n",
       "      <td>0</td>\n",
       "      <td>0</td>\n",
       "      <td>STON/O2. 3101282</td>\n",
       "      <td>7.9250</td>\n",
       "      <td>NaN</td>\n",
       "      <td>S</td>\n",
       "      <td>0</td>\n",
       "      <td>1</td>\n",
       "      <td>0</td>\n",
       "      <td>0</td>\n",
       "    </tr>\n",
       "    <tr>\n",
       "      <th>3</th>\n",
       "      <td>4</td>\n",
       "      <td>1.0</td>\n",
       "      <td>1</td>\n",
       "      <td>0</td>\n",
       "      <td>35.0</td>\n",
       "      <td>1</td>\n",
       "      <td>0</td>\n",
       "      <td>113803</td>\n",
       "      <td>53.1000</td>\n",
       "      <td>C123</td>\n",
       "      <td>S</td>\n",
       "      <td>0</td>\n",
       "      <td>1</td>\n",
       "      <td>0</td>\n",
       "      <td>0</td>\n",
       "    </tr>\n",
       "    <tr>\n",
       "      <th>4</th>\n",
       "      <td>5</td>\n",
       "      <td>0.0</td>\n",
       "      <td>3</td>\n",
       "      <td>1</td>\n",
       "      <td>35.0</td>\n",
       "      <td>0</td>\n",
       "      <td>0</td>\n",
       "      <td>373450</td>\n",
       "      <td>8.0500</td>\n",
       "      <td>NaN</td>\n",
       "      <td>S</td>\n",
       "      <td>0</td>\n",
       "      <td>0</td>\n",
       "      <td>1</td>\n",
       "      <td>0</td>\n",
       "    </tr>\n",
       "  </tbody>\n",
       "</table>\n",
       "</div>"
      ],
      "text/plain": [
       "   PassengerId  Survived  Pclass  Sex   Age  SibSp  Parch            Ticket  \\\n",
       "0            1       0.0       3    1  22.0      1      0         A/5 21171   \n",
       "1            2       1.0       1    0  38.0      1      0          PC 17599   \n",
       "2            3       1.0       3    0  26.0      0      0  STON/O2. 3101282   \n",
       "3            4       1.0       1    0  35.0      1      0            113803   \n",
       "4            5       0.0       3    1  35.0      0      0            373450   \n",
       "\n",
       "      Fare Cabin Embarked  Title_0  Title_1  Title_2  Title_3  \n",
       "0   7.2500   NaN        S        0        0        1        0  \n",
       "1  71.2833   C85        C        0        1        0        0  \n",
       "2   7.9250   NaN        S        0        1        0        0  \n",
       "3  53.1000  C123        S        0        1        0        0  \n",
       "4   8.0500   NaN        S        0        0        1        0  "
      ]
     },
     "execution_count": 59,
     "metadata": {},
     "output_type": "execute_result"
    }
   ],
   "source": [
    "train_df.head()"
   ]
  },
  {
   "cell_type": "code",
   "execution_count": 60,
   "id": "9d24cabe",
   "metadata": {
    "execution": {
     "iopub.execute_input": "2023-08-22T12:33:02.230862Z",
     "iopub.status.busy": "2023-08-22T12:33:02.230217Z",
     "iopub.status.idle": "2023-08-22T12:33:02.235895Z",
     "shell.execute_reply": "2023-08-22T12:33:02.234998Z"
    },
    "papermill": {
     "duration": 0.050372,
     "end_time": "2023-08-22T12:33:02.237834",
     "exception": false,
     "start_time": "2023-08-22T12:33:02.187462",
     "status": "completed"
    },
    "tags": []
   },
   "outputs": [],
   "source": [
    "train_df[\"Fsize\"] = train_df[\"SibSp\"] + train_df[\"Parch\"] + 1"
   ]
  },
  {
   "cell_type": "code",
   "execution_count": 61,
   "id": "d3c0a457",
   "metadata": {
    "execution": {
     "iopub.execute_input": "2023-08-22T12:33:02.321558Z",
     "iopub.status.busy": "2023-08-22T12:33:02.320948Z",
     "iopub.status.idle": "2023-08-22T12:33:02.337007Z",
     "shell.execute_reply": "2023-08-22T12:33:02.335958Z"
    },
    "papermill": {
     "duration": 0.060703,
     "end_time": "2023-08-22T12:33:02.339329",
     "exception": false,
     "start_time": "2023-08-22T12:33:02.278626",
     "status": "completed"
    },
    "tags": []
   },
   "outputs": [
    {
     "data": {
      "text/html": [
       "<div>\n",
       "<style scoped>\n",
       "    .dataframe tbody tr th:only-of-type {\n",
       "        vertical-align: middle;\n",
       "    }\n",
       "\n",
       "    .dataframe tbody tr th {\n",
       "        vertical-align: top;\n",
       "    }\n",
       "\n",
       "    .dataframe thead th {\n",
       "        text-align: right;\n",
       "    }\n",
       "</style>\n",
       "<table border=\"1\" class=\"dataframe\">\n",
       "  <thead>\n",
       "    <tr style=\"text-align: right;\">\n",
       "      <th></th>\n",
       "      <th>PassengerId</th>\n",
       "      <th>Survived</th>\n",
       "      <th>Pclass</th>\n",
       "      <th>Sex</th>\n",
       "      <th>Age</th>\n",
       "      <th>SibSp</th>\n",
       "      <th>Parch</th>\n",
       "      <th>Ticket</th>\n",
       "      <th>Fare</th>\n",
       "      <th>Cabin</th>\n",
       "      <th>Embarked</th>\n",
       "      <th>Title_0</th>\n",
       "      <th>Title_1</th>\n",
       "      <th>Title_2</th>\n",
       "      <th>Title_3</th>\n",
       "      <th>Fsize</th>\n",
       "    </tr>\n",
       "  </thead>\n",
       "  <tbody>\n",
       "    <tr>\n",
       "      <th>0</th>\n",
       "      <td>1</td>\n",
       "      <td>0.0</td>\n",
       "      <td>3</td>\n",
       "      <td>1</td>\n",
       "      <td>22.0</td>\n",
       "      <td>1</td>\n",
       "      <td>0</td>\n",
       "      <td>A/5 21171</td>\n",
       "      <td>7.2500</td>\n",
       "      <td>NaN</td>\n",
       "      <td>S</td>\n",
       "      <td>0</td>\n",
       "      <td>0</td>\n",
       "      <td>1</td>\n",
       "      <td>0</td>\n",
       "      <td>2</td>\n",
       "    </tr>\n",
       "    <tr>\n",
       "      <th>1</th>\n",
       "      <td>2</td>\n",
       "      <td>1.0</td>\n",
       "      <td>1</td>\n",
       "      <td>0</td>\n",
       "      <td>38.0</td>\n",
       "      <td>1</td>\n",
       "      <td>0</td>\n",
       "      <td>PC 17599</td>\n",
       "      <td>71.2833</td>\n",
       "      <td>C85</td>\n",
       "      <td>C</td>\n",
       "      <td>0</td>\n",
       "      <td>1</td>\n",
       "      <td>0</td>\n",
       "      <td>0</td>\n",
       "      <td>2</td>\n",
       "    </tr>\n",
       "    <tr>\n",
       "      <th>2</th>\n",
       "      <td>3</td>\n",
       "      <td>1.0</td>\n",
       "      <td>3</td>\n",
       "      <td>0</td>\n",
       "      <td>26.0</td>\n",
       "      <td>0</td>\n",
       "      <td>0</td>\n",
       "      <td>STON/O2. 3101282</td>\n",
       "      <td>7.9250</td>\n",
       "      <td>NaN</td>\n",
       "      <td>S</td>\n",
       "      <td>0</td>\n",
       "      <td>1</td>\n",
       "      <td>0</td>\n",
       "      <td>0</td>\n",
       "      <td>1</td>\n",
       "    </tr>\n",
       "    <tr>\n",
       "      <th>3</th>\n",
       "      <td>4</td>\n",
       "      <td>1.0</td>\n",
       "      <td>1</td>\n",
       "      <td>0</td>\n",
       "      <td>35.0</td>\n",
       "      <td>1</td>\n",
       "      <td>0</td>\n",
       "      <td>113803</td>\n",
       "      <td>53.1000</td>\n",
       "      <td>C123</td>\n",
       "      <td>S</td>\n",
       "      <td>0</td>\n",
       "      <td>1</td>\n",
       "      <td>0</td>\n",
       "      <td>0</td>\n",
       "      <td>2</td>\n",
       "    </tr>\n",
       "    <tr>\n",
       "      <th>4</th>\n",
       "      <td>5</td>\n",
       "      <td>0.0</td>\n",
       "      <td>3</td>\n",
       "      <td>1</td>\n",
       "      <td>35.0</td>\n",
       "      <td>0</td>\n",
       "      <td>0</td>\n",
       "      <td>373450</td>\n",
       "      <td>8.0500</td>\n",
       "      <td>NaN</td>\n",
       "      <td>S</td>\n",
       "      <td>0</td>\n",
       "      <td>0</td>\n",
       "      <td>1</td>\n",
       "      <td>0</td>\n",
       "      <td>1</td>\n",
       "    </tr>\n",
       "  </tbody>\n",
       "</table>\n",
       "</div>"
      ],
      "text/plain": [
       "   PassengerId  Survived  Pclass  Sex   Age  SibSp  Parch            Ticket  \\\n",
       "0            1       0.0       3    1  22.0      1      0         A/5 21171   \n",
       "1            2       1.0       1    0  38.0      1      0          PC 17599   \n",
       "2            3       1.0       3    0  26.0      0      0  STON/O2. 3101282   \n",
       "3            4       1.0       1    0  35.0      1      0            113803   \n",
       "4            5       0.0       3    1  35.0      0      0            373450   \n",
       "\n",
       "      Fare Cabin Embarked  Title_0  Title_1  Title_2  Title_3  Fsize  \n",
       "0   7.2500   NaN        S        0        0        1        0      2  \n",
       "1  71.2833   C85        C        0        1        0        0      2  \n",
       "2   7.9250   NaN        S        0        1        0        0      1  \n",
       "3  53.1000  C123        S        0        1        0        0      2  \n",
       "4   8.0500   NaN        S        0        0        1        0      1  "
      ]
     },
     "execution_count": 61,
     "metadata": {},
     "output_type": "execute_result"
    }
   ],
   "source": [
    "train_df.head()"
   ]
  },
  {
   "cell_type": "code",
   "execution_count": 62,
   "id": "4e352f63",
   "metadata": {
    "execution": {
     "iopub.execute_input": "2023-08-22T12:33:02.426452Z",
     "iopub.status.busy": "2023-08-22T12:33:02.425853Z",
     "iopub.status.idle": "2023-08-22T12:33:03.242261Z",
     "shell.execute_reply": "2023-08-22T12:33:03.241153Z"
    },
    "papermill": {
     "duration": 0.861948,
     "end_time": "2023-08-22T12:33:03.244425",
     "exception": false,
     "start_time": "2023-08-22T12:33:02.382477",
     "status": "completed"
    },
    "tags": []
   },
   "outputs": [
    {
     "data": {
      "image/png": "[encoded data removed]",
      "text/plain": [
       "<Figure size 500x500 with 1 Axes>"
      ]
     },
     "metadata": {},
     "output_type": "display_data"
    }
   ],
   "source": [
    "g = sns.catplot(x = \"Fsize\", y = \"Survived\", data = train_df, kind = \"bar\")\n",
    "g.set_ylabels(\"Survived\")\n",
    "plt.show()"
   ]
  },
  {
   "cell_type": "code",
   "execution_count": 63,
   "id": "0de756a8",
   "metadata": {
    "execution": {
     "iopub.execute_input": "2023-08-22T12:33:03.329968Z",
     "iopub.status.busy": "2023-08-22T12:33:03.329012Z",
     "iopub.status.idle": "2023-08-22T12:33:03.335844Z",
     "shell.execute_reply": "2023-08-22T12:33:03.334878Z"
    },
    "papermill": {
     "duration": 0.051899,
     "end_time": "2023-08-22T12:33:03.337977",
     "exception": false,
     "start_time": "2023-08-22T12:33:03.286078",
     "status": "completed"
    },
    "tags": []
   },
   "outputs": [],
   "source": [
    "train_df[\"family_size\"] = [1 if i < 5 else 0 for i in train_df[\"Fsize\"]]"
   ]
  },
  {
   "cell_type": "code",
   "execution_count": 64,
   "id": "450c23e6",
   "metadata": {
    "execution": {
     "iopub.execute_input": "2023-08-22T12:33:03.534733Z",
     "iopub.status.busy": "2023-08-22T12:33:03.533791Z",
     "iopub.status.idle": "2023-08-22T12:33:03.709958Z",
     "shell.execute_reply": "2023-08-22T12:33:03.708741Z"
    },
    "papermill": {
     "duration": 0.221838,
     "end_time": "2023-08-22T12:33:03.712014",
     "exception": false,
     "start_time": "2023-08-22T12:33:03.490176",
     "status": "completed"
    },
    "tags": []
   },
   "outputs": [
    {
     "data": {
      "image/png": "[encoded data removed]",
      "text/plain": [
       "<Figure size 640x480 with 1 Axes>"
      ]
     },
     "metadata": {},
     "output_type": "display_data"
    }
   ],
   "source": [
    "sns.countplot(x = \"family_size\", data = train_df)\n",
    "plt.show()"
   ]
  },
  {
   "cell_type": "code",
   "execution_count": 65,
   "id": "9eff46a6",
   "metadata": {
    "execution": {
     "iopub.execute_input": "2023-08-22T12:33:03.799362Z",
     "iopub.status.busy": "2023-08-22T12:33:03.798164Z",
     "iopub.status.idle": "2023-08-22T12:33:04.190827Z",
     "shell.execute_reply": "2023-08-22T12:33:04.189630Z"
    },
    "papermill": {
     "duration": 0.440017,
     "end_time": "2023-08-22T12:33:04.193768",
     "exception": false,
     "start_time": "2023-08-22T12:33:03.753751",
     "status": "completed"
    },
    "tags": []
   },
   "outputs": [
    {
     "data": {
      "image/png": "[encoded data removed]",
      "text/plain": [
       "<Figure size 500x500 with 1 Axes>"
      ]
     },
     "metadata": {},
     "output_type": "display_data"
    }
   ],
   "source": [
    "g = sns.catplot(x = \"family_size\", y = \"Survived\", data = train_df, kind = \"bar\")\n",
    "g.set_ylabels(\"Survived\")\n",
    "plt.show()"
   ]
  },
  {
   "cell_type": "markdown",
   "id": "fa10c0b2",
   "metadata": {
    "papermill": {
     "duration": 0.042861,
     "end_time": "2023-08-22T12:33:04.279601",
     "exception": false,
     "start_time": "2023-08-22T12:33:04.236740",
     "status": "completed"
    },
    "tags": []
   },
   "source": [
    "Small families have more chance to survive than large families"
   ]
  },
  {
   "cell_type": "code",
   "execution_count": 66,
   "id": "4605a912",
   "metadata": {
    "execution": {
     "iopub.execute_input": "2023-08-22T12:33:04.365855Z",
     "iopub.status.busy": "2023-08-22T12:33:04.365425Z",
     "iopub.status.idle": "2023-08-22T12:33:04.387879Z",
     "shell.execute_reply": "2023-08-22T12:33:04.386851Z"
    },
    "papermill": {
     "duration": 0.068372,
     "end_time": "2023-08-22T12:33:04.390188",
     "exception": false,
     "start_time": "2023-08-22T12:33:04.321816",
     "status": "completed"
    },
    "tags": []
   },
   "outputs": [
    {
     "data": {
      "text/html": [
       "<div>\n",
       "<style scoped>\n",
       "    .dataframe tbody tr th:only-of-type {\n",
       "        vertical-align: middle;\n",
       "    }\n",
       "\n",
       "    .dataframe tbody tr th {\n",
       "        vertical-align: top;\n",
       "    }\n",
       "\n",
       "    .dataframe thead th {\n",
       "        text-align: right;\n",
       "    }\n",
       "</style>\n",
       "<table border=\"1\" class=\"dataframe\">\n",
       "  <thead>\n",
       "    <tr style=\"text-align: right;\">\n",
       "      <th></th>\n",
       "      <th>PassengerId</th>\n",
       "      <th>Survived</th>\n",
       "      <th>Pclass</th>\n",
       "      <th>Sex</th>\n",
       "      <th>Age</th>\n",
       "      <th>SibSp</th>\n",
       "      <th>Parch</th>\n",
       "      <th>Ticket</th>\n",
       "      <th>Fare</th>\n",
       "      <th>Cabin</th>\n",
       "      <th>Embarked</th>\n",
       "      <th>Title_0</th>\n",
       "      <th>Title_1</th>\n",
       "      <th>Title_2</th>\n",
       "      <th>Title_3</th>\n",
       "      <th>Fsize</th>\n",
       "      <th>family_size_0</th>\n",
       "      <th>family_size_1</th>\n",
       "    </tr>\n",
       "  </thead>\n",
       "  <tbody>\n",
       "    <tr>\n",
       "      <th>0</th>\n",
       "      <td>1</td>\n",
       "      <td>0.0</td>\n",
       "      <td>3</td>\n",
       "      <td>1</td>\n",
       "      <td>22.0</td>\n",
       "      <td>1</td>\n",
       "      <td>0</td>\n",
       "      <td>A/5 21171</td>\n",
       "      <td>7.2500</td>\n",
       "      <td>NaN</td>\n",
       "      <td>S</td>\n",
       "      <td>0</td>\n",
       "      <td>0</td>\n",
       "      <td>1</td>\n",
       "      <td>0</td>\n",
       "      <td>2</td>\n",
       "      <td>0</td>\n",
       "      <td>1</td>\n",
       "    </tr>\n",
       "    <tr>\n",
       "      <th>1</th>\n",
       "      <td>2</td>\n",
       "      <td>1.0</td>\n",
       "      <td>1</td>\n",
       "      <td>0</td>\n",
       "      <td>38.0</td>\n",
       "      <td>1</td>\n",
       "      <td>0</td>\n",
       "      <td>PC 17599</td>\n",
       "      <td>71.2833</td>\n",
       "      <td>C85</td>\n",
       "      <td>C</td>\n",
       "      <td>0</td>\n",
       "      <td>1</td>\n",
       "      <td>0</td>\n",
       "      <td>0</td>\n",
       "      <td>2</td>\n",
       "      <td>0</td>\n",
       "      <td>1</td>\n",
       "    </tr>\n",
       "    <tr>\n",
       "      <th>2</th>\n",
       "      <td>3</td>\n",
       "      <td>1.0</td>\n",
       "      <td>3</td>\n",
       "      <td>0</td>\n",
       "      <td>26.0</td>\n",
       "      <td>0</td>\n",
       "      <td>0</td>\n",
       "      <td>STON/O2. 3101282</td>\n",
       "      <td>7.9250</td>\n",
       "      <td>NaN</td>\n",
       "      <td>S</td>\n",
       "      <td>0</td>\n",
       "      <td>1</td>\n",
       "      <td>0</td>\n",
       "      <td>0</td>\n",
       "      <td>1</td>\n",
       "      <td>0</td>\n",
       "      <td>1</td>\n",
       "    </tr>\n",
       "    <tr>\n",
       "      <th>3</th>\n",
       "      <td>4</td>\n",
       "      <td>1.0</td>\n",
       "      <td>1</td>\n",
       "      <td>0</td>\n",
       "      <td>35.0</td>\n",
       "      <td>1</td>\n",
       "      <td>0</td>\n",
       "      <td>113803</td>\n",
       "      <td>53.1000</td>\n",
       "      <td>C123</td>\n",
       "      <td>S</td>\n",
       "      <td>0</td>\n",
       "      <td>1</td>\n",
       "      <td>0</td>\n",
       "      <td>0</td>\n",
       "      <td>2</td>\n",
       "      <td>0</td>\n",
       "      <td>1</td>\n",
       "    </tr>\n",
       "    <tr>\n",
       "      <th>4</th>\n",
       "      <td>5</td>\n",
       "      <td>0.0</td>\n",
       "      <td>3</td>\n",
       "      <td>1</td>\n",
       "      <td>35.0</td>\n",
       "      <td>0</td>\n",
       "      <td>0</td>\n",
       "      <td>373450</td>\n",
       "      <td>8.0500</td>\n",
       "      <td>NaN</td>\n",
       "      <td>S</td>\n",
       "      <td>0</td>\n",
       "      <td>0</td>\n",
       "      <td>1</td>\n",
       "      <td>0</td>\n",
       "      <td>1</td>\n",
       "      <td>0</td>\n",
       "      <td>1</td>\n",
       "    </tr>\n",
       "  </tbody>\n",
       "</table>\n",
       "</div>"
      ],
      "text/plain": [
       "   PassengerId  Survived  Pclass  Sex   Age  SibSp  Parch            Ticket  \\\n",
       "0            1       0.0       3    1  22.0      1      0         A/5 21171   \n",
       "1            2       1.0       1    0  38.0      1      0          PC 17599   \n",
       "2            3       1.0       3    0  26.0      0      0  STON/O2. 3101282   \n",
       "3            4       1.0       1    0  35.0      1      0            113803   \n",
       "4            5       0.0       3    1  35.0      0      0            373450   \n",
       "\n",
       "      Fare Cabin Embarked  Title_0  Title_1  Title_2  Title_3  Fsize  \\\n",
       "0   7.2500   NaN        S        0        0        1        0      2   \n",
       "1  71.2833   C85        C        0        1        0        0      2   \n",
       "2   7.9250   NaN        S        0        1        0        0      1   \n",
       "3  53.1000  C123        S        0        1        0        0      2   \n",
       "4   8.0500   NaN        S        0        0        1        0      1   \n",
       "\n",
       "   family_size_0  family_size_1  \n",
       "0              0              1  \n",
       "1              0              1  \n",
       "2              0              1  \n",
       "3              0              1  \n",
       "4              0              1  "
      ]
     },
     "execution_count": 66,
     "metadata": {},
     "output_type": "execute_result"
    }
   ],
   "source": [
    "train_df = pd.get_dummies(train_df , columns = [\"family_size\"])\n",
    "train_df.head()"
   ]
  },
  {
   "cell_type": "code",
   "execution_count": 67,
   "id": "afbc1602",
   "metadata": {},
   "outputs": [],
   "source": [
    "#train_df.drop(labels = [\"SibSp\"], axis = 1, inplace = True)\n",
    "#train_df.drop(labels = [\"Parch\"], axis = 1, inplace = True)"
   ]
  },
  {
   "cell_type": "markdown",
   "id": "6c4f497f",
   "metadata": {
    "papermill": {
     "duration": 0.042322,
     "end_time": "2023-08-22T12:33:04.475639",
     "exception": false,
     "start_time": "2023-08-22T12:33:04.433317",
     "status": "completed"
    },
    "tags": []
   },
   "source": [
    "<a id = \"24\"></a><br>\n",
    "## Embarked"
   ]
  },
  {
   "cell_type": "code",
   "execution_count": 68,
   "id": "3c1e35ac",
   "metadata": {
    "execution": {
     "iopub.execute_input": "2023-08-22T12:33:04.563763Z",
     "iopub.status.busy": "2023-08-22T12:33:04.563377Z",
     "iopub.status.idle": "2023-08-22T12:33:04.732161Z",
     "shell.execute_reply": "2023-08-22T12:33:04.731059Z"
    },
    "papermill": {
     "duration": 0.215532,
     "end_time": "2023-08-22T12:33:04.734579",
     "exception": false,
     "start_time": "2023-08-22T12:33:04.519047",
     "status": "completed"
    },
    "tags": []
   },
   "outputs": [
    {
     "data": {
      "image/png": "[encoded data removed]",
      "text/plain": [
       "<Figure size 640x480 with 1 Axes>"
      ]
     },
     "metadata": {},
     "output_type": "display_data"
    }
   ],
   "source": [
    "sns.countplot(x = \"Embarked\" , data = train_df)\n",
    "plt.show()"
   ]
  },
  {
   "cell_type": "code",
   "execution_count": 69,
   "id": "44334227",
   "metadata": {
    "execution": {
     "iopub.execute_input": "2023-08-22T12:33:04.823935Z",
     "iopub.status.busy": "2023-08-22T12:33:04.823525Z",
     "iopub.status.idle": "2023-08-22T12:33:04.845311Z",
     "shell.execute_reply": "2023-08-22T12:33:04.844480Z"
    },
    "papermill": {
     "duration": 0.06977,
     "end_time": "2023-08-22T12:33:04.847354",
     "exception": false,
     "start_time": "2023-08-22T12:33:04.777584",
     "status": "completed"
    },
    "tags": []
   },
   "outputs": [
    {
     "data": {
      "text/html": [
       "<div>\n",
       "<style scoped>\n",
       "    .dataframe tbody tr th:only-of-type {\n",
       "        vertical-align: middle;\n",
       "    }\n",
       "\n",
       "    .dataframe tbody tr th {\n",
       "        vertical-align: top;\n",
       "    }\n",
       "\n",
       "    .dataframe thead th {\n",
       "        text-align: right;\n",
       "    }\n",
       "</style>\n",
       "<table border=\"1\" class=\"dataframe\">\n",
       "  <thead>\n",
       "    <tr style=\"text-align: right;\">\n",
       "      <th></th>\n",
       "      <th>PassengerId</th>\n",
       "      <th>Survived</th>\n",
       "      <th>Pclass</th>\n",
       "      <th>Sex</th>\n",
       "      <th>Age</th>\n",
       "      <th>SibSp</th>\n",
       "      <th>Parch</th>\n",
       "      <th>Ticket</th>\n",
       "      <th>Fare</th>\n",
       "      <th>Cabin</th>\n",
       "      <th>Title_0</th>\n",
       "      <th>Title_1</th>\n",
       "      <th>Title_2</th>\n",
       "      <th>Title_3</th>\n",
       "      <th>Fsize</th>\n",
       "      <th>family_size_0</th>\n",
       "      <th>family_size_1</th>\n",
       "      <th>Embarked_C</th>\n",
       "      <th>Embarked_Q</th>\n",
       "      <th>Embarked_S</th>\n",
       "    </tr>\n",
       "  </thead>\n",
       "  <tbody>\n",
       "    <tr>\n",
       "      <th>0</th>\n",
       "      <td>1</td>\n",
       "      <td>0.0</td>\n",
       "      <td>3</td>\n",
       "      <td>1</td>\n",
       "      <td>22.0</td>\n",
       "      <td>1</td>\n",
       "      <td>0</td>\n",
       "      <td>A/5 21171</td>\n",
       "      <td>7.2500</td>\n",
       "      <td>NaN</td>\n",
       "      <td>0</td>\n",
       "      <td>0</td>\n",
       "      <td>1</td>\n",
       "      <td>0</td>\n",
       "      <td>2</td>\n",
       "      <td>0</td>\n",
       "      <td>1</td>\n",
       "      <td>0</td>\n",
       "      <td>0</td>\n",
       "      <td>1</td>\n",
       "    </tr>\n",
       "    <tr>\n",
       "      <th>1</th>\n",
       "      <td>2</td>\n",
       "      <td>1.0</td>\n",
       "      <td>1</td>\n",
       "      <td>0</td>\n",
       "      <td>38.0</td>\n",
       "      <td>1</td>\n",
       "      <td>0</td>\n",
       "      <td>PC 17599</td>\n",
       "      <td>71.2833</td>\n",
       "      <td>C85</td>\n",
       "      <td>0</td>\n",
       "      <td>1</td>\n",
       "      <td>0</td>\n",
       "      <td>0</td>\n",
       "      <td>2</td>\n",
       "      <td>0</td>\n",
       "      <td>1</td>\n",
       "      <td>1</td>\n",
       "      <td>0</td>\n",
       "      <td>0</td>\n",
       "    </tr>\n",
       "    <tr>\n",
       "      <th>2</th>\n",
       "      <td>3</td>\n",
       "      <td>1.0</td>\n",
       "      <td>3</td>\n",
       "      <td>0</td>\n",
       "      <td>26.0</td>\n",
       "      <td>0</td>\n",
       "      <td>0</td>\n",
       "      <td>STON/O2. 3101282</td>\n",
       "      <td>7.9250</td>\n",
       "      <td>NaN</td>\n",
       "      <td>0</td>\n",
       "      <td>1</td>\n",
       "      <td>0</td>\n",
       "      <td>0</td>\n",
       "      <td>1</td>\n",
       "      <td>0</td>\n",
       "      <td>1</td>\n",
       "      <td>0</td>\n",
       "      <td>0</td>\n",
       "      <td>1</td>\n",
       "    </tr>\n",
       "    <tr>\n",
       "      <th>3</th>\n",
       "      <td>4</td>\n",
       "      <td>1.0</td>\n",
       "      <td>1</td>\n",
       "      <td>0</td>\n",
       "      <td>35.0</td>\n",
       "      <td>1</td>\n",
       "      <td>0</td>\n",
       "      <td>113803</td>\n",
       "      <td>53.1000</td>\n",
       "      <td>C123</td>\n",
       "      <td>0</td>\n",
       "      <td>1</td>\n",
       "      <td>0</td>\n",
       "      <td>0</td>\n",
       "      <td>2</td>\n",
       "      <td>0</td>\n",
       "      <td>1</td>\n",
       "      <td>0</td>\n",
       "      <td>0</td>\n",
       "      <td>1</td>\n",
       "    </tr>\n",
       "    <tr>\n",
       "      <th>4</th>\n",
       "      <td>5</td>\n",
       "      <td>0.0</td>\n",
       "      <td>3</td>\n",
       "      <td>1</td>\n",
       "      <td>35.0</td>\n",
       "      <td>0</td>\n",
       "      <td>0</td>\n",
       "      <td>373450</td>\n",
       "      <td>8.0500</td>\n",
       "      <td>NaN</td>\n",
       "      <td>0</td>\n",
       "      <td>0</td>\n",
       "      <td>1</td>\n",
       "      <td>0</td>\n",
       "      <td>1</td>\n",
       "      <td>0</td>\n",
       "      <td>1</td>\n",
       "      <td>0</td>\n",
       "      <td>0</td>\n",
       "      <td>1</td>\n",
       "    </tr>\n",
       "  </tbody>\n",
       "</table>\n",
       "</div>"
      ],
      "text/plain": [
       "   PassengerId  Survived  Pclass  Sex   Age  SibSp  Parch            Ticket  \\\n",
       "0            1       0.0       3    1  22.0      1      0         A/5 21171   \n",
       "1            2       1.0       1    0  38.0      1      0          PC 17599   \n",
       "2            3       1.0       3    0  26.0      0      0  STON/O2. 3101282   \n",
       "3            4       1.0       1    0  35.0      1      0            113803   \n",
       "4            5       0.0       3    1  35.0      0      0            373450   \n",
       "\n",
       "      Fare Cabin  Title_0  Title_1  Title_2  Title_3  Fsize  family_size_0  \\\n",
       "0   7.2500   NaN        0        0        1        0      2              0   \n",
       "1  71.2833   C85        0        1        0        0      2              0   \n",
       "2   7.9250   NaN        0        1        0        0      1              0   \n",
       "3  53.1000  C123        0        1        0        0      2              0   \n",
       "4   8.0500   NaN        0        0        1        0      1              0   \n",
       "\n",
       "   family_size_1  Embarked_C  Embarked_Q  Embarked_S  \n",
       "0              1           0           0           1  \n",
       "1              1           1           0           0  \n",
       "2              1           0           0           1  \n",
       "3              1           0           0           1  \n",
       "4              1           0           0           1  "
      ]
     },
     "execution_count": 69,
     "metadata": {},
     "output_type": "execute_result"
    }
   ],
   "source": [
    "train_df = pd.get_dummies(train_df , columns = [\"Embarked\"])\n",
    "train_df.head()"
   ]
  },
  {
   "cell_type": "markdown",
   "id": "40d1164f",
   "metadata": {
    "papermill": {
     "duration": 0.042457,
     "end_time": "2023-08-22T12:33:04.932890",
     "exception": false,
     "start_time": "2023-08-22T12:33:04.890433",
     "status": "completed"
    },
    "tags": []
   },
   "source": [
    "<a id = \"25\"></a><br>\n",
    "## Ticket"
   ]
  },
  {
   "cell_type": "code",
   "execution_count": 70,
   "id": "7e9c964c",
   "metadata": {
    "execution": {
     "iopub.execute_input": "2023-08-22T12:33:05.023661Z",
     "iopub.status.busy": "2023-08-22T12:33:05.022962Z",
     "iopub.status.idle": "2023-08-22T12:33:05.030277Z",
     "shell.execute_reply": "2023-08-22T12:33:05.029212Z"
    },
    "papermill": {
     "duration": 0.055489,
     "end_time": "2023-08-22T12:33:05.032326",
     "exception": false,
     "start_time": "2023-08-22T12:33:04.976837",
     "status": "completed"
    },
    "tags": []
   },
   "outputs": [
    {
     "data": {
      "text/plain": [
       "0            A/5 21171\n",
       "1             PC 17599\n",
       "2     STON/O2. 3101282\n",
       "3               113803\n",
       "4               373450\n",
       "5               330877\n",
       "6                17463\n",
       "7               349909\n",
       "8               347742\n",
       "9               237736\n",
       "10             PP 9549\n",
       "11              113783\n",
       "12           A/5. 2151\n",
       "13              347082\n",
       "14              350406\n",
       "15              248706\n",
       "16              382652\n",
       "17              244373\n",
       "18              345763\n",
       "19                2649\n",
       "Name: Ticket, dtype: object"
      ]
     },
     "execution_count": 70,
     "metadata": {},
     "output_type": "execute_result"
    }
   ],
   "source": [
    "train_df[\"Ticket\"].head(20)"
   ]
  },
  {
   "cell_type": "code",
   "execution_count": 71,
   "id": "f1607276",
   "metadata": {
    "execution": {
     "iopub.execute_input": "2023-08-22T12:33:05.121489Z",
     "iopub.status.busy": "2023-08-22T12:33:05.120848Z",
     "iopub.status.idle": "2023-08-22T12:33:05.127052Z",
     "shell.execute_reply": "2023-08-22T12:33:05.126146Z"
    },
    "papermill": {
     "duration": 0.053182,
     "end_time": "2023-08-22T12:33:05.129145",
     "exception": false,
     "start_time": "2023-08-22T12:33:05.075963",
     "status": "completed"
    },
    "tags": []
   },
   "outputs": [],
   "source": [
    "tickets = []\n",
    "for i in list(train_df.Ticket):\n",
    "    if not i.isdigit():\n",
    "        tickets.append(i.replace(\".\",\"\").replace(\"/\",\"\").strip().split(\" \")[0])\n",
    "    else:\n",
    "        tickets.append(\"x\")\n",
    "train_df[\"Ticket\"] = tickets"
   ]
  },
  {
   "cell_type": "code",
   "execution_count": 72,
   "id": "9f40ee2f",
   "metadata": {
    "execution": {
     "iopub.execute_input": "2023-08-22T12:33:05.217800Z",
     "iopub.status.busy": "2023-08-22T12:33:05.217402Z",
     "iopub.status.idle": "2023-08-22T12:33:05.224584Z",
     "shell.execute_reply": "2023-08-22T12:33:05.223609Z"
    },
    "papermill": {
     "duration": 0.054333,
     "end_time": "2023-08-22T12:33:05.226683",
     "exception": false,
     "start_time": "2023-08-22T12:33:05.172350",
     "status": "completed"
    },
    "tags": []
   },
   "outputs": [
    {
     "data": {
      "text/plain": [
       "0         A5\n",
       "1         PC\n",
       "2     STONO2\n",
       "3          x\n",
       "4          x\n",
       "5          x\n",
       "6          x\n",
       "7          x\n",
       "8          x\n",
       "9          x\n",
       "10        PP\n",
       "11         x\n",
       "12        A5\n",
       "13         x\n",
       "14         x\n",
       "15         x\n",
       "16         x\n",
       "17         x\n",
       "18         x\n",
       "19         x\n",
       "Name: Ticket, dtype: object"
      ]
     },
     "execution_count": 72,
     "metadata": {},
     "output_type": "execute_result"
    }
   ],
   "source": [
    "train_df[\"Ticket\"].head(20)"
   ]
  },
  {
   "cell_type": "code",
   "execution_count": 73,
   "id": "51b8c57c",
   "metadata": {
    "execution": {
     "iopub.execute_input": "2023-08-22T12:33:05.316130Z",
     "iopub.status.busy": "2023-08-22T12:33:05.315336Z",
     "iopub.status.idle": "2023-08-22T12:33:05.335940Z",
     "shell.execute_reply": "2023-08-22T12:33:05.334875Z"
    },
    "papermill": {
     "duration": 0.06792,
     "end_time": "2023-08-22T12:33:05.338304",
     "exception": false,
     "start_time": "2023-08-22T12:33:05.270384",
     "status": "completed"
    },
    "tags": []
   },
   "outputs": [
    {
     "data": {
      "text/html": [
       "<div>\n",
       "<style scoped>\n",
       "    .dataframe tbody tr th:only-of-type {\n",
       "        vertical-align: middle;\n",
       "    }\n",
       "\n",
       "    .dataframe tbody tr th {\n",
       "        vertical-align: top;\n",
       "    }\n",
       "\n",
       "    .dataframe thead th {\n",
       "        text-align: right;\n",
       "    }\n",
       "</style>\n",
       "<table border=\"1\" class=\"dataframe\">\n",
       "  <thead>\n",
       "    <tr style=\"text-align: right;\">\n",
       "      <th></th>\n",
       "      <th>PassengerId</th>\n",
       "      <th>Survived</th>\n",
       "      <th>Pclass</th>\n",
       "      <th>Sex</th>\n",
       "      <th>Age</th>\n",
       "      <th>SibSp</th>\n",
       "      <th>Parch</th>\n",
       "      <th>Ticket</th>\n",
       "      <th>Fare</th>\n",
       "      <th>Cabin</th>\n",
       "      <th>Title_0</th>\n",
       "      <th>Title_1</th>\n",
       "      <th>Title_2</th>\n",
       "      <th>Title_3</th>\n",
       "      <th>Fsize</th>\n",
       "      <th>family_size_0</th>\n",
       "      <th>family_size_1</th>\n",
       "      <th>Embarked_C</th>\n",
       "      <th>Embarked_Q</th>\n",
       "      <th>Embarked_S</th>\n",
       "    </tr>\n",
       "  </thead>\n",
       "  <tbody>\n",
       "    <tr>\n",
       "      <th>0</th>\n",
       "      <td>1</td>\n",
       "      <td>0.0</td>\n",
       "      <td>3</td>\n",
       "      <td>1</td>\n",
       "      <td>22.0</td>\n",
       "      <td>1</td>\n",
       "      <td>0</td>\n",
       "      <td>A5</td>\n",
       "      <td>7.2500</td>\n",
       "      <td>NaN</td>\n",
       "      <td>0</td>\n",
       "      <td>0</td>\n",
       "      <td>1</td>\n",
       "      <td>0</td>\n",
       "      <td>2</td>\n",
       "      <td>0</td>\n",
       "      <td>1</td>\n",
       "      <td>0</td>\n",
       "      <td>0</td>\n",
       "      <td>1</td>\n",
       "    </tr>\n",
       "    <tr>\n",
       "      <th>1</th>\n",
       "      <td>2</td>\n",
       "      <td>1.0</td>\n",
       "      <td>1</td>\n",
       "      <td>0</td>\n",
       "      <td>38.0</td>\n",
       "      <td>1</td>\n",
       "      <td>0</td>\n",
       "      <td>PC</td>\n",
       "      <td>71.2833</td>\n",
       "      <td>C85</td>\n",
       "      <td>0</td>\n",
       "      <td>1</td>\n",
       "      <td>0</td>\n",
       "      <td>0</td>\n",
       "      <td>2</td>\n",
       "      <td>0</td>\n",
       "      <td>1</td>\n",
       "      <td>1</td>\n",
       "      <td>0</td>\n",
       "      <td>0</td>\n",
       "    </tr>\n",
       "    <tr>\n",
       "      <th>2</th>\n",
       "      <td>3</td>\n",
       "      <td>1.0</td>\n",
       "      <td>3</td>\n",
       "      <td>0</td>\n",
       "      <td>26.0</td>\n",
       "      <td>0</td>\n",
       "      <td>0</td>\n",
       "      <td>STONO2</td>\n",
       "      <td>7.9250</td>\n",
       "      <td>NaN</td>\n",
       "      <td>0</td>\n",
       "      <td>1</td>\n",
       "      <td>0</td>\n",
       "      <td>0</td>\n",
       "      <td>1</td>\n",
       "      <td>0</td>\n",
       "      <td>1</td>\n",
       "      <td>0</td>\n",
       "      <td>0</td>\n",
       "      <td>1</td>\n",
       "    </tr>\n",
       "    <tr>\n",
       "      <th>3</th>\n",
       "      <td>4</td>\n",
       "      <td>1.0</td>\n",
       "      <td>1</td>\n",
       "      <td>0</td>\n",
       "      <td>35.0</td>\n",
       "      <td>1</td>\n",
       "      <td>0</td>\n",
       "      <td>x</td>\n",
       "      <td>53.1000</td>\n",
       "      <td>C123</td>\n",
       "      <td>0</td>\n",
       "      <td>1</td>\n",
       "      <td>0</td>\n",
       "      <td>0</td>\n",
       "      <td>2</td>\n",
       "      <td>0</td>\n",
       "      <td>1</td>\n",
       "      <td>0</td>\n",
       "      <td>0</td>\n",
       "      <td>1</td>\n",
       "    </tr>\n",
       "    <tr>\n",
       "      <th>4</th>\n",
       "      <td>5</td>\n",
       "      <td>0.0</td>\n",
       "      <td>3</td>\n",
       "      <td>1</td>\n",
       "      <td>35.0</td>\n",
       "      <td>0</td>\n",
       "      <td>0</td>\n",
       "      <td>x</td>\n",
       "      <td>8.0500</td>\n",
       "      <td>NaN</td>\n",
       "      <td>0</td>\n",
       "      <td>0</td>\n",
       "      <td>1</td>\n",
       "      <td>0</td>\n",
       "      <td>1</td>\n",
       "      <td>0</td>\n",
       "      <td>1</td>\n",
       "      <td>0</td>\n",
       "      <td>0</td>\n",
       "      <td>1</td>\n",
       "    </tr>\n",
       "  </tbody>\n",
       "</table>\n",
       "</div>"
      ],
      "text/plain": [
       "   PassengerId  Survived  Pclass  Sex   Age  SibSp  Parch  Ticket     Fare  \\\n",
       "0            1       0.0       3    1  22.0      1      0      A5   7.2500   \n",
       "1            2       1.0       1    0  38.0      1      0      PC  71.2833   \n",
       "2            3       1.0       3    0  26.0      0      0  STONO2   7.9250   \n",
       "3            4       1.0       1    0  35.0      1      0       x  53.1000   \n",
       "4            5       0.0       3    1  35.0      0      0       x   8.0500   \n",
       "\n",
       "  Cabin  Title_0  Title_1  Title_2  Title_3  Fsize  family_size_0  \\\n",
       "0   NaN        0        0        1        0      2              0   \n",
       "1   C85        0        1        0        0      2              0   \n",
       "2   NaN        0        1        0        0      1              0   \n",
       "3  C123        0        1        0        0      2              0   \n",
       "4   NaN        0        0        1        0      1              0   \n",
       "\n",
       "   family_size_1  Embarked_C  Embarked_Q  Embarked_S  \n",
       "0              1           0           0           1  \n",
       "1              1           1           0           0  \n",
       "2              1           0           0           1  \n",
       "3              1           0           0           1  \n",
       "4              1           0           0           1  "
      ]
     },
     "execution_count": 73,
     "metadata": {},
     "output_type": "execute_result"
    }
   ],
   "source": [
    "train_df.head()"
   ]
  },
  {
   "cell_type": "code",
   "execution_count": 74,
   "id": "e55116e5",
   "metadata": {
    "execution": {
     "iopub.execute_input": "2023-08-22T12:33:05.429256Z",
     "iopub.status.busy": "2023-08-22T12:33:05.428859Z",
     "iopub.status.idle": "2023-08-22T12:33:05.455344Z",
     "shell.execute_reply": "2023-08-22T12:33:05.454141Z"
    },
    "papermill": {
     "duration": 0.074676,
     "end_time": "2023-08-22T12:33:05.457716",
     "exception": false,
     "start_time": "2023-08-22T12:33:05.383040",
     "status": "completed"
    },
    "tags": []
   },
   "outputs": [
    {
     "data": {
      "text/html": [
       "<div>\n",
       "<style scoped>\n",
       "    .dataframe tbody tr th:only-of-type {\n",
       "        vertical-align: middle;\n",
       "    }\n",
       "\n",
       "    .dataframe tbody tr th {\n",
       "        vertical-align: top;\n",
       "    }\n",
       "\n",
       "    .dataframe thead th {\n",
       "        text-align: right;\n",
       "    }\n",
       "</style>\n",
       "<table border=\"1\" class=\"dataframe\">\n",
       "  <thead>\n",
       "    <tr style=\"text-align: right;\">\n",
       "      <th></th>\n",
       "      <th>PassengerId</th>\n",
       "      <th>Survived</th>\n",
       "      <th>Pclass</th>\n",
       "      <th>Sex</th>\n",
       "      <th>Age</th>\n",
       "      <th>SibSp</th>\n",
       "      <th>Parch</th>\n",
       "      <th>Fare</th>\n",
       "      <th>Cabin</th>\n",
       "      <th>Title_0</th>\n",
       "      <th>...</th>\n",
       "      <th>T_SOTONO2</th>\n",
       "      <th>T_SOTONOQ</th>\n",
       "      <th>T_SP</th>\n",
       "      <th>T_STONO</th>\n",
       "      <th>T_STONO2</th>\n",
       "      <th>T_STONOQ</th>\n",
       "      <th>T_SWPP</th>\n",
       "      <th>T_WC</th>\n",
       "      <th>T_WEP</th>\n",
       "      <th>T_x</th>\n",
       "    </tr>\n",
       "  </thead>\n",
       "  <tbody>\n",
       "    <tr>\n",
       "      <th>0</th>\n",
       "      <td>1</td>\n",
       "      <td>0.0</td>\n",
       "      <td>3</td>\n",
       "      <td>1</td>\n",
       "      <td>22.0</td>\n",
       "      <td>1</td>\n",
       "      <td>0</td>\n",
       "      <td>7.2500</td>\n",
       "      <td>NaN</td>\n",
       "      <td>0</td>\n",
       "      <td>...</td>\n",
       "      <td>0</td>\n",
       "      <td>0</td>\n",
       "      <td>0</td>\n",
       "      <td>0</td>\n",
       "      <td>0</td>\n",
       "      <td>0</td>\n",
       "      <td>0</td>\n",
       "      <td>0</td>\n",
       "      <td>0</td>\n",
       "      <td>0</td>\n",
       "    </tr>\n",
       "    <tr>\n",
       "      <th>1</th>\n",
       "      <td>2</td>\n",
       "      <td>1.0</td>\n",
       "      <td>1</td>\n",
       "      <td>0</td>\n",
       "      <td>38.0</td>\n",
       "      <td>1</td>\n",
       "      <td>0</td>\n",
       "      <td>71.2833</td>\n",
       "      <td>C85</td>\n",
       "      <td>0</td>\n",
       "      <td>...</td>\n",
       "      <td>0</td>\n",
       "      <td>0</td>\n",
       "      <td>0</td>\n",
       "      <td>0</td>\n",
       "      <td>0</td>\n",
       "      <td>0</td>\n",
       "      <td>0</td>\n",
       "      <td>0</td>\n",
       "      <td>0</td>\n",
       "      <td>0</td>\n",
       "    </tr>\n",
       "    <tr>\n",
       "      <th>2</th>\n",
       "      <td>3</td>\n",
       "      <td>1.0</td>\n",
       "      <td>3</td>\n",
       "      <td>0</td>\n",
       "      <td>26.0</td>\n",
       "      <td>0</td>\n",
       "      <td>0</td>\n",
       "      <td>7.9250</td>\n",
       "      <td>NaN</td>\n",
       "      <td>0</td>\n",
       "      <td>...</td>\n",
       "      <td>0</td>\n",
       "      <td>0</td>\n",
       "      <td>0</td>\n",
       "      <td>0</td>\n",
       "      <td>1</td>\n",
       "      <td>0</td>\n",
       "      <td>0</td>\n",
       "      <td>0</td>\n",
       "      <td>0</td>\n",
       "      <td>0</td>\n",
       "    </tr>\n",
       "    <tr>\n",
       "      <th>3</th>\n",
       "      <td>4</td>\n",
       "      <td>1.0</td>\n",
       "      <td>1</td>\n",
       "      <td>0</td>\n",
       "      <td>35.0</td>\n",
       "      <td>1</td>\n",
       "      <td>0</td>\n",
       "      <td>53.1000</td>\n",
       "      <td>C123</td>\n",
       "      <td>0</td>\n",
       "      <td>...</td>\n",
       "      <td>0</td>\n",
       "      <td>0</td>\n",
       "      <td>0</td>\n",
       "      <td>0</td>\n",
       "      <td>0</td>\n",
       "      <td>0</td>\n",
       "      <td>0</td>\n",
       "      <td>0</td>\n",
       "      <td>0</td>\n",
       "      <td>1</td>\n",
       "    </tr>\n",
       "    <tr>\n",
       "      <th>4</th>\n",
       "      <td>5</td>\n",
       "      <td>0.0</td>\n",
       "      <td>3</td>\n",
       "      <td>1</td>\n",
       "      <td>35.0</td>\n",
       "      <td>0</td>\n",
       "      <td>0</td>\n",
       "      <td>8.0500</td>\n",
       "      <td>NaN</td>\n",
       "      <td>0</td>\n",
       "      <td>...</td>\n",
       "      <td>0</td>\n",
       "      <td>0</td>\n",
       "      <td>0</td>\n",
       "      <td>0</td>\n",
       "      <td>0</td>\n",
       "      <td>0</td>\n",
       "      <td>0</td>\n",
       "      <td>0</td>\n",
       "      <td>0</td>\n",
       "      <td>1</td>\n",
       "    </tr>\n",
       "    <tr>\n",
       "      <th>5</th>\n",
       "      <td>6</td>\n",
       "      <td>0.0</td>\n",
       "      <td>3</td>\n",
       "      <td>1</td>\n",
       "      <td>25.0</td>\n",
       "      <td>0</td>\n",
       "      <td>0</td>\n",
       "      <td>8.4583</td>\n",
       "      <td>NaN</td>\n",
       "      <td>0</td>\n",
       "      <td>...</td>\n",
       "      <td>0</td>\n",
       "      <td>0</td>\n",
       "      <td>0</td>\n",
       "      <td>0</td>\n",
       "      <td>0</td>\n",
       "      <td>0</td>\n",
       "      <td>0</td>\n",
       "      <td>0</td>\n",
       "      <td>0</td>\n",
       "      <td>1</td>\n",
       "    </tr>\n",
       "    <tr>\n",
       "      <th>6</th>\n",
       "      <td>7</td>\n",
       "      <td>0.0</td>\n",
       "      <td>1</td>\n",
       "      <td>1</td>\n",
       "      <td>54.0</td>\n",
       "      <td>0</td>\n",
       "      <td>0</td>\n",
       "      <td>51.8625</td>\n",
       "      <td>E46</td>\n",
       "      <td>0</td>\n",
       "      <td>...</td>\n",
       "      <td>0</td>\n",
       "      <td>0</td>\n",
       "      <td>0</td>\n",
       "      <td>0</td>\n",
       "      <td>0</td>\n",
       "      <td>0</td>\n",
       "      <td>0</td>\n",
       "      <td>0</td>\n",
       "      <td>0</td>\n",
       "      <td>1</td>\n",
       "    </tr>\n",
       "    <tr>\n",
       "      <th>7</th>\n",
       "      <td>8</td>\n",
       "      <td>0.0</td>\n",
       "      <td>3</td>\n",
       "      <td>1</td>\n",
       "      <td>2.0</td>\n",
       "      <td>3</td>\n",
       "      <td>1</td>\n",
       "      <td>21.0750</td>\n",
       "      <td>NaN</td>\n",
       "      <td>1</td>\n",
       "      <td>...</td>\n",
       "      <td>0</td>\n",
       "      <td>0</td>\n",
       "      <td>0</td>\n",
       "      <td>0</td>\n",
       "      <td>0</td>\n",
       "      <td>0</td>\n",
       "      <td>0</td>\n",
       "      <td>0</td>\n",
       "      <td>0</td>\n",
       "      <td>1</td>\n",
       "    </tr>\n",
       "    <tr>\n",
       "      <th>8</th>\n",
       "      <td>9</td>\n",
       "      <td>1.0</td>\n",
       "      <td>3</td>\n",
       "      <td>0</td>\n",
       "      <td>27.0</td>\n",
       "      <td>0</td>\n",
       "      <td>2</td>\n",
       "      <td>11.1333</td>\n",
       "      <td>NaN</td>\n",
       "      <td>0</td>\n",
       "      <td>...</td>\n",
       "      <td>0</td>\n",
       "      <td>0</td>\n",
       "      <td>0</td>\n",
       "      <td>0</td>\n",
       "      <td>0</td>\n",
       "      <td>0</td>\n",
       "      <td>0</td>\n",
       "      <td>0</td>\n",
       "      <td>0</td>\n",
       "      <td>1</td>\n",
       "    </tr>\n",
       "    <tr>\n",
       "      <th>9</th>\n",
       "      <td>10</td>\n",
       "      <td>1.0</td>\n",
       "      <td>2</td>\n",
       "      <td>0</td>\n",
       "      <td>14.0</td>\n",
       "      <td>1</td>\n",
       "      <td>0</td>\n",
       "      <td>30.0708</td>\n",
       "      <td>NaN</td>\n",
       "      <td>0</td>\n",
       "      <td>...</td>\n",
       "      <td>0</td>\n",
       "      <td>0</td>\n",
       "      <td>0</td>\n",
       "      <td>0</td>\n",
       "      <td>0</td>\n",
       "      <td>0</td>\n",
       "      <td>0</td>\n",
       "      <td>0</td>\n",
       "      <td>0</td>\n",
       "      <td>1</td>\n",
       "    </tr>\n",
       "  </tbody>\n",
       "</table>\n",
       "<p>10 rows × 56 columns</p>\n",
       "</div>"
      ],
      "text/plain": [
       "   PassengerId  Survived  Pclass  Sex   Age  SibSp  Parch     Fare Cabin  \\\n",
       "0            1       0.0       3    1  22.0      1      0   7.2500   NaN   \n",
       "1            2       1.0       1    0  38.0      1      0  71.2833   C85   \n",
       "2            3       1.0       3    0  26.0      0      0   7.9250   NaN   \n",
       "3            4       1.0       1    0  35.0      1      0  53.1000  C123   \n",
       "4            5       0.0       3    1  35.0      0      0   8.0500   NaN   \n",
       "5            6       0.0       3    1  25.0      0      0   8.4583   NaN   \n",
       "6            7       0.0       1    1  54.0      0      0  51.8625   E46   \n",
       "7            8       0.0       3    1   2.0      3      1  21.0750   NaN   \n",
       "8            9       1.0       3    0  27.0      0      2  11.1333   NaN   \n",
       "9           10       1.0       2    0  14.0      1      0  30.0708   NaN   \n",
       "\n",
       "   Title_0  ...  T_SOTONO2  T_SOTONOQ  T_SP  T_STONO  T_STONO2  T_STONOQ  \\\n",
       "0        0  ...          0          0     0        0         0         0   \n",
       "1        0  ...          0          0     0        0         0         0   \n",
       "2        0  ...          0          0     0        0         1         0   \n",
       "3        0  ...          0          0     0        0         0         0   \n",
       "4        0  ...          0          0     0        0         0         0   \n",
       "5        0  ...          0          0     0        0         0         0   \n",
       "6        0  ...          0          0     0        0         0         0   \n",
       "7        1  ...          0          0     0        0         0         0   \n",
       "8        0  ...          0          0     0        0         0         0   \n",
       "9        0  ...          0          0     0        0         0         0   \n",
       "\n",
       "   T_SWPP  T_WC  T_WEP  T_x  \n",
       "0       0     0      0    0  \n",
       "1       0     0      0    0  \n",
       "2       0     0      0    0  \n",
       "3       0     0      0    1  \n",
       "4       0     0      0    1  \n",
       "5       0     0      0    1  \n",
       "6       0     0      0    1  \n",
       "7       0     0      0    1  \n",
       "8       0     0      0    1  \n",
       "9       0     0      0    1  \n",
       "\n",
       "[10 rows x 56 columns]"
      ]
     },
     "execution_count": 74,
     "metadata": {},
     "output_type": "execute_result"
    }
   ],
   "source": [
    "train_df = pd.get_dummies(train_df , columns = [\"Ticket\"], prefix = \"T\")\n",
    "train_df.head(10)"
   ]
  },
  {
   "cell_type": "markdown",
   "id": "c08b2411",
   "metadata": {
    "papermill": {
     "duration": 0.04383,
     "end_time": "2023-08-22T12:33:05.545974",
     "exception": false,
     "start_time": "2023-08-22T12:33:05.502144",
     "status": "completed"
    },
    "tags": []
   },
   "source": [
    "<a id = \"26\"></a><br>\n",
    "## Pclass"
   ]
  },
  {
   "cell_type": "code",
   "execution_count": 75,
   "id": "4d2c88e9",
   "metadata": {
    "execution": {
     "iopub.execute_input": "2023-08-22T12:33:05.635913Z",
     "iopub.status.busy": "2023-08-22T12:33:05.634960Z",
     "iopub.status.idle": "2023-08-22T12:33:05.818724Z",
     "shell.execute_reply": "2023-08-22T12:33:05.817635Z"
    },
    "papermill": {
     "duration": 0.231045,
     "end_time": "2023-08-22T12:33:05.820853",
     "exception": false,
     "start_time": "2023-08-22T12:33:05.589808",
     "status": "completed"
    },
    "tags": []
   },
   "outputs": [
    {
     "data": {
      "image/png": "[encoded data removed]",
      "text/plain": [
       "<Figure size 640x480 with 1 Axes>"
      ]
     },
     "metadata": {},
     "output_type": "display_data"
    }
   ],
   "source": [
    "sns.countplot(x = \"Pclass\", data = train_df)\n",
    "plt.show()"
   ]
  },
  {
   "cell_type": "code",
   "execution_count": 76,
   "id": "0726a80e",
   "metadata": {
    "execution": {
     "iopub.execute_input": "2023-08-22T12:33:05.911710Z",
     "iopub.status.busy": "2023-08-22T12:33:05.910467Z",
     "iopub.status.idle": "2023-08-22T12:33:05.936227Z",
     "shell.execute_reply": "2023-08-22T12:33:05.935171Z"
    },
    "papermill": {
     "duration": 0.073578,
     "end_time": "2023-08-22T12:33:05.938722",
     "exception": false,
     "start_time": "2023-08-22T12:33:05.865144",
     "status": "completed"
    },
    "tags": []
   },
   "outputs": [
    {
     "data": {
      "text/html": [
       "<div>\n",
       "<style scoped>\n",
       "    .dataframe tbody tr th:only-of-type {\n",
       "        vertical-align: middle;\n",
       "    }\n",
       "\n",
       "    .dataframe tbody tr th {\n",
       "        vertical-align: top;\n",
       "    }\n",
       "\n",
       "    .dataframe thead th {\n",
       "        text-align: right;\n",
       "    }\n",
       "</style>\n",
       "<table border=\"1\" class=\"dataframe\">\n",
       "  <thead>\n",
       "    <tr style=\"text-align: right;\">\n",
       "      <th></th>\n",
       "      <th>PassengerId</th>\n",
       "      <th>Survived</th>\n",
       "      <th>Sex</th>\n",
       "      <th>Age</th>\n",
       "      <th>SibSp</th>\n",
       "      <th>Parch</th>\n",
       "      <th>Fare</th>\n",
       "      <th>Cabin</th>\n",
       "      <th>Title_0</th>\n",
       "      <th>Title_1</th>\n",
       "      <th>...</th>\n",
       "      <th>T_STONO</th>\n",
       "      <th>T_STONO2</th>\n",
       "      <th>T_STONOQ</th>\n",
       "      <th>T_SWPP</th>\n",
       "      <th>T_WC</th>\n",
       "      <th>T_WEP</th>\n",
       "      <th>T_x</th>\n",
       "      <th>Pclass_1</th>\n",
       "      <th>Pclass_2</th>\n",
       "      <th>Pclass_3</th>\n",
       "    </tr>\n",
       "  </thead>\n",
       "  <tbody>\n",
       "    <tr>\n",
       "      <th>0</th>\n",
       "      <td>1</td>\n",
       "      <td>0.0</td>\n",
       "      <td>1</td>\n",
       "      <td>22.0</td>\n",
       "      <td>1</td>\n",
       "      <td>0</td>\n",
       "      <td>7.2500</td>\n",
       "      <td>NaN</td>\n",
       "      <td>0</td>\n",
       "      <td>0</td>\n",
       "      <td>...</td>\n",
       "      <td>0</td>\n",
       "      <td>0</td>\n",
       "      <td>0</td>\n",
       "      <td>0</td>\n",
       "      <td>0</td>\n",
       "      <td>0</td>\n",
       "      <td>0</td>\n",
       "      <td>0</td>\n",
       "      <td>0</td>\n",
       "      <td>1</td>\n",
       "    </tr>\n",
       "    <tr>\n",
       "      <th>1</th>\n",
       "      <td>2</td>\n",
       "      <td>1.0</td>\n",
       "      <td>0</td>\n",
       "      <td>38.0</td>\n",
       "      <td>1</td>\n",
       "      <td>0</td>\n",
       "      <td>71.2833</td>\n",
       "      <td>C85</td>\n",
       "      <td>0</td>\n",
       "      <td>1</td>\n",
       "      <td>...</td>\n",
       "      <td>0</td>\n",
       "      <td>0</td>\n",
       "      <td>0</td>\n",
       "      <td>0</td>\n",
       "      <td>0</td>\n",
       "      <td>0</td>\n",
       "      <td>0</td>\n",
       "      <td>1</td>\n",
       "      <td>0</td>\n",
       "      <td>0</td>\n",
       "    </tr>\n",
       "    <tr>\n",
       "      <th>2</th>\n",
       "      <td>3</td>\n",
       "      <td>1.0</td>\n",
       "      <td>0</td>\n",
       "      <td>26.0</td>\n",
       "      <td>0</td>\n",
       "      <td>0</td>\n",
       "      <td>7.9250</td>\n",
       "      <td>NaN</td>\n",
       "      <td>0</td>\n",
       "      <td>1</td>\n",
       "      <td>...</td>\n",
       "      <td>0</td>\n",
       "      <td>1</td>\n",
       "      <td>0</td>\n",
       "      <td>0</td>\n",
       "      <td>0</td>\n",
       "      <td>0</td>\n",
       "      <td>0</td>\n",
       "      <td>0</td>\n",
       "      <td>0</td>\n",
       "      <td>1</td>\n",
       "    </tr>\n",
       "    <tr>\n",
       "      <th>3</th>\n",
       "      <td>4</td>\n",
       "      <td>1.0</td>\n",
       "      <td>0</td>\n",
       "      <td>35.0</td>\n",
       "      <td>1</td>\n",
       "      <td>0</td>\n",
       "      <td>53.1000</td>\n",
       "      <td>C123</td>\n",
       "      <td>0</td>\n",
       "      <td>1</td>\n",
       "      <td>...</td>\n",
       "      <td>0</td>\n",
       "      <td>0</td>\n",
       "      <td>0</td>\n",
       "      <td>0</td>\n",
       "      <td>0</td>\n",
       "      <td>0</td>\n",
       "      <td>1</td>\n",
       "      <td>1</td>\n",
       "      <td>0</td>\n",
       "      <td>0</td>\n",
       "    </tr>\n",
       "    <tr>\n",
       "      <th>4</th>\n",
       "      <td>5</td>\n",
       "      <td>0.0</td>\n",
       "      <td>1</td>\n",
       "      <td>35.0</td>\n",
       "      <td>0</td>\n",
       "      <td>0</td>\n",
       "      <td>8.0500</td>\n",
       "      <td>NaN</td>\n",
       "      <td>0</td>\n",
       "      <td>0</td>\n",
       "      <td>...</td>\n",
       "      <td>0</td>\n",
       "      <td>0</td>\n",
       "      <td>0</td>\n",
       "      <td>0</td>\n",
       "      <td>0</td>\n",
       "      <td>0</td>\n",
       "      <td>1</td>\n",
       "      <td>0</td>\n",
       "      <td>0</td>\n",
       "      <td>1</td>\n",
       "    </tr>\n",
       "  </tbody>\n",
       "</table>\n",
       "<p>5 rows × 58 columns</p>\n",
       "</div>"
      ],
      "text/plain": [
       "   PassengerId  Survived  Sex   Age  SibSp  Parch     Fare Cabin  Title_0  \\\n",
       "0            1       0.0    1  22.0      1      0   7.2500   NaN        0   \n",
       "1            2       1.0    0  38.0      1      0  71.2833   C85        0   \n",
       "2            3       1.0    0  26.0      0      0   7.9250   NaN        0   \n",
       "3            4       1.0    0  35.0      1      0  53.1000  C123        0   \n",
       "4            5       0.0    1  35.0      0      0   8.0500   NaN        0   \n",
       "\n",
       "   Title_1  ...  T_STONO  T_STONO2  T_STONOQ  T_SWPP  T_WC  T_WEP  T_x  \\\n",
       "0        0  ...        0         0         0       0     0      0    0   \n",
       "1        1  ...        0         0         0       0     0      0    0   \n",
       "2        1  ...        0         1         0       0     0      0    0   \n",
       "3        1  ...        0         0         0       0     0      0    1   \n",
       "4        0  ...        0         0         0       0     0      0    1   \n",
       "\n",
       "   Pclass_1  Pclass_2  Pclass_3  \n",
       "0         0         0         1  \n",
       "1         1         0         0  \n",
       "2         0         0         1  \n",
       "3         1         0         0  \n",
       "4         0         0         1  \n",
       "\n",
       "[5 rows x 58 columns]"
      ]
     },
     "execution_count": 76,
     "metadata": {},
     "output_type": "execute_result"
    }
   ],
   "source": [
    "train_df[\"Pclass\"] = train_df[\"Pclass\"].astype(\"category\")\n",
    "train_df = pd.get_dummies(train_df, columns = [\"Pclass\"])\n",
    "train_df.head()"
   ]
  },
  {
   "cell_type": "markdown",
   "id": "0a5a1827",
   "metadata": {
    "papermill": {
     "duration": 0.04792,
     "end_time": "2023-08-22T12:33:06.032882",
     "exception": false,
     "start_time": "2023-08-22T12:33:05.984962",
     "status": "completed"
    },
    "tags": []
   },
   "source": [
    "<a id = \"27\"></a><br>\n",
    "## Sex"
   ]
  },
  {
   "cell_type": "code",
   "execution_count": 77,
   "id": "9a8a2d92",
   "metadata": {
    "execution": {
     "iopub.execute_input": "2023-08-22T12:33:06.127660Z",
     "iopub.status.busy": "2023-08-22T12:33:06.126990Z",
     "iopub.status.idle": "2023-08-22T12:33:06.151454Z",
     "shell.execute_reply": "2023-08-22T12:33:06.150388Z"
    },
    "papermill": {
     "duration": 0.074416,
     "end_time": "2023-08-22T12:33:06.153753",
     "exception": false,
     "start_time": "2023-08-22T12:33:06.079337",
     "status": "completed"
    },
    "tags": []
   },
   "outputs": [
    {
     "data": {
      "text/html": [
       "<div>\n",
       "<style scoped>\n",
       "    .dataframe tbody tr th:only-of-type {\n",
       "        vertical-align: middle;\n",
       "    }\n",
       "\n",
       "    .dataframe tbody tr th {\n",
       "        vertical-align: top;\n",
       "    }\n",
       "\n",
       "    .dataframe thead th {\n",
       "        text-align: right;\n",
       "    }\n",
       "</style>\n",
       "<table border=\"1\" class=\"dataframe\">\n",
       "  <thead>\n",
       "    <tr style=\"text-align: right;\">\n",
       "      <th></th>\n",
       "      <th>PassengerId</th>\n",
       "      <th>Survived</th>\n",
       "      <th>Age</th>\n",
       "      <th>SibSp</th>\n",
       "      <th>Parch</th>\n",
       "      <th>Fare</th>\n",
       "      <th>Cabin</th>\n",
       "      <th>Title_0</th>\n",
       "      <th>Title_1</th>\n",
       "      <th>Title_2</th>\n",
       "      <th>...</th>\n",
       "      <th>T_STONOQ</th>\n",
       "      <th>T_SWPP</th>\n",
       "      <th>T_WC</th>\n",
       "      <th>T_WEP</th>\n",
       "      <th>T_x</th>\n",
       "      <th>Pclass_1</th>\n",
       "      <th>Pclass_2</th>\n",
       "      <th>Pclass_3</th>\n",
       "      <th>Sex_0</th>\n",
       "      <th>Sex_1</th>\n",
       "    </tr>\n",
       "  </thead>\n",
       "  <tbody>\n",
       "    <tr>\n",
       "      <th>0</th>\n",
       "      <td>1</td>\n",
       "      <td>0.0</td>\n",
       "      <td>22.0</td>\n",
       "      <td>1</td>\n",
       "      <td>0</td>\n",
       "      <td>7.2500</td>\n",
       "      <td>NaN</td>\n",
       "      <td>0</td>\n",
       "      <td>0</td>\n",
       "      <td>1</td>\n",
       "      <td>...</td>\n",
       "      <td>0</td>\n",
       "      <td>0</td>\n",
       "      <td>0</td>\n",
       "      <td>0</td>\n",
       "      <td>0</td>\n",
       "      <td>0</td>\n",
       "      <td>0</td>\n",
       "      <td>1</td>\n",
       "      <td>0</td>\n",
       "      <td>1</td>\n",
       "    </tr>\n",
       "    <tr>\n",
       "      <th>1</th>\n",
       "      <td>2</td>\n",
       "      <td>1.0</td>\n",
       "      <td>38.0</td>\n",
       "      <td>1</td>\n",
       "      <td>0</td>\n",
       "      <td>71.2833</td>\n",
       "      <td>C85</td>\n",
       "      <td>0</td>\n",
       "      <td>1</td>\n",
       "      <td>0</td>\n",
       "      <td>...</td>\n",
       "      <td>0</td>\n",
       "      <td>0</td>\n",
       "      <td>0</td>\n",
       "      <td>0</td>\n",
       "      <td>0</td>\n",
       "      <td>1</td>\n",
       "      <td>0</td>\n",
       "      <td>0</td>\n",
       "      <td>1</td>\n",
       "      <td>0</td>\n",
       "    </tr>\n",
       "    <tr>\n",
       "      <th>2</th>\n",
       "      <td>3</td>\n",
       "      <td>1.0</td>\n",
       "      <td>26.0</td>\n",
       "      <td>0</td>\n",
       "      <td>0</td>\n",
       "      <td>7.9250</td>\n",
       "      <td>NaN</td>\n",
       "      <td>0</td>\n",
       "      <td>1</td>\n",
       "      <td>0</td>\n",
       "      <td>...</td>\n",
       "      <td>0</td>\n",
       "      <td>0</td>\n",
       "      <td>0</td>\n",
       "      <td>0</td>\n",
       "      <td>0</td>\n",
       "      <td>0</td>\n",
       "      <td>0</td>\n",
       "      <td>1</td>\n",
       "      <td>1</td>\n",
       "      <td>0</td>\n",
       "    </tr>\n",
       "    <tr>\n",
       "      <th>3</th>\n",
       "      <td>4</td>\n",
       "      <td>1.0</td>\n",
       "      <td>35.0</td>\n",
       "      <td>1</td>\n",
       "      <td>0</td>\n",
       "      <td>53.1000</td>\n",
       "      <td>C123</td>\n",
       "      <td>0</td>\n",
       "      <td>1</td>\n",
       "      <td>0</td>\n",
       "      <td>...</td>\n",
       "      <td>0</td>\n",
       "      <td>0</td>\n",
       "      <td>0</td>\n",
       "      <td>0</td>\n",
       "      <td>1</td>\n",
       "      <td>1</td>\n",
       "      <td>0</td>\n",
       "      <td>0</td>\n",
       "      <td>1</td>\n",
       "      <td>0</td>\n",
       "    </tr>\n",
       "    <tr>\n",
       "      <th>4</th>\n",
       "      <td>5</td>\n",
       "      <td>0.0</td>\n",
       "      <td>35.0</td>\n",
       "      <td>0</td>\n",
       "      <td>0</td>\n",
       "      <td>8.0500</td>\n",
       "      <td>NaN</td>\n",
       "      <td>0</td>\n",
       "      <td>0</td>\n",
       "      <td>1</td>\n",
       "      <td>...</td>\n",
       "      <td>0</td>\n",
       "      <td>0</td>\n",
       "      <td>0</td>\n",
       "      <td>0</td>\n",
       "      <td>1</td>\n",
       "      <td>0</td>\n",
       "      <td>0</td>\n",
       "      <td>1</td>\n",
       "      <td>0</td>\n",
       "      <td>1</td>\n",
       "    </tr>\n",
       "  </tbody>\n",
       "</table>\n",
       "<p>5 rows × 59 columns</p>\n",
       "</div>"
      ],
      "text/plain": [
       "   PassengerId  Survived   Age  SibSp  Parch     Fare Cabin  Title_0  Title_1  \\\n",
       "0            1       0.0  22.0      1      0   7.2500   NaN        0        0   \n",
       "1            2       1.0  38.0      1      0  71.2833   C85        0        1   \n",
       "2            3       1.0  26.0      0      0   7.9250   NaN        0        1   \n",
       "3            4       1.0  35.0      1      0  53.1000  C123        0        1   \n",
       "4            5       0.0  35.0      0      0   8.0500   NaN        0        0   \n",
       "\n",
       "   Title_2  ...  T_STONOQ  T_SWPP  T_WC  T_WEP  T_x  Pclass_1  Pclass_2  \\\n",
       "0        1  ...         0       0     0      0    0         0         0   \n",
       "1        0  ...         0       0     0      0    0         1         0   \n",
       "2        0  ...         0       0     0      0    0         0         0   \n",
       "3        0  ...         0       0     0      0    1         1         0   \n",
       "4        1  ...         0       0     0      0    1         0         0   \n",
       "\n",
       "   Pclass_3  Sex_0  Sex_1  \n",
       "0         1      0      1  \n",
       "1         0      1      0  \n",
       "2         1      1      0  \n",
       "3         0      1      0  \n",
       "4         1      0      1  \n",
       "\n",
       "[5 rows x 59 columns]"
      ]
     },
     "execution_count": 77,
     "metadata": {},
     "output_type": "execute_result"
    }
   ],
   "source": [
    "train_df[\"Sex\"] = train_df[\"Sex\"].astype(\"category\")\n",
    "train_df = pd.get_dummies(train_df, columns = [\"Sex\"])\n",
    "train_df.head()"
   ]
  },
  {
   "cell_type": "markdown",
   "id": "9ad67571",
   "metadata": {
    "papermill": {
     "duration": 0.045603,
     "end_time": "2023-08-22T12:33:06.245001",
     "exception": false,
     "start_time": "2023-08-22T12:33:06.199398",
     "status": "completed"
    },
    "tags": []
   },
   "source": [
    "<a id = \"28\"></a><br>\n",
    "## Drop PassengerId and Cabin"
   ]
  },
  {
   "cell_type": "code",
   "execution_count": 78,
   "id": "24083c8f",
   "metadata": {
    "execution": {
     "iopub.execute_input": "2023-08-22T12:33:06.337464Z",
     "iopub.status.busy": "2023-08-22T12:33:06.337064Z",
     "iopub.status.idle": "2023-08-22T12:33:06.343197Z",
     "shell.execute_reply": "2023-08-22T12:33:06.342161Z"
    },
    "papermill": {
     "duration": 0.054977,
     "end_time": "2023-08-22T12:33:06.345305",
     "exception": false,
     "start_time": "2023-08-22T12:33:06.290328",
     "status": "completed"
    },
    "tags": []
   },
   "outputs": [],
   "source": [
    "train_df.drop(labels = [\"PassengerId\", \"Cabin\"], axis = 1, inplace = True)"
   ]
  },
  {
   "cell_type": "code",
   "execution_count": 79,
   "id": "d1976e98",
   "metadata": {
    "execution": {
     "iopub.execute_input": "2023-08-22T12:33:06.440409Z",
     "iopub.status.busy": "2023-08-22T12:33:06.439129Z",
     "iopub.status.idle": "2023-08-22T12:33:06.446562Z",
     "shell.execute_reply": "2023-08-22T12:33:06.445765Z"
    },
    "papermill": {
     "duration": 0.056219,
     "end_time": "2023-08-22T12:33:06.448372",
     "exception": false,
     "start_time": "2023-08-22T12:33:06.392153",
     "status": "completed"
    },
    "tags": []
   },
   "outputs": [
    {
     "data": {
      "text/plain": [
       "Index(['Survived', 'Age', 'SibSp', 'Parch', 'Fare', 'Title_0', 'Title_1',\n",
       "       'Title_2', 'Title_3', 'Fsize', 'family_size_0', 'family_size_1',\n",
       "       'Embarked_C', 'Embarked_Q', 'Embarked_S', 'T_A', 'T_A4', 'T_A5',\n",
       "       'T_AQ3', 'T_AQ4', 'T_AS', 'T_C', 'T_CA', 'T_CASOTON', 'T_FC', 'T_FCC',\n",
       "       'T_Fa', 'T_LINE', 'T_LP', 'T_PC', 'T_PP', 'T_PPP', 'T_SC', 'T_SCA3',\n",
       "       'T_SCA4', 'T_SCAH', 'T_SCOW', 'T_SCPARIS', 'T_SCParis', 'T_SOC',\n",
       "       'T_SOP', 'T_SOPP', 'T_SOTONO2', 'T_SOTONOQ', 'T_SP', 'T_STONO',\n",
       "       'T_STONO2', 'T_STONOQ', 'T_SWPP', 'T_WC', 'T_WEP', 'T_x', 'Pclass_1',\n",
       "       'Pclass_2', 'Pclass_3', 'Sex_0', 'Sex_1'],\n",
       "      dtype='object')"
      ]
     },
     "execution_count": 79,
     "metadata": {},
     "output_type": "execute_result"
    }
   ],
   "source": [
    "train_df.columns"
   ]
  },
  {
   "cell_type": "markdown",
   "id": "ffc32f38",
   "metadata": {
    "papermill": {
     "duration": 0.045061,
     "end_time": "2023-08-22T12:33:06.538569",
     "exception": false,
     "start_time": "2023-08-22T12:33:06.493508",
     "status": "completed"
    },
    "tags": []
   },
   "source": [
    "<a id = \"29\"></a><br>\n",
    "* # Modeling"
   ]
  },
  {
   "cell_type": "code",
   "execution_count": 80,
   "id": "5da53ad1",
   "metadata": {
    "execution": {
     "iopub.execute_input": "2023-08-22T12:33:06.631056Z",
     "iopub.status.busy": "2023-08-22T12:33:06.629931Z",
     "iopub.status.idle": "2023-08-22T12:33:07.228298Z",
     "shell.execute_reply": "2023-08-22T12:33:07.227226Z"
    },
    "papermill": {
     "duration": 0.647156,
     "end_time": "2023-08-22T12:33:07.230739",
     "exception": false,
     "start_time": "2023-08-22T12:33:06.583583",
     "status": "completed"
    },
    "tags": []
   },
   "outputs": [],
   "source": [
    "from sklearn.model_selection import train_test_split, StratifiedKFold, GridSearchCV\n",
    "from sklearn.linear_model import LogisticRegression\n",
    "from sklearn.svm import SVC\n",
    "from sklearn.ensemble import RandomForestClassifier, VotingClassifier\n",
    "from sklearn.neighbors import KNeighborsClassifier\n",
    "from sklearn.tree import DecisionTreeClassifier\n",
    "from sklearn.metrics import accuracy_score"
   ]
  },
  {
   "cell_type": "markdown",
   "id": "10e926b7",
   "metadata": {
    "papermill": {
     "duration": 0.04507,
     "end_time": "2023-08-22T12:33:07.321522",
     "exception": false,
     "start_time": "2023-08-22T12:33:07.276452",
     "status": "completed"
    },
    "tags": []
   },
   "source": [
    "<a id = \"30\"></a><br>\n",
    "## Normalization"
   ]
  },
  {
   "cell_type": "code",
   "execution_count": 81,
   "id": "b7205efa",
   "metadata": {
    "execution": {
     "iopub.execute_input": "2023-08-22T12:33:07.415094Z",
     "iopub.status.busy": "2023-08-22T12:33:07.414009Z",
     "iopub.status.idle": "2023-08-22T12:33:07.425909Z",
     "shell.execute_reply": "2023-08-22T12:33:07.424849Z"
    },
    "papermill": {
     "duration": 0.061169,
     "end_time": "2023-08-22T12:33:07.428149",
     "exception": false,
     "start_time": "2023-08-22T12:33:07.366980",
     "status": "completed"
    },
    "tags": []
   },
   "outputs": [],
   "source": [
    "train_df = (train_df-np.min(train_df)) / (np.max(train_df)-np.min(train_df))"
   ]
  },
  {
   "cell_type": "markdown",
   "id": "6a136b39",
   "metadata": {
    "papermill": {
     "duration": 0.045285,
     "end_time": "2023-08-22T12:33:07.519177",
     "exception": false,
     "start_time": "2023-08-22T12:33:07.473892",
     "status": "completed"
    },
    "tags": []
   },
   "source": [
    "<a id = \"31\"></a><br>\n",
    "## Train - Test Split"
   ]
  },
  {
   "cell_type": "code",
   "execution_count": 82,
   "id": "8438300b",
   "metadata": {
    "execution": {
     "iopub.execute_input": "2023-08-22T12:33:07.612148Z",
     "iopub.status.busy": "2023-08-22T12:33:07.611131Z",
     "iopub.status.idle": "2023-08-22T12:33:07.617976Z",
     "shell.execute_reply": "2023-08-22T12:33:07.616991Z"
    },
    "papermill": {
     "duration": 0.055741,
     "end_time": "2023-08-22T12:33:07.620085",
     "exception": false,
     "start_time": "2023-08-22T12:33:07.564344",
     "status": "completed"
    },
    "tags": []
   },
   "outputs": [
    {
     "data": {
      "text/plain": [
       "881"
      ]
     },
     "execution_count": 82,
     "metadata": {},
     "output_type": "execute_result"
    }
   ],
   "source": [
    "train_df_len"
   ]
  },
  {
   "cell_type": "code",
   "execution_count": 83,
   "id": "9d83c327",
   "metadata": {
    "execution": {
     "iopub.execute_input": "2023-08-22T12:33:07.712812Z",
     "iopub.status.busy": "2023-08-22T12:33:07.711670Z",
     "iopub.status.idle": "2023-08-22T12:33:07.739613Z",
     "shell.execute_reply": "2023-08-22T12:33:07.738823Z"
    },
    "papermill": {
     "duration": 0.076426,
     "end_time": "2023-08-22T12:33:07.741485",
     "exception": false,
     "start_time": "2023-08-22T12:33:07.665059",
     "status": "completed"
    },
    "tags": []
   },
   "outputs": [
    {
     "data": {
      "text/html": [
       "<div>\n",
       "<style scoped>\n",
       "    .dataframe tbody tr th:only-of-type {\n",
       "        vertical-align: middle;\n",
       "    }\n",
       "\n",
       "    .dataframe tbody tr th {\n",
       "        vertical-align: top;\n",
       "    }\n",
       "\n",
       "    .dataframe thead th {\n",
       "        text-align: right;\n",
       "    }\n",
       "</style>\n",
       "<table border=\"1\" class=\"dataframe\">\n",
       "  <thead>\n",
       "    <tr style=\"text-align: right;\">\n",
       "      <th></th>\n",
       "      <th>Survived</th>\n",
       "      <th>Age</th>\n",
       "      <th>SibSp</th>\n",
       "      <th>Parch</th>\n",
       "      <th>Fare</th>\n",
       "      <th>Title_0</th>\n",
       "      <th>Title_1</th>\n",
       "      <th>Title_2</th>\n",
       "      <th>Title_3</th>\n",
       "      <th>Fsize</th>\n",
       "      <th>...</th>\n",
       "      <th>T_STONOQ</th>\n",
       "      <th>T_SWPP</th>\n",
       "      <th>T_WC</th>\n",
       "      <th>T_WEP</th>\n",
       "      <th>T_x</th>\n",
       "      <th>Pclass_1</th>\n",
       "      <th>Pclass_2</th>\n",
       "      <th>Pclass_3</th>\n",
       "      <th>Sex_0</th>\n",
       "      <th>Sex_1</th>\n",
       "    </tr>\n",
       "  </thead>\n",
       "  <tbody>\n",
       "    <tr>\n",
       "      <th>0</th>\n",
       "      <td>0.0</td>\n",
       "      <td>0.273456</td>\n",
       "      <td>0.125</td>\n",
       "      <td>0.0</td>\n",
       "      <td>0.014151</td>\n",
       "      <td>0.0</td>\n",
       "      <td>0.0</td>\n",
       "      <td>1.0</td>\n",
       "      <td>0.0</td>\n",
       "      <td>0.1</td>\n",
       "      <td>...</td>\n",
       "      <td>0.0</td>\n",
       "      <td>0.0</td>\n",
       "      <td>0.0</td>\n",
       "      <td>0.0</td>\n",
       "      <td>0.0</td>\n",
       "      <td>0.0</td>\n",
       "      <td>0.0</td>\n",
       "      <td>1.0</td>\n",
       "      <td>0.0</td>\n",
       "      <td>1.0</td>\n",
       "    </tr>\n",
       "    <tr>\n",
       "      <th>1</th>\n",
       "      <td>1.0</td>\n",
       "      <td>0.473882</td>\n",
       "      <td>0.125</td>\n",
       "      <td>0.0</td>\n",
       "      <td>0.139136</td>\n",
       "      <td>0.0</td>\n",
       "      <td>1.0</td>\n",
       "      <td>0.0</td>\n",
       "      <td>0.0</td>\n",
       "      <td>0.1</td>\n",
       "      <td>...</td>\n",
       "      <td>0.0</td>\n",
       "      <td>0.0</td>\n",
       "      <td>0.0</td>\n",
       "      <td>0.0</td>\n",
       "      <td>0.0</td>\n",
       "      <td>1.0</td>\n",
       "      <td>0.0</td>\n",
       "      <td>0.0</td>\n",
       "      <td>1.0</td>\n",
       "      <td>0.0</td>\n",
       "    </tr>\n",
       "    <tr>\n",
       "      <th>2</th>\n",
       "      <td>1.0</td>\n",
       "      <td>0.323563</td>\n",
       "      <td>0.000</td>\n",
       "      <td>0.0</td>\n",
       "      <td>0.015469</td>\n",
       "      <td>0.0</td>\n",
       "      <td>1.0</td>\n",
       "      <td>0.0</td>\n",
       "      <td>0.0</td>\n",
       "      <td>0.0</td>\n",
       "      <td>...</td>\n",
       "      <td>0.0</td>\n",
       "      <td>0.0</td>\n",
       "      <td>0.0</td>\n",
       "      <td>0.0</td>\n",
       "      <td>0.0</td>\n",
       "      <td>0.0</td>\n",
       "      <td>0.0</td>\n",
       "      <td>1.0</td>\n",
       "      <td>1.0</td>\n",
       "      <td>0.0</td>\n",
       "    </tr>\n",
       "    <tr>\n",
       "      <th>3</th>\n",
       "      <td>1.0</td>\n",
       "      <td>0.436302</td>\n",
       "      <td>0.125</td>\n",
       "      <td>0.0</td>\n",
       "      <td>0.103644</td>\n",
       "      <td>0.0</td>\n",
       "      <td>1.0</td>\n",
       "      <td>0.0</td>\n",
       "      <td>0.0</td>\n",
       "      <td>0.1</td>\n",
       "      <td>...</td>\n",
       "      <td>0.0</td>\n",
       "      <td>0.0</td>\n",
       "      <td>0.0</td>\n",
       "      <td>0.0</td>\n",
       "      <td>1.0</td>\n",
       "      <td>1.0</td>\n",
       "      <td>0.0</td>\n",
       "      <td>0.0</td>\n",
       "      <td>1.0</td>\n",
       "      <td>0.0</td>\n",
       "    </tr>\n",
       "    <tr>\n",
       "      <th>4</th>\n",
       "      <td>0.0</td>\n",
       "      <td>0.436302</td>\n",
       "      <td>0.000</td>\n",
       "      <td>0.0</td>\n",
       "      <td>0.015713</td>\n",
       "      <td>0.0</td>\n",
       "      <td>0.0</td>\n",
       "      <td>1.0</td>\n",
       "      <td>0.0</td>\n",
       "      <td>0.0</td>\n",
       "      <td>...</td>\n",
       "      <td>0.0</td>\n",
       "      <td>0.0</td>\n",
       "      <td>0.0</td>\n",
       "      <td>0.0</td>\n",
       "      <td>1.0</td>\n",
       "      <td>0.0</td>\n",
       "      <td>0.0</td>\n",
       "      <td>1.0</td>\n",
       "      <td>0.0</td>\n",
       "      <td>1.0</td>\n",
       "    </tr>\n",
       "  </tbody>\n",
       "</table>\n",
       "<p>5 rows × 57 columns</p>\n",
       "</div>"
      ],
      "text/plain": [
       "   Survived       Age  SibSp  Parch      Fare  Title_0  Title_1  Title_2  \\\n",
       "0       0.0  0.273456  0.125    0.0  0.014151      0.0      0.0      1.0   \n",
       "1       1.0  0.473882  0.125    0.0  0.139136      0.0      1.0      0.0   \n",
       "2       1.0  0.323563  0.000    0.0  0.015469      0.0      1.0      0.0   \n",
       "3       1.0  0.436302  0.125    0.0  0.103644      0.0      1.0      0.0   \n",
       "4       0.0  0.436302  0.000    0.0  0.015713      0.0      0.0      1.0   \n",
       "\n",
       "   Title_3  Fsize  ...  T_STONOQ  T_SWPP  T_WC  T_WEP  T_x  Pclass_1  \\\n",
       "0      0.0    0.1  ...       0.0     0.0   0.0    0.0  0.0       0.0   \n",
       "1      0.0    0.1  ...       0.0     0.0   0.0    0.0  0.0       1.0   \n",
       "2      0.0    0.0  ...       0.0     0.0   0.0    0.0  0.0       0.0   \n",
       "3      0.0    0.1  ...       0.0     0.0   0.0    0.0  1.0       1.0   \n",
       "4      0.0    0.0  ...       0.0     0.0   0.0    0.0  1.0       0.0   \n",
       "\n",
       "   Pclass_2  Pclass_3  Sex_0  Sex_1  \n",
       "0       0.0       1.0    0.0    1.0  \n",
       "1       0.0       0.0    1.0    0.0  \n",
       "2       0.0       1.0    1.0    0.0  \n",
       "3       0.0       0.0    1.0    0.0  \n",
       "4       0.0       1.0    0.0    1.0  \n",
       "\n",
       "[5 rows x 57 columns]"
      ]
     },
     "execution_count": 83,
     "metadata": {},
     "output_type": "execute_result"
    }
   ],
   "source": [
    "train_df.head()"
   ]
  },
  {
   "cell_type": "code",
   "execution_count": 84,
   "id": "cf2e088d",
   "metadata": {
    "execution": {
     "iopub.execute_input": "2023-08-22T12:33:07.836441Z",
     "iopub.status.busy": "2023-08-22T12:33:07.835691Z",
     "iopub.status.idle": "2023-08-22T12:33:07.842259Z",
     "shell.execute_reply": "2023-08-22T12:33:07.841373Z"
    },
    "papermill": {
     "duration": 0.055841,
     "end_time": "2023-08-22T12:33:07.844142",
     "exception": false,
     "start_time": "2023-08-22T12:33:07.788301",
     "status": "completed"
    },
    "tags": []
   },
   "outputs": [],
   "source": [
    "test = train_df[train_df_len:]\n",
    "test.drop(labels = [\"Survived\"], axis = 1, inplace = True)"
   ]
  },
  {
   "cell_type": "code",
   "execution_count": 85,
   "id": "a0aaae95",
   "metadata": {
    "execution": {
     "iopub.execute_input": "2023-08-22T12:33:07.937098Z",
     "iopub.status.busy": "2023-08-22T12:33:07.936346Z",
     "iopub.status.idle": "2023-08-22T12:33:07.948015Z",
     "shell.execute_reply": "2023-08-22T12:33:07.946931Z"
    },
    "papermill": {
     "duration": 0.060417,
     "end_time": "2023-08-22T12:33:07.949924",
     "exception": false,
     "start_time": "2023-08-22T12:33:07.889507",
     "status": "completed"
    },
    "tags": []
   },
   "outputs": [
    {
     "name": "stdout",
     "output_type": "stream",
     "text": [
      "x_train 590\n",
      "x_test 291\n",
      "y_train 590\n",
      "y_test 291\n",
      "test 418\n"
     ]
    }
   ],
   "source": [
    "train = train_df[:train_df_len]\n",
    "x_train = train.drop(labels = \"Survived\", axis = 1)\n",
    "y_train = train[\"Survived\"]\n",
    "x_train, x_test, y_train, y_test = train_test_split(x_train, y_train, test_size = 0.33, random_state = 42)\n",
    "print(\"x_train\", len(x_train))\n",
    "print(\"x_test\", len(x_test))\n",
    "print(\"y_train\", len(y_train))\n",
    "print(\"y_test\", len(y_test))\n",
    "print(\"test\", len(test))"
   ]
  },
  {
   "cell_type": "markdown",
   "id": "14349b02",
   "metadata": {
    "papermill": {
     "duration": 0.046144,
     "end_time": "2023-08-22T12:33:08.168290",
     "exception": false,
     "start_time": "2023-08-22T12:33:08.122146",
     "status": "completed"
    },
    "tags": []
   },
   "source": [
    "<a id = \"31\"></a><br>\n",
    "## Simple Logistic Regression"
   ]
  },
  {
   "cell_type": "code",
   "execution_count": 86,
   "id": "091b17f5",
   "metadata": {
    "execution": {
     "iopub.execute_input": "2023-08-22T12:33:08.263144Z",
     "iopub.status.busy": "2023-08-22T12:33:08.262334Z",
     "iopub.status.idle": "2023-08-22T12:33:08.303248Z",
     "shell.execute_reply": "2023-08-22T12:33:08.301979Z"
    },
    "papermill": {
     "duration": 0.091292,
     "end_time": "2023-08-22T12:33:08.306053",
     "exception": false,
     "start_time": "2023-08-22T12:33:08.214761",
     "status": "completed"
    },
    "tags": []
   },
   "outputs": [
    {
     "name": "stdout",
     "output_type": "stream",
     "text": [
      "Training Accuracy: % 83.39\n",
      "Testing Accuracy: % 82.13\n"
     ]
    }
   ],
   "source": [
    "logreg = LogisticRegression()\n",
    "logreg.fit(x_train,y_train)\n",
    "acc_log_train = round(logreg.score(x_train,y_train)*100,2)\n",
    "acc_log_test = round(logreg.score(x_test,y_test)*100,2)\n",
    "print(\"Training Accuracy: % {}\".format(acc_log_train))\n",
    "print(\"Testing Accuracy: % {}\".format(acc_log_test))"
   ]
  },
  {
   "cell_type": "markdown",
   "id": "908107cd",
   "metadata": {
    "papermill": {
     "duration": 0.060868,
     "end_time": "2023-08-22T12:33:08.447614",
     "exception": false,
     "start_time": "2023-08-22T12:33:08.386746",
     "status": "completed"
    },
    "tags": []
   },
   "source": [
    "<a id = \"32\"></a><br>\n",
    "## Hyperparameter Tuning -- Grid Search -- Cross Validation\n",
    "We will compare 5 ML classifier and evaluate mean accuracy of each of them by stratified cross validation\n",
    "\n",
    "* Decision Tree\n",
    "* SVM\n",
    "* Random Forest\n",
    "* KNN \n",
    "* Logistic Regression"
   ]
  },
  {
   "cell_type": "code",
   "execution_count": 87,
   "id": "ca0ee4bd",
   "metadata": {
    "execution": {
     "iopub.execute_input": "2023-08-22T12:33:08.542318Z",
     "iopub.status.busy": "2023-08-22T12:33:08.541954Z",
     "iopub.status.idle": "2023-08-22T12:33:08.551310Z",
     "shell.execute_reply": "2023-08-22T12:33:08.550279Z"
    },
    "papermill": {
     "duration": 0.059306,
     "end_time": "2023-08-22T12:33:08.553215",
     "exception": false,
     "start_time": "2023-08-22T12:33:08.493909",
     "status": "completed"
    },
    "tags": []
   },
   "outputs": [],
   "source": [
    "random_state = 42\n",
    "classifier = [DecisionTreeClassifier(random_state = random_state),\n",
    "              SVC(random_state = random_state),\n",
    "              RandomForestClassifier(random_state = random_state),\n",
    "              LogisticRegression(max_iter = 1000,random_state = random_state),\n",
    "              KNeighborsClassifier()]\n",
    "\n",
    "dt_param_grid = {\"min_samples_split\": range(10,500,20),\n",
    "                 \"max_depth\": range(1,20,2)}\n",
    "\n",
    "svc_param_grid = {\"kernel\": [\"rbf\"],\n",
    "                  \"gamma\": [0.001, 0.01, 0.1, 1],\n",
    "                  \"C\": [1, 10, 50, 100, 200, 300, 1000]}\n",
    "\n",
    "rf_param_grid = {\"max_features\": [1, 3, 10],\n",
    "                 \"min_samples_split\": [2, 3, 10],\n",
    "                 \"min_samples_leaf\": [1, 3, 10],\n",
    "                 \"bootstrap\": [False],\n",
    "                 \"n_estimators\": [100, 300],\n",
    "                 \"criterion\": [\"gini\"]}\n",
    "\n",
    "logreg_param_grid = {\"C\": np.logspace(-3, 3, 7),\n",
    "                     \"penalty\": [\"l1\", \"l2\"]}\n",
    "\n",
    "knn_param_grid = {\"n_neighbors\": np.linspace(1, 19, 10, dtype = int).tolist(),\n",
    "                  \"weights\": [\"uniform\", \"distance\"],\n",
    "                  \"metric\": [\"euclidean\", \"manhattan\"]}\n",
    "\n",
    "classifier_param = [dt_param_grid,\n",
    "                    svc_param_grid,\n",
    "                    rf_param_grid,\n",
    "                    logreg_param_grid,\n",
    "                    knn_param_grid]"
   ]
  },
  {
   "cell_type": "code",
   "execution_count": 88,
   "id": "95b1ac97",
   "metadata": {
    "execution": {
     "iopub.execute_input": "2023-08-22T12:33:08.647217Z",
     "iopub.status.busy": "2023-08-22T12:33:08.646503Z",
     "iopub.status.idle": "2023-08-22T12:34:32.530022Z",
     "shell.execute_reply": "2023-08-22T12:34:32.529023Z"
    },
    "papermill": {
     "duration": 83.933299,
     "end_time": "2023-08-22T12:34:32.532382",
     "exception": false,
     "start_time": "2023-08-22T12:33:08.599083",
     "status": "completed"
    },
    "tags": []
   },
   "outputs": [
    {
     "name": "stdout",
     "output_type": "stream",
     "text": [
      "Fitting 10 folds for each of 250 candidates, totalling 2500 fits\n",
      "0.8355932203389831\n",
      "Fitting 10 folds for each of 28 candidates, totalling 280 fits\n",
      "0.852542372881356\n",
      "Fitting 10 folds for each of 54 candidates, totalling 540 fits\n",
      "0.840677966101695\n",
      "Fitting 10 folds for each of 14 candidates, totalling 140 fits\n",
      "0.8237288135593219\n",
      "Fitting 10 folds for each of 40 candidates, totalling 400 fits\n",
      "0.8186440677966103\n"
     ]
    }
   ],
   "source": [
    "cv_result = []\n",
    "best_estimators = []\n",
    "for i in range(len(classifier)):\n",
    "    clf = GridSearchCV(classifier[i], param_grid = classifier_param[i], cv = StratifiedKFold(n_splits=10), scoring = \"accuracy\", n_jobs = -1, verbose = 1)\n",
    "    clf.fit(x_train,y_train)\n",
    "    cv_result.append(clf.best_score_)\n",
    "    best_estimators.append(clf.best_estimator_)\n",
    "    print(cv_result[i])"
   ]
  },
  {
   "cell_type": "code",
   "execution_count": 89,
   "id": "fe3def63",
   "metadata": {
    "execution": {
     "iopub.execute_input": "2023-08-22T12:34:32.627628Z",
     "iopub.status.busy": "2023-08-22T12:34:32.626868Z",
     "iopub.status.idle": "2023-08-22T12:34:32.882083Z",
     "shell.execute_reply": "2023-08-22T12:34:32.880997Z"
    },
    "papermill": {
     "duration": 0.305872,
     "end_time": "2023-08-22T12:34:32.884330",
     "exception": false,
     "start_time": "2023-08-22T12:34:32.578458",
     "status": "completed"
    },
    "tags": []
   },
   "outputs": [
    {
     "data": {
      "image/png": "[encoded data removed]",
      "text/plain": [
       "<Figure size 640x480 with 1 Axes>"
      ]
     },
     "metadata": {},
     "output_type": "display_data"
    }
   ],
   "source": [
    "cv_results = pd.DataFrame({\"Cross Validation Means\":cv_result , \"ML Models\":[\"DecisionTreeClassifier\",\"SVM\",\"RandomForestClassifier\",\n",
    "                                                                            \"LogisticRegression\",\"KNeighborsClassifier\"]})\n",
    "\n",
    "g = sns.barplot(x=\"Cross Validation Means\" , y = \"ML Models\" , data = cv_results)\n",
    "g.set_xlabel(\"Mean Accuracy\")\n",
    "g.set_title(\"Cross Validation Scores\")\n",
    "plt.show()"
   ]
  },
  {
   "cell_type": "markdown",
   "id": "8feafe7a",
   "metadata": {
    "papermill": {
     "duration": 0.046818,
     "end_time": "2023-08-22T12:34:32.978679",
     "exception": false,
     "start_time": "2023-08-22T12:34:32.931861",
     "status": "completed"
    },
    "tags": []
   },
   "source": [
    "<a id = \"33\"></a><br>\n",
    "## Ensemble Modeling"
   ]
  },
  {
   "cell_type": "code",
   "execution_count": 90,
   "id": "2ebe0893",
   "metadata": {
    "execution": {
     "iopub.execute_input": "2023-08-22T12:34:33.076387Z",
     "iopub.status.busy": "2023-08-22T12:34:33.075627Z",
     "iopub.status.idle": "2023-08-22T12:34:33.871209Z",
     "shell.execute_reply": "2023-08-22T12:34:33.869995Z"
    },
    "papermill": {
     "duration": 0.846245,
     "end_time": "2023-08-22T12:34:33.873235",
     "exception": false,
     "start_time": "2023-08-22T12:34:33.026990",
     "status": "completed"
    },
    "tags": []
   },
   "outputs": [
    {
     "name": "stdout",
     "output_type": "stream",
     "text": [
      "0.8247422680412371\n"
     ]
    }
   ],
   "source": [
    "svc_classifier = SVC(probability=True)\n",
    "votingC = VotingClassifier(estimators = [(\"svc\", svc_classifier),\n",
    "                                         (\"rfc\", best_estimators[2]),\n",
    "                                         (\"dt\", best_estimators[0])],\n",
    "                                         voting = \"soft\", n_jobs = -1)\n",
    "votingC = votingC.fit(x_train, y_train)\n",
    "print(accuracy_score(votingC.predict(x_test), y_test))"
   ]
  },
  {
   "cell_type": "markdown",
   "id": "bc5add7a",
   "metadata": {
    "papermill": {
     "duration": 0.046481,
     "end_time": "2023-08-22T12:34:33.966692",
     "exception": false,
     "start_time": "2023-08-22T12:34:33.920211",
     "status": "completed"
    },
    "tags": []
   },
   "source": [
    "<a id = \"34\"></a><br>\n",
    "## Prediction"
   ]
  },
  {
   "cell_type": "code",
   "execution_count": 91,
   "id": "08e6fcdc",
   "metadata": {
    "execution": {
     "iopub.execute_input": "2023-08-22T12:34:34.065089Z",
     "iopub.status.busy": "2023-08-22T12:34:34.064157Z",
     "iopub.status.idle": "2023-08-22T12:34:34.159321Z",
     "shell.execute_reply": "2023-08-22T12:34:34.158394Z"
    },
    "papermill": {
     "duration": 0.145804,
     "end_time": "2023-08-22T12:34:34.161571",
     "exception": false,
     "start_time": "2023-08-22T12:34:34.015767",
     "status": "completed"
    },
    "tags": []
   },
   "outputs": [],
   "source": [
    "test_survived = pd.Series(votingC.predict(test), name = \"Survived\").astype(int)\n",
    "results = pd.concat([test_PassengerId, test_survived], axis = 1)\n",
    "results.to_csv(\"titanic.csv\", index = False)"
   ]
  },
  {
   "cell_type": "code",
   "execution_count": 92,
   "id": "6b5d21fc",
   "metadata": {
    "execution": {
     "iopub.execute_input": "2023-08-22T12:34:34.259017Z",
     "iopub.status.busy": "2023-08-22T12:34:34.258603Z",
     "iopub.status.idle": "2023-08-22T12:34:34.267265Z",
     "shell.execute_reply": "2023-08-22T12:34:34.266205Z"
    },
    "papermill": {
     "duration": 0.059691,
     "end_time": "2023-08-22T12:34:34.269270",
     "exception": false,
     "start_time": "2023-08-22T12:34:34.209579",
     "status": "completed"
    },
    "tags": []
   },
   "outputs": [
    {
     "data": {
      "text/plain": [
       "0      0\n",
       "1      0\n",
       "2      0\n",
       "3      0\n",
       "4      1\n",
       "      ..\n",
       "413    0\n",
       "414    1\n",
       "415    0\n",
       "416    0\n",
       "417    1\n",
       "Name: Survived, Length: 418, dtype: int32"
      ]
     },
     "execution_count": 92,
     "metadata": {},
     "output_type": "execute_result"
    }
   ],
   "source": [
    "test_survived"
   ]
  },
  {
   "cell_type": "code",
   "execution_count": 93,
   "id": "a71ddf91",
   "metadata": {},
   "outputs": [],
   "source": [
    "with open('model.pkl', 'wb') as file:\n",
    "    pickle.dump(votingC,file)"
   ]
  },
  {
   "cell_type": "code",
   "execution_count": null,
   "id": "43f06ea3",
   "metadata": {},
   "outputs": [],
   "source": []
  }
 ],
 "metadata": {
  "kernelspec": {
   "display_name": "Python 3",
   "language": "python",
   "name": "python3"
  },
  "language_info": {
   "codemirror_mode": {
    "name": "ipython",
    "version": 3
   },
   "file_extension": ".py",
   "mimetype": "text/x-python",
   "name": "python",
   "nbconvert_exporter": "python",
   "pygments_lexer": "ipython3",
   "version": "3.9.13"
  },
  "papermill": {
   "default_parameters": {},
   "duration": 127.733884,
   "end_time": "2023-08-22T12:34:36.938113",
   "environment_variables": {},
   "exception": null,
   "input_path": "__notebook__.ipynb",
   "output_path": "__notebook__.ipynb",
   "parameters": {},
   "start_time": "2023-08-22T12:32:29.204229",
   "version": "2.4.0"
  }
 },
 "nbformat": 4,
 "nbformat_minor": 5
}
